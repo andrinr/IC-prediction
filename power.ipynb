{
 "cells": [
  {
   "cell_type": "code",
   "execution_count": 1,
   "metadata": {},
   "outputs": [],
   "source": [
    "import jax.numpy as jnp\n",
    "import jax\n",
    "import matplotlib.pyplot as plt\n",
    "import os"
   ]
  },
  {
   "cell_type": "code",
   "execution_count": 2,
   "metadata": {},
   "outputs": [
    {
     "name": "stderr",
     "output_type": "stream",
     "text": [
      "No GPU/TPU found, falling back to CPU. (Set TF_CPP_MIN_LOG_LEVEL=0 and rerun for more info.)\n"
     ]
    },
    {
     "name": "stdout",
     "output_type": "stream",
     "text": [
      "['grid.00000.0', 'grid.00010.0', 'grid.00020.0', 'grid.00030.0', 'grid.00040.0', 'grid.00050.0', 'grid.00060.0', 'grid.00070.0', 'grid.00080.0', 'grid.00090.0', 'grid.00100.0']\n",
      "(11, 128, 128, 128)\n"
     ]
    }
   ],
   "source": [
    "def load_sequence(path, grid_size=128):\n",
    "    # get all files in path\n",
    "    files = os.listdir(path)\n",
    "    # sort files\n",
    "    files.sort()\n",
    "    print(files)\n",
    "    # read binary files\n",
    "    data = []\n",
    "    for file in files:\n",
    "        with open(os.path.join(path, file), 'rb') as f:\n",
    "            grid = jnp.frombuffer(f.read(), dtype=jnp.float32)\n",
    "            grid = grid.reshape(grid_size, grid_size, grid_size)\n",
    "            data.append(grid)\n",
    "\n",
    "    data = jnp.array(data)\n",
    "    \n",
    "    return data\n",
    "\n",
    "density_sequence = load_sequence('data/grid/001')\n",
    "\n",
    "\n",
    "print(density_sequence.shape)"
   ]
  },
  {
   "cell_type": "code",
   "execution_count": 3,
   "metadata": {},
   "outputs": [],
   "source": [
    "def overdensity(density):\n",
    "    mean = density.mean()\n",
    "    return (density - mean) / mean\n",
    "\n",
    "def resize_sequence(density_sequence, size):\n",
    "    resize_func = lambda x: jax.image.resize(x, (size, size, size), method='linear')\n",
    "    density_sequence = jax.vmap(resize_func)(density_sequence)\n",
    "    return density_sequence\n",
    "    \n",
    "def power(density_sequence, bins = 30, binning='linear'):\n",
    "\n",
    "    size = density_sequence.shape[1]\n",
    "\n",
    "    overdensity_sequence = jax.vmap(overdensity)(density_sequence)\n",
    "    \n",
    "    fft_sequence = jax.vmap(jnp.fft.fftn)(overdensity_sequence)\n",
    "    fft_sequence = jax.vmap(jnp.fft.fftshift)(fft_sequence)\n",
    "\n",
    "    # generate wave numbers\n",
    "    kx = jnp.fft.fftfreq(size, d=1/size)\n",
    "    ky = jnp.fft.fftfreq(size, d=1/size)\n",
    "    kz = jnp.fft.fftfreq(size, d=1/size)\n",
    "    kx, ky, kz = jnp.meshgrid(kx, ky, kz, indexing='ij')\n",
    "\n",
    "    # wave number magnitude\n",
    "    k = jnp.sqrt(kx**2 + ky**2 + kz**2)\n",
    "\n",
    "    if binning == 'log':\n",
    "        k = jnp.log10(k)\n",
    "    if binning == 'linear':\n",
    "        k = jnp.floor(k)\n",
    "\n",
    "    # obtain real space power spectrum\n",
    "    power_spectrum = jnp.abs(fft_sequence)**2\n",
    "\n",
    "    hist_func_power = lambda x: jnp.histogram(k, bins=bins, weights=x)[0]\n",
    "    f_power = jax.vmap(hist_func_power)(power_spectrum)\n",
    "\n",
    "    n_power = jnp.histogram(k, bins=bins)[0]\n",
    "\n",
    "    normalized = f_power / n_power\n",
    "    return normalized   \n",
    "\n",
    "resized_density_sequence = resize_sequence(density_sequence, 32)\n",
    "power_spectrum_sequence = power(resized_density_sequence, bins=20, binning='linear')\n"
   ]
  },
  {
   "cell_type": "code",
   "execution_count": null,
   "metadata": {},
   "outputs": [],
   "source": []
  }
 ],
 "metadata": {
  "kernelspec": {
   "display_name": "jax.env",
   "language": "python",
   "name": "python3"
  },
  "language_info": {
   "codemirror_mode": {
    "name": "ipython",
    "version": 3
   },
   "file_extension": ".py",
   "mimetype": "text/x-python",
   "name": "python",
   "nbconvert_exporter": "python",
   "pygments_lexer": "ipython3",
   "version": "3.8.10"
  }
 },
 "nbformat": 4,
 "nbformat_minor": 2
}
