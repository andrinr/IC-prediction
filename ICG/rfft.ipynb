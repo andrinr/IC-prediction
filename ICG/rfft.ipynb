{
 "cells": [
  {
   "cell_type": "code",
   "execution_count": 1,
   "metadata": {},
   "outputs": [],
   "source": [
    "import jax.numpy as jnp\n",
    "import jax\n",
    "from field import cic_ma"
   ]
  },
  {
   "cell_type": "code",
   "execution_count": 17,
   "metadata": {},
   "outputs": [],
   "source": [
    "\n",
    "N = 1000\n",
    "pos = jax.random.normal(jax.random.PRNGKey(0), (3, N))\n",
    "weight = jax.random.uniform(jax.random.PRNGKey(1), (N,))\n",
    "\n",
    "f = cic_ma(pos, weight, 16, 1)"
   ]
  },
  {
   "cell_type": "code",
   "execution_count": 42,
   "metadata": {},
   "outputs": [
    {
     "name": "stdout",
     "output_type": "stream",
     "text": [
      "[ 0.  1.  2.  3.  4.  5.  6.  7. -8. -7. -6. -5. -4. -3. -2. -1.]\n",
      "[[[ 0.  0.  0. ...  0.  0.  0.]\n",
      "  [ 0.  0.  0. ...  0.  0.  0.]\n",
      "  [ 0.  0.  0. ...  0.  0.  0.]\n",
      "  ...\n",
      "  [ 0.  0.  0. ...  0.  0.  0.]\n",
      "  [ 0.  0.  0. ...  0.  0.  0.]\n",
      "  [ 0.  0.  0. ...  0.  0.  0.]]\n",
      "\n",
      " [[ 1.  1.  1. ...  1.  1.  1.]\n",
      "  [ 1.  1.  1. ...  1.  1.  1.]\n",
      "  [ 1.  1.  1. ...  1.  1.  1.]\n",
      "  ...\n",
      "  [ 1.  1.  1. ...  1.  1.  1.]\n",
      "  [ 1.  1.  1. ...  1.  1.  1.]\n",
      "  [ 1.  1.  1. ...  1.  1.  1.]]\n",
      "\n",
      " [[ 2.  2.  2. ...  2.  2.  2.]\n",
      "  [ 2.  2.  2. ...  2.  2.  2.]\n",
      "  [ 2.  2.  2. ...  2.  2.  2.]\n",
      "  ...\n",
      "  [ 2.  2.  2. ...  2.  2.  2.]\n",
      "  [ 2.  2.  2. ...  2.  2.  2.]\n",
      "  [ 2.  2.  2. ...  2.  2.  2.]]\n",
      "\n",
      " ...\n",
      "\n",
      " [[-3. -3. -3. ... -3. -3. -3.]\n",
      "  [-3. -3. -3. ... -3. -3. -3.]\n",
      "  [-3. -3. -3. ... -3. -3. -3.]\n",
      "  ...\n",
      "  [-3. -3. -3. ... -3. -3. -3.]\n",
      "  [-3. -3. -3. ... -3. -3. -3.]\n",
      "  [-3. -3. -3. ... -3. -3. -3.]]\n",
      "\n",
      " [[-2. -2. -2. ... -2. -2. -2.]\n",
      "  [-2. -2. -2. ... -2. -2. -2.]\n",
      "  [-2. -2. -2. ... -2. -2. -2.]\n",
      "  ...\n",
      "  [-2. -2. -2. ... -2. -2. -2.]\n",
      "  [-2. -2. -2. ... -2. -2. -2.]\n",
      "  [-2. -2. -2. ... -2. -2. -2.]]\n",
      "\n",
      " [[-1. -1. -1. ... -1. -1. -1.]\n",
      "  [-1. -1. -1. ... -1. -1. -1.]\n",
      "  [-1. -1. -1. ... -1. -1. -1.]\n",
      "  ...\n",
      "  [-1. -1. -1. ... -1. -1. -1.]\n",
      "  [-1. -1. -1. ... -1. -1. -1.]\n",
      "  [-1. -1. -1. ... -1. -1. -1.]]]\n",
      "[[[ 0.  1.  4. ...  9.  4.  1.]\n",
      "  [ 1.  2.  5. ... 10.  5.  2.]\n",
      "  [ 4.  5.  8. ... 13.  8.  5.]\n",
      "  ...\n",
      "  [ 9. 10. 13. ... 18. 13. 10.]\n",
      "  [ 4.  5.  8. ... 13.  8.  5.]\n",
      "  [ 1.  2.  5. ... 10.  5.  2.]]\n",
      "\n",
      " [[ 1.  2.  5. ... 10.  5.  2.]\n",
      "  [ 2.  3.  6. ... 11.  6.  3.]\n",
      "  [ 5.  6.  9. ... 14.  9.  6.]\n",
      "  ...\n",
      "  [10. 11. 14. ... 19. 14. 11.]\n",
      "  [ 5.  6.  9. ... 14.  9.  6.]\n",
      "  [ 2.  3.  6. ... 11.  6.  3.]]\n",
      "\n",
      " [[ 4.  5.  8. ... 13.  8.  5.]\n",
      "  [ 5.  6.  9. ... 14.  9.  6.]\n",
      "  [ 8.  9. 12. ... 17. 12.  9.]\n",
      "  ...\n",
      "  [13. 14. 17. ... 22. 17. 14.]\n",
      "  [ 8.  9. 12. ... 17. 12.  9.]\n",
      "  [ 5.  6.  9. ... 14.  9.  6.]]\n",
      "\n",
      " ...\n",
      "\n",
      " [[ 9. 10. 13. ... 18. 13. 10.]\n",
      "  [10. 11. 14. ... 19. 14. 11.]\n",
      "  [13. 14. 17. ... 22. 17. 14.]\n",
      "  ...\n",
      "  [18. 19. 22. ... 27. 22. 19.]\n",
      "  [13. 14. 17. ... 22. 17. 14.]\n",
      "  [10. 11. 14. ... 19. 14. 11.]]\n",
      "\n",
      " [[ 4.  5.  8. ... 13.  8.  5.]\n",
      "  [ 5.  6.  9. ... 14.  9.  6.]\n",
      "  [ 8.  9. 12. ... 17. 12.  9.]\n",
      "  ...\n",
      "  [13. 14. 17. ... 22. 17. 14.]\n",
      "  [ 8.  9. 12. ... 17. 12.  9.]\n",
      "  [ 5.  6.  9. ... 14.  9.  6.]]\n",
      "\n",
      " [[ 1.  2.  5. ... 10.  5.  2.]\n",
      "  [ 2.  3.  6. ... 11.  6.  3.]\n",
      "  [ 5.  6.  9. ... 14.  9.  6.]\n",
      "  ...\n",
      "  [10. 11. 14. ... 19. 14. 11.]\n",
      "  [ 5.  6.  9. ... 14.  9.  6.]\n",
      "  [ 2.  3.  6. ... 11.  6.  3.]]]\n"
     ]
    },
    {
     "data": {
      "text/plain": [
       "Array(192., dtype=float32)"
      ]
     },
     "execution_count": 42,
     "metadata": {},
     "output_type": "execute_result"
    }
   ],
   "source": [
    "F = jnp.fft.fftn(f)\n",
    "k = jnp.fft.fftfreq(16, 1/16)\n",
    "\n",
    "print(k)\n",
    "\n",
    "kx, ky, kz = jnp.meshgrid(k, k, k)\n",
    "\n",
    "print(ky)\n",
    "\n",
    "k2 = kx**2 + ky**2 + kz**2\n",
    "\n",
    "print(k2)\n",
    "\n",
    "jnp.max(k2)"
   ]
  },
  {
   "cell_type": "code",
   "execution_count": 28,
   "metadata": {},
   "outputs": [
    {
     "ename": "TypeError",
     "evalue": "Invalid shape () for image data",
     "output_type": "error",
     "traceback": [
      "\u001b[0;31m---------------------------------------------------------------------------\u001b[0m",
      "\u001b[0;31mTypeError\u001b[0m                                 Traceback (most recent call last)",
      "Cell \u001b[0;32mIn[28], line 6\u001b[0m\n\u001b[1;32m      4\u001b[0m axs[\u001b[38;5;241m0\u001b[39m]\u001b[38;5;241m.\u001b[39mimshow(jnp\u001b[38;5;241m.\u001b[39mlog(jnp\u001b[38;5;241m.\u001b[39mabs(F[\u001b[38;5;241m0\u001b[39m])))\n\u001b[1;32m      5\u001b[0m axs[\u001b[38;5;241m1\u001b[39m]\u001b[38;5;241m.\u001b[39mimshow(f[\u001b[38;5;241m0\u001b[39m])\n\u001b[0;32m----> 6\u001b[0m \u001b[43maxs\u001b[49m\u001b[43m[\u001b[49m\u001b[38;5;241;43m2\u001b[39;49m\u001b[43m]\u001b[49m\u001b[38;5;241;43m.\u001b[39;49m\u001b[43mimshow\u001b[49m\u001b[43m(\u001b[49m\u001b[43mk\u001b[49m\u001b[43m[\u001b[49m\u001b[38;5;241;43m0\u001b[39;49m\u001b[43m]\u001b[49m\u001b[43m)\u001b[49m\n",
      "File \u001b[0;32m~/miniconda3/envs/ml-env/lib/python3.12/site-packages/matplotlib/__init__.py:1473\u001b[0m, in \u001b[0;36m_preprocess_data.<locals>.inner\u001b[0;34m(ax, data, *args, **kwargs)\u001b[0m\n\u001b[1;32m   1470\u001b[0m \u001b[38;5;129m@functools\u001b[39m\u001b[38;5;241m.\u001b[39mwraps(func)\n\u001b[1;32m   1471\u001b[0m \u001b[38;5;28;01mdef\u001b[39;00m \u001b[38;5;21minner\u001b[39m(ax, \u001b[38;5;241m*\u001b[39margs, data\u001b[38;5;241m=\u001b[39m\u001b[38;5;28;01mNone\u001b[39;00m, \u001b[38;5;241m*\u001b[39m\u001b[38;5;241m*\u001b[39mkwargs):\n\u001b[1;32m   1472\u001b[0m     \u001b[38;5;28;01mif\u001b[39;00m data \u001b[38;5;129;01mis\u001b[39;00m \u001b[38;5;28;01mNone\u001b[39;00m:\n\u001b[0;32m-> 1473\u001b[0m         \u001b[38;5;28;01mreturn\u001b[39;00m \u001b[43mfunc\u001b[49m\u001b[43m(\u001b[49m\n\u001b[1;32m   1474\u001b[0m \u001b[43m            \u001b[49m\u001b[43max\u001b[49m\u001b[43m,\u001b[49m\n\u001b[1;32m   1475\u001b[0m \u001b[43m            \u001b[49m\u001b[38;5;241;43m*\u001b[39;49m\u001b[38;5;28;43mmap\u001b[39;49m\u001b[43m(\u001b[49m\u001b[43msanitize_sequence\u001b[49m\u001b[43m,\u001b[49m\u001b[43m \u001b[49m\u001b[43margs\u001b[49m\u001b[43m)\u001b[49m\u001b[43m,\u001b[49m\n\u001b[1;32m   1476\u001b[0m \u001b[43m            \u001b[49m\u001b[38;5;241;43m*\u001b[39;49m\u001b[38;5;241;43m*\u001b[39;49m\u001b[43m{\u001b[49m\u001b[43mk\u001b[49m\u001b[43m:\u001b[49m\u001b[43m \u001b[49m\u001b[43msanitize_sequence\u001b[49m\u001b[43m(\u001b[49m\u001b[43mv\u001b[49m\u001b[43m)\u001b[49m\u001b[43m \u001b[49m\u001b[38;5;28;43;01mfor\u001b[39;49;00m\u001b[43m \u001b[49m\u001b[43mk\u001b[49m\u001b[43m,\u001b[49m\u001b[43m \u001b[49m\u001b[43mv\u001b[49m\u001b[43m \u001b[49m\u001b[38;5;129;43;01min\u001b[39;49;00m\u001b[43m \u001b[49m\u001b[43mkwargs\u001b[49m\u001b[38;5;241;43m.\u001b[39;49m\u001b[43mitems\u001b[49m\u001b[43m(\u001b[49m\u001b[43m)\u001b[49m\u001b[43m}\u001b[49m\u001b[43m)\u001b[49m\n\u001b[1;32m   1478\u001b[0m     bound \u001b[38;5;241m=\u001b[39m new_sig\u001b[38;5;241m.\u001b[39mbind(ax, \u001b[38;5;241m*\u001b[39margs, \u001b[38;5;241m*\u001b[39m\u001b[38;5;241m*\u001b[39mkwargs)\n\u001b[1;32m   1479\u001b[0m     auto_label \u001b[38;5;241m=\u001b[39m (bound\u001b[38;5;241m.\u001b[39marguments\u001b[38;5;241m.\u001b[39mget(label_namer)\n\u001b[1;32m   1480\u001b[0m                   \u001b[38;5;129;01mor\u001b[39;00m bound\u001b[38;5;241m.\u001b[39mkwargs\u001b[38;5;241m.\u001b[39mget(label_namer))\n",
      "File \u001b[0;32m~/miniconda3/envs/ml-env/lib/python3.12/site-packages/matplotlib/axes/_axes.py:5895\u001b[0m, in \u001b[0;36mAxes.imshow\u001b[0;34m(self, X, cmap, norm, aspect, interpolation, alpha, vmin, vmax, origin, extent, interpolation_stage, filternorm, filterrad, resample, url, **kwargs)\u001b[0m\n\u001b[1;32m   5892\u001b[0m \u001b[38;5;28;01mif\u001b[39;00m aspect \u001b[38;5;129;01mis\u001b[39;00m \u001b[38;5;129;01mnot\u001b[39;00m \u001b[38;5;28;01mNone\u001b[39;00m:\n\u001b[1;32m   5893\u001b[0m     \u001b[38;5;28mself\u001b[39m\u001b[38;5;241m.\u001b[39mset_aspect(aspect)\n\u001b[0;32m-> 5895\u001b[0m \u001b[43mim\u001b[49m\u001b[38;5;241;43m.\u001b[39;49m\u001b[43mset_data\u001b[49m\u001b[43m(\u001b[49m\u001b[43mX\u001b[49m\u001b[43m)\u001b[49m\n\u001b[1;32m   5896\u001b[0m im\u001b[38;5;241m.\u001b[39mset_alpha(alpha)\n\u001b[1;32m   5897\u001b[0m \u001b[38;5;28;01mif\u001b[39;00m im\u001b[38;5;241m.\u001b[39mget_clip_path() \u001b[38;5;129;01mis\u001b[39;00m \u001b[38;5;28;01mNone\u001b[39;00m:\n\u001b[1;32m   5898\u001b[0m     \u001b[38;5;66;03m# image does not already have clipping set, clip to Axes patch\u001b[39;00m\n",
      "File \u001b[0;32m~/miniconda3/envs/ml-env/lib/python3.12/site-packages/matplotlib/image.py:729\u001b[0m, in \u001b[0;36m_ImageBase.set_data\u001b[0;34m(self, A)\u001b[0m\n\u001b[1;32m    727\u001b[0m \u001b[38;5;28;01mif\u001b[39;00m \u001b[38;5;28misinstance\u001b[39m(A, PIL\u001b[38;5;241m.\u001b[39mImage\u001b[38;5;241m.\u001b[39mImage):\n\u001b[1;32m    728\u001b[0m     A \u001b[38;5;241m=\u001b[39m pil_to_array(A)  \u001b[38;5;66;03m# Needed e.g. to apply png palette.\u001b[39;00m\n\u001b[0;32m--> 729\u001b[0m \u001b[38;5;28mself\u001b[39m\u001b[38;5;241m.\u001b[39m_A \u001b[38;5;241m=\u001b[39m \u001b[38;5;28;43mself\u001b[39;49m\u001b[38;5;241;43m.\u001b[39;49m\u001b[43m_normalize_image_array\u001b[49m\u001b[43m(\u001b[49m\u001b[43mA\u001b[49m\u001b[43m)\u001b[49m\n\u001b[1;32m    730\u001b[0m \u001b[38;5;28mself\u001b[39m\u001b[38;5;241m.\u001b[39m_imcache \u001b[38;5;241m=\u001b[39m \u001b[38;5;28;01mNone\u001b[39;00m\n\u001b[1;32m    731\u001b[0m \u001b[38;5;28mself\u001b[39m\u001b[38;5;241m.\u001b[39mstale \u001b[38;5;241m=\u001b[39m \u001b[38;5;28;01mTrue\u001b[39;00m\n",
      "File \u001b[0;32m~/miniconda3/envs/ml-env/lib/python3.12/site-packages/matplotlib/image.py:697\u001b[0m, in \u001b[0;36m_ImageBase._normalize_image_array\u001b[0;34m(A)\u001b[0m\n\u001b[1;32m    695\u001b[0m     A \u001b[38;5;241m=\u001b[39m A\u001b[38;5;241m.\u001b[39msqueeze(\u001b[38;5;241m-\u001b[39m\u001b[38;5;241m1\u001b[39m)  \u001b[38;5;66;03m# If just (M, N, 1), assume scalar and apply colormap.\u001b[39;00m\n\u001b[1;32m    696\u001b[0m \u001b[38;5;28;01mif\u001b[39;00m \u001b[38;5;129;01mnot\u001b[39;00m (A\u001b[38;5;241m.\u001b[39mndim \u001b[38;5;241m==\u001b[39m \u001b[38;5;241m2\u001b[39m \u001b[38;5;129;01mor\u001b[39;00m A\u001b[38;5;241m.\u001b[39mndim \u001b[38;5;241m==\u001b[39m \u001b[38;5;241m3\u001b[39m \u001b[38;5;129;01mand\u001b[39;00m A\u001b[38;5;241m.\u001b[39mshape[\u001b[38;5;241m-\u001b[39m\u001b[38;5;241m1\u001b[39m] \u001b[38;5;129;01min\u001b[39;00m [\u001b[38;5;241m3\u001b[39m, \u001b[38;5;241m4\u001b[39m]):\n\u001b[0;32m--> 697\u001b[0m     \u001b[38;5;28;01mraise\u001b[39;00m \u001b[38;5;167;01mTypeError\u001b[39;00m(\u001b[38;5;124mf\u001b[39m\u001b[38;5;124m\"\u001b[39m\u001b[38;5;124mInvalid shape \u001b[39m\u001b[38;5;132;01m{\u001b[39;00mA\u001b[38;5;241m.\u001b[39mshape\u001b[38;5;132;01m}\u001b[39;00m\u001b[38;5;124m for image data\u001b[39m\u001b[38;5;124m\"\u001b[39m)\n\u001b[1;32m    698\u001b[0m \u001b[38;5;28;01mif\u001b[39;00m A\u001b[38;5;241m.\u001b[39mndim \u001b[38;5;241m==\u001b[39m \u001b[38;5;241m3\u001b[39m:\n\u001b[1;32m    699\u001b[0m     \u001b[38;5;66;03m# If the input data has values outside the valid range (after\u001b[39;00m\n\u001b[1;32m    700\u001b[0m     \u001b[38;5;66;03m# normalisation), we issue a warning and then clip X to the bounds\u001b[39;00m\n\u001b[1;32m    701\u001b[0m     \u001b[38;5;66;03m# - otherwise casting wraps extreme values, hiding outliers and\u001b[39;00m\n\u001b[1;32m    702\u001b[0m     \u001b[38;5;66;03m# making reliable interpretation impossible.\u001b[39;00m\n\u001b[1;32m    703\u001b[0m     high \u001b[38;5;241m=\u001b[39m \u001b[38;5;241m255\u001b[39m \u001b[38;5;28;01mif\u001b[39;00m np\u001b[38;5;241m.\u001b[39missubdtype(A\u001b[38;5;241m.\u001b[39mdtype, np\u001b[38;5;241m.\u001b[39minteger) \u001b[38;5;28;01melse\u001b[39;00m \u001b[38;5;241m1\u001b[39m\n",
      "\u001b[0;31mTypeError\u001b[0m: Invalid shape () for image data"
     ]
    },
    {
     "data": {
      "image/png": "[encoded data removed]",
      "text/plain": [
       "<Figure size 640x480 with 3 Axes>"
      ]
     },
     "metadata": {},
     "output_type": "display_data"
    }
   ],
   "source": [
    "# visualize side by side\n",
    "import matplotlib.pyplot as plt\n",
    "fig, axs = plt.subplots(1, 3)\n",
    "axs[0].imshow(jnp.log(jnp.abs(F[0])))\n",
    "axs[1].imshow(f[0])\n"
   ]
  },
  {
   "cell_type": "code",
   "execution_count": null,
   "metadata": {},
   "outputs": [],
   "source": [
    "\n"
   ]
  }
 ],
 "metadata": {
  "kernelspec": {
   "display_name": "ml-env",
   "language": "python",
   "name": "python3"
  },
  "language_info": {
   "codemirror_mode": {
    "name": "ipython",
    "version": 3
   },
   "file_extension": ".py",
   "mimetype": "text/x-python",
   "name": "python",
   "nbconvert_exporter": "python",
   "pygments_lexer": "ipython3",
   "version": "3.12.4"
  }
 },
 "nbformat": 4,
 "nbformat_minor": 2
}
