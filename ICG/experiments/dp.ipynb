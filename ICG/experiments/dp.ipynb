{
 "cells": [
  {
   "cell_type": "code",
   "execution_count": 1,
   "metadata": {},
   "outputs": [],
   "source": [
    "using Plots\n",
    "using Random\n",
    "using Statistics\n",
    "using Enzyme"
   ]
  },
  {
   "cell_type": "code",
   "execution_count": 2,
   "metadata": {},
   "outputs": [
    {
     "data": {
      "text/plain": [
       "gravity (generic function with 1 method)"
      ]
     },
     "metadata": {},
     "output_type": "display_data"
    }
   ],
   "source": [
    "@views function gravity(pos :: AbstractArray{Float64, 2}) :: AbstractArray{Float64, 2}\n",
    "    vec_x = pos[1, :] .- pos[1, :]'\n",
    "    vec_y = pos[2, :] .- pos[2, :]'\n",
    "    vec_z = pos[3, :] .- pos[3, :]'\n",
    "\n",
    "    r_sq = (vec_x.^2 + vec_y.^2 + vec_z.^2) .+ 1e-5\n",
    "\n",
    "    force_x = -vec_x ./ r_sq\n",
    "    force_y = -vec_y ./ r_sq\n",
    "    force_z = -vec_z ./ r_sq\n",
    "\n",
    "    force_x = sum(force_x, dims=2)\n",
    "    force_y = sum(force_y, dims=2)\n",
    "    force_z = sum(force_z, dims=2)\n",
    "\n",
    "    force = [force_x force_y force_z]\n",
    "\n",
    "    return transpose(force)\n",
    "end"
   ]
  },
  {
   "cell_type": "code",
   "execution_count": 3,
   "metadata": {},
   "outputs": [
    {
     "data": {
      "text/plain": [
       "kdk! (generic function with 1 method)"
      ]
     },
     "metadata": {},
     "output_type": "display_data"
    }
   ],
   "source": [
    "function kdk!(\n",
    "    pos_t0 :: AbstractArray{Float64, 2},\n",
    "    vel_t0 :: AbstractArray{Float64, 2},\n",
    "    pos_t1 :: AbstractArray{Float64, 2},\n",
    "    vel_t1 :: AbstractArray{Float64, 2},\n",
    "    dt :: Float64) :: Nothing\n",
    "    \n",
    "    # compute a(t)\n",
    "    force_t0 = gravity(pos_t0)\n",
    "    # v(t + dt/2) = v(t) + a(t) * dt/2\n",
    "    vel_t1 .+= force_t0 .* dt / 2\n",
    "    # x(t + dt) = x(t) + v(t + dt/2) * dt\n",
    "    pos_t1 .+= vel_t1 .* dt\n",
    "    # a(t + dt)\n",
    "    force_t1 = gravity(pos_t1)\n",
    "    # v(t + dt) = v(t + dt/2) + a(t + dt) * dt/2\n",
    "    vel_t1 .+= force_t1 .* dt / 2    \n",
    "\n",
    "    return nothing\n",
    "end"
   ]
  },
  {
   "cell_type": "code",
   "execution_count": 4,
   "metadata": {},
   "outputs": [
    {
     "data": {
      "text/plain": [
       "forward! (generic function with 1 method)"
      ]
     },
     "metadata": {},
     "output_type": "display_data"
    }
   ],
   "source": [
    "@views function forward!(\n",
    "    pos :: AbstractArray{Float64, 3},\n",
    "    vel :: AbstractArray{Float64, 3},\n",
    "    dt :: Float64,\n",
    "    n_steps :: Int) :: Nothing\n",
    "\n",
    "    for i in 1:n_steps\n",
    "        kdk!(\n",
    "            pos[i, :, :],\n",
    "            vel[i, :, :],\n",
    "            pos[i+1, :, :],\n",
    "            vel[i+1, :, :],\n",
    "            dt)\n",
    "    end\n",
    "\n",
    "    return nothing\n",
    "end"
   ]
  },
  {
   "cell_type": "markdown",
   "metadata": {},
   "source": [
    "Initialize and compute the forward pass"
   ]
  },
  {
   "cell_type": "markdown",
   "metadata": {},
   "source": [
    "Let us define the loss function."
   ]
  },
  {
   "cell_type": "code",
   "execution_count": 120,
   "metadata": {},
   "outputs": [
    {
     "data": {
      "text/plain": [
       "loss! (generic function with 1 method)"
      ]
     },
     "metadata": {},
     "output_type": "display_data"
    }
   ],
   "source": [
    "@views function loss!(\n",
    "    pos_tn :: AbstractArray{Float64, 2},\n",
    "    pos_tn_star :: AbstractArray{Float64, 2},\n",
    "    loss :: AbstractArray{Float64, 1}) :: Nothing\n",
    "\n",
    "    loss[1] = sum((pos_tn .- pos_tn_star).^2)\n",
    "\n",
    "    return nothing\n",
    "end"
   ]
  },
  {
   "cell_type": "code",
   "execution_count": 121,
   "metadata": {},
   "outputs": [
    {
     "data": {
      "image/png": "[encoded data removed]",
      "image/svg+xml": [
       "<?xml version=\"1.0\" encoding=\"utf-8\"?>\n",
       "<svg xmlns=\"http://www.w3.org/2000/svg\" xmlns:xlink=\"http://www.w3.org/1999/xlink\" width=\"400\" height=\"400\" viewBox=\"0 0 1600 1600\">\n",
       "<defs>\n",
       "  <clipPath id=\"clip350\">\n",
       "    <rect x=\"0\" y=\"0\" width=\"1600\" height=\"1600\"/>\n",
       "  </clipPath>\n",
       "</defs>\n",
       "<path clip-path=\"url(#clip350)\" d=\"M0 1600 L1600 1600 L1600 0 L0 0  Z\" fill=\"#ffffff\" fill-rule=\"evenodd\" fill-opacity=\"1\"/>\n",
       "<defs>\n",
       "  <clipPath id=\"clip351\">\n",
       "    <rect x=\"320\" y=\"160\" width=\"1121\" height=\"1121\"/>\n",
       "  </clipPath>\n",
       "</defs>\n",
       "<defs>\n",
       "  <clipPath id=\"clip352\">\n",
       "    <rect x=\"265\" y=\"153\" width=\"1288\" height=\"1229\"/>\n",
       "  </clipPath>\n",
       "</defs>\n",
       "<path clip-path=\"url(#clip352)\" d=\"M418.944 1124.29 L418.944 535.903 L763.889 241.71 L1361.35 411.563 L1361.35 999.949 L1016.41 1294.14 L418.944 1124.29  Z\" fill=\"#ffffff\" fill-rule=\"evenodd\" fill-opacity=\"1\"/>\n",
       "<polyline clip-path=\"url(#clip352)\" style=\"stroke:#000000; stroke-linecap:round; stroke-linejoin:round; stroke-width:2; stroke-opacity:0.1; fill:none\" points=\"573.347,1182.87 927.964,875.761 927.964,261.547 \"/>\n",
       "<polyline clip-path=\"url(#clip352)\" style=\"stroke:#000000; stroke-linecap:round; stroke-linejoin:round; stroke-width:2; stroke-opacity:0.1; fill:none\" points=\"722.713,1225.99 1077.33,918.879 1077.33,304.665 \"/>\n",
       "<polyline clip-path=\"url(#clip352)\" style=\"stroke:#000000; stroke-linecap:round; stroke-linejoin:round; stroke-width:2; stroke-opacity:0.1; fill:none\" points=\"872.079,1269.1 1226.7,961.997 1226.7,347.783 \"/>\n",
       "<polyline clip-path=\"url(#clip352)\" style=\"stroke:#000000; stroke-linecap:round; stroke-linejoin:round; stroke-width:2; stroke-opacity:0.1; fill:none\" points=\"1021.44,1312.22 1376.06,1005.12 1376.06,390.902 \"/>\n",
       "<polyline clip-path=\"url(#clip350)\" style=\"stroke:#000000; stroke-linecap:round; stroke-linejoin:round; stroke-width:4; stroke-opacity:1; fill:none\" points=\"424.614,1139.93 1038.83,1317.24 \"/>\n",
       "<polyline clip-path=\"url(#clip350)\" style=\"stroke:#000000; stroke-linecap:round; stroke-linejoin:round; stroke-width:4; stroke-opacity:1; fill:none\" points=\"573.347,1182.87 577.603,1179.18 \"/>\n",
       "<polyline clip-path=\"url(#clip350)\" style=\"stroke:#000000; stroke-linecap:round; stroke-linejoin:round; stroke-width:4; stroke-opacity:1; fill:none\" points=\"722.713,1225.99 726.968,1222.3 \"/>\n",
       "<polyline clip-path=\"url(#clip350)\" style=\"stroke:#000000; stroke-linecap:round; stroke-linejoin:round; stroke-width:4; stroke-opacity:1; fill:none\" points=\"872.079,1269.1 876.334,1265.42 \"/>\n",
       "<polyline clip-path=\"url(#clip350)\" style=\"stroke:#000000; stroke-linecap:round; stroke-linejoin:round; stroke-width:4; stroke-opacity:1; fill:none\" points=\"1021.44,1312.22 1025.7,1308.54 \"/>\n",
       "<path clip-path=\"url(#clip350)\" d=\"M462.148 1201.79 L491.824 1201.79 L491.824 1205.72 L462.148 1205.72 L462.148 1201.79 Z\" fill=\"#000000\" fill-rule=\"nonzero\" fill-opacity=\"1\" /><path clip-path=\"url(#clip350)\" d=\"M511.917 1187.13 Q508.306 1187.13 506.477 1190.7 Q504.671 1194.24 504.671 1201.37 Q504.671 1208.48 506.477 1212.04 Q508.306 1215.58 511.917 1215.58 Q515.551 1215.58 517.356 1212.04 Q519.185 1208.48 519.185 1201.37 Q519.185 1194.24 517.356 1190.7 Q515.551 1187.13 511.917 1187.13 M511.917 1183.43 Q517.727 1183.43 520.782 1188.04 Q523.861 1192.62 523.861 1201.37 Q523.861 1210.1 520.782 1214.7 Q517.727 1219.29 511.917 1219.29 Q506.106 1219.29 503.028 1214.7 Q499.972 1210.1 499.972 1201.37 Q499.972 1192.62 503.028 1188.04 Q506.106 1183.43 511.917 1183.43 Z\" fill=\"#000000\" fill-rule=\"nonzero\" fill-opacity=\"1\" /><path clip-path=\"url(#clip350)\" d=\"M532.079 1212.74 L536.963 1212.74 L536.963 1218.62 L532.079 1218.62 L532.079 1212.74 Z\" fill=\"#000000\" fill-rule=\"nonzero\" fill-opacity=\"1\" /><path clip-path=\"url(#clip350)\" d=\"M547.194 1184.06 L565.551 1184.06 L565.551 1187.99 L551.477 1187.99 L551.477 1196.46 Q552.495 1196.12 553.514 1195.95 Q554.532 1195.77 555.551 1195.77 Q561.338 1195.77 564.717 1198.94 Q568.097 1202.11 568.097 1207.53 Q568.097 1213.11 564.625 1216.21 Q561.152 1219.29 554.833 1219.29 Q552.657 1219.29 550.389 1218.92 Q548.143 1218.55 545.736 1217.81 L545.736 1213.11 Q547.819 1214.24 550.041 1214.8 Q552.264 1215.35 554.74 1215.35 Q558.745 1215.35 561.083 1213.25 Q563.421 1211.14 563.421 1207.53 Q563.421 1203.92 561.083 1201.81 Q558.745 1199.7 554.74 1199.7 Q552.865 1199.7 550.99 1200.12 Q549.139 1200.54 547.194 1201.42 L547.194 1184.06 Z\" fill=\"#000000\" fill-rule=\"nonzero\" fill-opacity=\"1\" /><path clip-path=\"url(#clip350)\" d=\"M660.287 1230.25 Q656.676 1230.25 654.847 1233.82 Q653.042 1237.36 653.042 1244.49 Q653.042 1251.6 654.847 1255.16 Q656.676 1258.7 660.287 1258.7 Q663.921 1258.7 665.727 1255.16 Q667.555 1251.6 667.555 1244.49 Q667.555 1237.36 665.727 1233.82 Q663.921 1230.25 660.287 1230.25 M660.287 1226.55 Q666.097 1226.55 669.153 1231.16 Q672.231 1235.74 672.231 1244.49 Q672.231 1253.22 669.153 1257.82 Q666.097 1262.41 660.287 1262.41 Q654.477 1262.41 651.398 1257.82 Q648.343 1253.22 648.343 1244.49 Q648.343 1235.74 651.398 1231.16 Q654.477 1226.55 660.287 1226.55 Z\" fill=\"#000000\" fill-rule=\"nonzero\" fill-opacity=\"1\" /><path clip-path=\"url(#clip350)\" d=\"M680.449 1255.85 L685.333 1255.85 L685.333 1261.73 L680.449 1261.73 L680.449 1255.85 Z\" fill=\"#000000\" fill-rule=\"nonzero\" fill-opacity=\"1\" /><path clip-path=\"url(#clip350)\" d=\"M705.518 1230.25 Q701.907 1230.25 700.078 1233.82 Q698.273 1237.36 698.273 1244.49 Q698.273 1251.6 700.078 1255.16 Q701.907 1258.7 705.518 1258.7 Q709.152 1258.7 710.958 1255.16 Q712.787 1251.6 712.787 1244.49 Q712.787 1237.36 710.958 1233.82 Q709.152 1230.25 705.518 1230.25 M705.518 1226.55 Q711.328 1226.55 714.384 1231.16 Q717.463 1235.74 717.463 1244.49 Q717.463 1253.22 714.384 1257.82 Q711.328 1262.41 705.518 1262.41 Q699.708 1262.41 696.629 1257.82 Q693.574 1253.22 693.574 1244.49 Q693.574 1235.74 696.629 1231.16 Q699.708 1226.55 705.518 1226.55 Z\" fill=\"#000000\" fill-rule=\"nonzero\" fill-opacity=\"1\" /><path clip-path=\"url(#clip350)\" d=\"M810.648 1273.37 Q807.037 1273.37 805.208 1276.94 Q803.403 1280.48 803.403 1287.61 Q803.403 1294.71 805.208 1298.28 Q807.037 1301.82 810.648 1301.82 Q814.282 1301.82 816.088 1298.28 Q817.916 1294.71 817.916 1287.61 Q817.916 1280.48 816.088 1276.94 Q814.282 1273.37 810.648 1273.37 M810.648 1269.67 Q816.458 1269.67 819.514 1274.27 Q822.592 1278.86 822.592 1287.61 Q822.592 1296.33 819.514 1300.94 Q816.458 1305.52 810.648 1305.52 Q804.838 1305.52 801.759 1300.94 Q798.704 1296.33 798.704 1287.61 Q798.704 1278.86 801.759 1274.27 Q804.838 1269.67 810.648 1269.67 Z\" fill=\"#000000\" fill-rule=\"nonzero\" fill-opacity=\"1\" /><path clip-path=\"url(#clip350)\" d=\"M830.81 1298.97 L835.694 1298.97 L835.694 1304.85 L830.81 1304.85 L830.81 1298.97 Z\" fill=\"#000000\" fill-rule=\"nonzero\" fill-opacity=\"1\" /><path clip-path=\"url(#clip350)\" d=\"M845.926 1270.29 L864.282 1270.29 L864.282 1274.23 L850.208 1274.23 L850.208 1282.7 Q851.226 1282.35 852.245 1282.19 Q853.263 1282.01 854.282 1282.01 Q860.069 1282.01 863.449 1285.18 Q866.828 1288.35 866.828 1293.76 Q866.828 1299.34 863.356 1302.44 Q859.884 1305.52 853.564 1305.52 Q851.388 1305.52 849.12 1305.15 Q846.875 1304.78 844.467 1304.04 L844.467 1299.34 Q846.551 1300.48 848.773 1301.03 Q850.995 1301.59 853.472 1301.59 Q857.476 1301.59 859.814 1299.48 Q862.152 1297.38 862.152 1293.76 Q862.152 1290.15 859.814 1288.05 Q857.476 1285.94 853.472 1285.94 Q851.597 1285.94 849.722 1286.36 Q847.87 1286.77 845.926 1287.65 L845.926 1270.29 Z\" fill=\"#000000\" fill-rule=\"nonzero\" fill-opacity=\"1\" /><path clip-path=\"url(#clip350)\" d=\"M949.829 1344.04 L957.467 1344.04 L957.467 1317.67 L949.157 1319.34 L949.157 1315.08 L957.421 1313.41 L962.097 1313.41 L962.097 1344.04 L969.736 1344.04 L969.736 1347.97 L949.829 1347.97 L949.829 1344.04 Z\" fill=\"#000000\" fill-rule=\"nonzero\" fill-opacity=\"1\" /><path clip-path=\"url(#clip350)\" d=\"M979.18 1342.09 L984.064 1342.09 L984.064 1347.97 L979.18 1347.97 L979.18 1342.09 Z\" fill=\"#000000\" fill-rule=\"nonzero\" fill-opacity=\"1\" /><path clip-path=\"url(#clip350)\" d=\"M1004.25 1316.49 Q1000.64 1316.49 998.81 1320.05 Q997.004 1323.6 997.004 1330.73 Q997.004 1337.83 998.81 1341.4 Q1000.64 1344.94 1004.25 1344.94 Q1007.88 1344.94 1009.69 1341.4 Q1011.52 1337.83 1011.52 1330.73 Q1011.52 1323.6 1009.69 1320.05 Q1007.88 1316.49 1004.25 1316.49 M1004.25 1312.79 Q1010.06 1312.79 1013.12 1317.39 Q1016.19 1321.98 1016.19 1330.73 Q1016.19 1339.45 1013.12 1344.06 Q1010.06 1348.64 1004.25 1348.64 Q998.439 1348.64 995.361 1344.06 Q992.305 1339.45 992.305 1330.73 Q992.305 1321.98 995.361 1317.39 Q998.439 1312.79 1004.25 1312.79 Z\" fill=\"#000000\" fill-rule=\"nonzero\" fill-opacity=\"1\" /><path clip-path=\"url(#clip350)\" d=\"M625.215 1373.08 L612.325 1390.43 L625.884 1408.73 L618.977 1408.73 L608.601 1394.73 L598.225 1408.73 L591.318 1408.73 L605.163 1390.08 L592.495 1373.08 L599.402 1373.08 L608.855 1385.78 L618.308 1373.08 L625.215 1373.08 Z\" fill=\"#000000\" fill-rule=\"nonzero\" fill-opacity=\"1\" /><polyline clip-path=\"url(#clip352)\" style=\"stroke:#000000; stroke-linecap:round; stroke-linejoin:round; stroke-width:2; stroke-opacity:0.1; fill:none\" points=\"1046.28,1310.78 432.07,1133.48 432.07,519.261 \"/>\n",
       "<polyline clip-path=\"url(#clip352)\" style=\"stroke:#000000; stroke-linecap:round; stroke-linejoin:round; stroke-width:2; stroke-opacity:0.1; fill:none\" points=\"1131.21,1237.24 516.996,1059.93 516.996,445.713 \"/>\n",
       "<polyline clip-path=\"url(#clip352)\" style=\"stroke:#000000; stroke-linecap:round; stroke-linejoin:round; stroke-width:2; stroke-opacity:0.1; fill:none\" points=\"1216.14,1163.69 601.922,986.379 601.922,372.165 \"/>\n",
       "<polyline clip-path=\"url(#clip352)\" style=\"stroke:#000000; stroke-linecap:round; stroke-linejoin:round; stroke-width:2; stroke-opacity:0.1; fill:none\" points=\"1301.06,1090.14 686.848,912.831 686.848,298.617 \"/>\n",
       "<polyline clip-path=\"url(#clip352)\" style=\"stroke:#000000; stroke-linecap:round; stroke-linejoin:round; stroke-width:2; stroke-opacity:0.1; fill:none\" points=\"1385.99,1016.59 771.774,839.282 771.774,225.068 \"/>\n",
       "<polyline clip-path=\"url(#clip350)\" style=\"stroke:#000000; stroke-linecap:round; stroke-linejoin:round; stroke-width:4; stroke-opacity:1; fill:none\" points=\"1038.83,1317.24 1393.44,1010.13 \"/>\n",
       "<polyline clip-path=\"url(#clip350)\" style=\"stroke:#000000; stroke-linecap:round; stroke-linejoin:round; stroke-width:4; stroke-opacity:1; fill:none\" points=\"1046.28,1310.78 1038.91,1308.66 \"/>\n",
       "<polyline clip-path=\"url(#clip350)\" style=\"stroke:#000000; stroke-linecap:round; stroke-linejoin:round; stroke-width:4; stroke-opacity:1; fill:none\" points=\"1131.21,1237.24 1123.84,1235.11 \"/>\n",
       "<polyline clip-path=\"url(#clip350)\" style=\"stroke:#000000; stroke-linecap:round; stroke-linejoin:round; stroke-width:4; stroke-opacity:1; fill:none\" points=\"1216.14,1163.69 1208.77,1161.56 \"/>\n",
       "<polyline clip-path=\"url(#clip350)\" style=\"stroke:#000000; stroke-linecap:round; stroke-linejoin:round; stroke-width:4; stroke-opacity:1; fill:none\" points=\"1301.06,1090.14 1293.69,1088.01 \"/>\n",
       "<polyline clip-path=\"url(#clip350)\" style=\"stroke:#000000; stroke-linecap:round; stroke-linejoin:round; stroke-width:4; stroke-opacity:1; fill:none\" points=\"1385.99,1016.59 1378.62,1014.46 \"/>\n",
       "<path clip-path=\"url(#clip350)\" d=\"M1058.74 1325.84 L1088.42 1325.84 L1088.42 1329.78 L1058.74 1329.78 L1058.74 1325.84 Z\" fill=\"#000000\" fill-rule=\"nonzero\" fill-opacity=\"1\" /><path clip-path=\"url(#clip350)\" d=\"M1099.32 1338.74 L1106.96 1338.74 L1106.96 1312.37 L1098.65 1314.04 L1098.65 1309.78 L1106.91 1308.11 L1111.59 1308.11 L1111.59 1338.74 L1119.23 1338.74 L1119.23 1342.67 L1099.32 1342.67 L1099.32 1338.74 Z\" fill=\"#000000\" fill-rule=\"nonzero\" fill-opacity=\"1\" /><path clip-path=\"url(#clip350)\" d=\"M1128.67 1336.79 L1133.56 1336.79 L1133.56 1342.67 L1128.67 1342.67 L1128.67 1336.79 Z\" fill=\"#000000\" fill-rule=\"nonzero\" fill-opacity=\"1\" /><path clip-path=\"url(#clip350)\" d=\"M1153.74 1311.19 Q1150.13 1311.19 1148.3 1314.76 Q1146.5 1318.3 1146.5 1325.43 Q1146.5 1332.53 1148.3 1336.1 Q1150.13 1339.64 1153.74 1339.64 Q1157.38 1339.64 1159.18 1336.1 Q1161.01 1332.53 1161.01 1325.43 Q1161.01 1318.3 1159.18 1314.76 Q1157.38 1311.19 1153.74 1311.19 M1153.74 1307.49 Q1159.55 1307.49 1162.61 1312.09 Q1165.69 1316.68 1165.69 1325.43 Q1165.69 1334.15 1162.61 1338.76 Q1159.55 1343.34 1153.74 1343.34 Q1147.93 1343.34 1144.85 1338.76 Q1141.8 1334.15 1141.8 1325.43 Q1141.8 1316.68 1144.85 1312.09 Q1147.93 1307.49 1153.74 1307.49 Z\" fill=\"#000000\" fill-rule=\"nonzero\" fill-opacity=\"1\" /><path clip-path=\"url(#clip350)\" d=\"M1143.67 1252.3 L1173.34 1252.3 L1173.34 1256.23 L1143.67 1256.23 L1143.67 1252.3 Z\" fill=\"#000000\" fill-rule=\"nonzero\" fill-opacity=\"1\" /><path clip-path=\"url(#clip350)\" d=\"M1193.44 1237.64 Q1189.83 1237.64 1188 1241.21 Q1186.19 1244.75 1186.19 1251.88 Q1186.19 1258.98 1188 1262.55 Q1189.83 1266.09 1193.44 1266.09 Q1197.07 1266.09 1198.88 1262.55 Q1200.71 1258.98 1200.71 1251.88 Q1200.71 1244.75 1198.88 1241.21 Q1197.07 1237.64 1193.44 1237.64 M1193.44 1233.94 Q1199.25 1233.94 1202.3 1238.55 Q1205.38 1243.13 1205.38 1251.88 Q1205.38 1260.61 1202.3 1265.21 Q1199.25 1269.8 1193.44 1269.8 Q1187.63 1269.8 1184.55 1265.21 Q1181.49 1260.61 1181.49 1251.88 Q1181.49 1243.13 1184.55 1238.55 Q1187.63 1233.94 1193.44 1233.94 Z\" fill=\"#000000\" fill-rule=\"nonzero\" fill-opacity=\"1\" /><path clip-path=\"url(#clip350)\" d=\"M1213.6 1263.24 L1218.48 1263.24 L1218.48 1269.12 L1213.6 1269.12 L1213.6 1263.24 Z\" fill=\"#000000\" fill-rule=\"nonzero\" fill-opacity=\"1\" /><path clip-path=\"url(#clip350)\" d=\"M1228.71 1234.56 L1247.07 1234.56 L1247.07 1238.5 L1233 1238.5 L1233 1246.97 Q1234.02 1246.62 1235.03 1246.46 Q1236.05 1246.28 1237.07 1246.28 Q1242.86 1246.28 1246.24 1249.45 Q1249.62 1252.62 1249.62 1258.04 Q1249.62 1263.61 1246.15 1266.72 Q1242.67 1269.8 1236.35 1269.8 Q1234.18 1269.8 1231.91 1269.42 Q1229.66 1269.05 1227.26 1268.31 L1227.26 1263.61 Q1229.34 1264.75 1231.56 1265.3 Q1233.78 1265.86 1236.26 1265.86 Q1240.27 1265.86 1242.6 1263.75 Q1244.94 1261.65 1244.94 1258.04 Q1244.94 1254.42 1242.6 1252.32 Q1240.27 1250.21 1236.26 1250.21 Q1234.39 1250.21 1232.51 1250.63 Q1230.66 1251.05 1228.71 1251.92 L1228.71 1234.56 Z\" fill=\"#000000\" fill-rule=\"nonzero\" fill-opacity=\"1\" /><path clip-path=\"url(#clip350)\" d=\"M1240.54 1164.09 Q1236.93 1164.09 1235.1 1167.66 Q1233.29 1171.2 1233.29 1178.33 Q1233.29 1185.44 1235.1 1189 Q1236.93 1192.54 1240.54 1192.54 Q1244.17 1192.54 1245.98 1189 Q1247.81 1185.44 1247.81 1178.33 Q1247.81 1171.2 1245.98 1167.66 Q1244.17 1164.09 1240.54 1164.09 M1240.54 1160.39 Q1246.35 1160.39 1249.41 1165 Q1252.48 1169.58 1252.48 1178.33 Q1252.48 1187.06 1249.41 1191.66 Q1246.35 1196.25 1240.54 1196.25 Q1234.73 1196.25 1231.65 1191.66 Q1228.6 1187.06 1228.6 1178.33 Q1228.6 1169.58 1231.65 1165 Q1234.73 1160.39 1240.54 1160.39 Z\" fill=\"#000000\" fill-rule=\"nonzero\" fill-opacity=\"1\" /><path clip-path=\"url(#clip350)\" d=\"M1260.7 1189.7 L1265.59 1189.7 L1265.59 1195.58 L1260.7 1195.58 L1260.7 1189.7 Z\" fill=\"#000000\" fill-rule=\"nonzero\" fill-opacity=\"1\" /><path clip-path=\"url(#clip350)\" d=\"M1285.77 1164.09 Q1282.16 1164.09 1280.33 1167.66 Q1278.53 1171.2 1278.53 1178.33 Q1278.53 1185.44 1280.33 1189 Q1282.16 1192.54 1285.77 1192.54 Q1289.4 1192.54 1291.21 1189 Q1293.04 1185.44 1293.04 1178.33 Q1293.04 1171.2 1291.21 1167.66 Q1289.4 1164.09 1285.77 1164.09 M1285.77 1160.39 Q1291.58 1160.39 1294.64 1165 Q1297.72 1169.58 1297.72 1178.33 Q1297.72 1187.06 1294.64 1191.66 Q1291.58 1196.25 1285.77 1196.25 Q1279.96 1196.25 1276.88 1191.66 Q1273.83 1187.06 1273.83 1178.33 Q1273.83 1169.58 1276.88 1165 Q1279.96 1160.39 1285.77 1160.39 Z\" fill=\"#000000\" fill-rule=\"nonzero\" fill-opacity=\"1\" /><path clip-path=\"url(#clip350)\" d=\"M1325.47 1090.55 Q1321.85 1090.55 1320.03 1094.11 Q1318.22 1097.65 1318.22 1104.78 Q1318.22 1111.89 1320.03 1115.45 Q1321.85 1118.99 1325.47 1118.99 Q1329.1 1118.99 1330.91 1115.45 Q1332.73 1111.89 1332.73 1104.78 Q1332.73 1097.65 1330.91 1094.11 Q1329.1 1090.55 1325.47 1090.55 M1325.47 1086.84 Q1331.28 1086.84 1334.33 1091.45 Q1337.41 1096.03 1337.41 1104.78 Q1337.41 1113.51 1334.33 1118.12 Q1331.28 1122.7 1325.47 1122.7 Q1319.66 1122.7 1316.58 1118.12 Q1313.52 1113.51 1313.52 1104.78 Q1313.52 1096.03 1316.58 1091.45 Q1319.66 1086.84 1325.47 1086.84 Z\" fill=\"#000000\" fill-rule=\"nonzero\" fill-opacity=\"1\" /><path clip-path=\"url(#clip350)\" d=\"M1345.63 1116.15 L1350.51 1116.15 L1350.51 1122.03 L1345.63 1122.03 L1345.63 1116.15 Z\" fill=\"#000000\" fill-rule=\"nonzero\" fill-opacity=\"1\" /><path clip-path=\"url(#clip350)\" d=\"M1360.74 1087.47 L1379.1 1087.47 L1379.1 1091.4 L1365.03 1091.4 L1365.03 1099.87 Q1366.04 1099.53 1367.06 1099.37 Q1368.08 1099.18 1369.1 1099.18 Q1374.89 1099.18 1378.27 1102.35 Q1381.65 1105.52 1381.65 1110.94 Q1381.65 1116.52 1378.17 1119.62 Q1374.7 1122.7 1368.38 1122.7 Q1366.21 1122.7 1363.94 1122.33 Q1361.69 1121.96 1359.28 1121.22 L1359.28 1116.52 Q1361.37 1117.65 1363.59 1118.21 Q1365.81 1118.76 1368.29 1118.76 Q1372.29 1118.76 1374.63 1116.66 Q1376.97 1114.55 1376.97 1110.94 Q1376.97 1107.33 1374.63 1105.22 Q1372.29 1103.12 1368.29 1103.12 Q1366.41 1103.12 1364.54 1103.53 Q1362.69 1103.95 1360.74 1104.83 L1360.74 1087.47 Z\" fill=\"#000000\" fill-rule=\"nonzero\" fill-opacity=\"1\" /><path clip-path=\"url(#clip350)\" d=\"M1399.12 1044.54 L1406.76 1044.54 L1406.76 1018.18 L1398.45 1019.84 L1398.45 1015.59 L1406.71 1013.92 L1411.39 1013.92 L1411.39 1044.54 L1419.03 1044.54 L1419.03 1048.48 L1399.12 1048.48 L1399.12 1044.54 Z\" fill=\"#000000\" fill-rule=\"nonzero\" fill-opacity=\"1\" /><path clip-path=\"url(#clip350)\" d=\"M1428.47 1042.6 L1433.35 1042.6 L1433.35 1048.48 L1428.47 1048.48 L1428.47 1042.6 Z\" fill=\"#000000\" fill-rule=\"nonzero\" fill-opacity=\"1\" /><path clip-path=\"url(#clip350)\" d=\"M1453.54 1017 Q1449.93 1017 1448.1 1020.56 Q1446.29 1024.1 1446.29 1031.23 Q1446.29 1038.34 1448.1 1041.91 Q1449.93 1045.45 1453.54 1045.45 Q1457.17 1045.45 1458.98 1041.91 Q1460.81 1038.34 1460.81 1031.23 Q1460.81 1024.1 1458.98 1020.56 Q1457.17 1017 1453.54 1017 M1453.54 1013.29 Q1459.35 1013.29 1462.41 1017.9 Q1465.48 1022.48 1465.48 1031.23 Q1465.48 1039.96 1462.41 1044.57 Q1459.35 1049.15 1453.54 1049.15 Q1447.73 1049.15 1444.65 1044.57 Q1441.6 1039.96 1441.6 1031.23 Q1441.6 1022.48 1444.65 1017.9 Q1447.73 1013.29 1453.54 1013.29 Z\" fill=\"#000000\" fill-rule=\"nonzero\" fill-opacity=\"1\" /><path clip-path=\"url(#clip350)\" d=\"M1340.94 1347.14 Q1338.46 1353.51 1336.1 1355.45 Q1333.75 1357.39 1329.8 1357.39 L1325.12 1357.39 L1325.12 1352.49 L1328.56 1352.49 Q1330.98 1352.49 1332.32 1351.34 Q1333.65 1350.2 1335.28 1345.93 L1336.33 1343.26 L1321.91 1308.18 L1328.12 1308.18 L1339.26 1336.06 L1350.4 1308.18 L1356.6 1308.18 L1340.94 1347.14 Z\" fill=\"#000000\" fill-rule=\"nonzero\" fill-opacity=\"1\" /><polyline clip-path=\"url(#clip352)\" style=\"stroke:#000000; stroke-linecap:round; stroke-linejoin:round; stroke-width:2; stroke-opacity:0.1; fill:none\" points=\"424.614,1122.55 779.23,815.442 1393.44,992.75 \"/>\n",
       "<polyline clip-path=\"url(#clip352)\" style=\"stroke:#000000; stroke-linecap:round; stroke-linejoin:round; stroke-width:2; stroke-opacity:0.1; fill:none\" points=\"424.614,977.687 779.23,670.58 1393.44,847.888 \"/>\n",
       "<polyline clip-path=\"url(#clip352)\" style=\"stroke:#000000; stroke-linecap:round; stroke-linejoin:round; stroke-width:2; stroke-opacity:0.1; fill:none\" points=\"424.614,832.825 779.23,525.718 1393.44,703.027 \"/>\n",
       "<polyline clip-path=\"url(#clip352)\" style=\"stroke:#000000; stroke-linecap:round; stroke-linejoin:round; stroke-width:2; stroke-opacity:0.1; fill:none\" points=\"424.614,687.964 779.23,380.857 1393.44,558.165 \"/>\n",
       "<polyline clip-path=\"url(#clip352)\" style=\"stroke:#000000; stroke-linecap:round; stroke-linejoin:round; stroke-width:2; stroke-opacity:0.1; fill:none\" points=\"424.614,543.102 779.23,235.995 1393.44,413.303 \"/>\n",
       "<polyline clip-path=\"url(#clip350)\" style=\"stroke:#000000; stroke-linecap:round; stroke-linejoin:round; stroke-width:4; stroke-opacity:1; fill:none\" points=\"424.614,1139.93 424.614,525.718 \"/>\n",
       "<polyline clip-path=\"url(#clip350)\" style=\"stroke:#000000; stroke-linecap:round; stroke-linejoin:round; stroke-width:4; stroke-opacity:1; fill:none\" points=\"424.614,1122.55 428.869,1118.86 \"/>\n",
       "<polyline clip-path=\"url(#clip350)\" style=\"stroke:#000000; stroke-linecap:round; stroke-linejoin:round; stroke-width:4; stroke-opacity:1; fill:none\" points=\"424.614,977.687 428.869,974.002 \"/>\n",
       "<polyline clip-path=\"url(#clip350)\" style=\"stroke:#000000; stroke-linecap:round; stroke-linejoin:round; stroke-width:4; stroke-opacity:1; fill:none\" points=\"424.614,832.825 428.869,829.14 \"/>\n",
       "<polyline clip-path=\"url(#clip350)\" style=\"stroke:#000000; stroke-linecap:round; stroke-linejoin:round; stroke-width:4; stroke-opacity:1; fill:none\" points=\"424.614,687.964 428.869,684.278 \"/>\n",
       "<polyline clip-path=\"url(#clip350)\" style=\"stroke:#000000; stroke-linecap:round; stroke-linejoin:round; stroke-width:4; stroke-opacity:1; fill:none\" points=\"424.614,543.102 428.869,539.417 \"/>\n",
       "<path clip-path=\"url(#clip350)\" d=\"M318.076 1108.35 Q314.465 1108.35 312.636 1111.91 Q310.831 1115.45 310.831 1122.58 Q310.831 1129.69 312.636 1133.25 Q314.465 1136.8 318.076 1136.8 Q321.711 1136.8 323.516 1133.25 Q325.345 1129.69 325.345 1122.58 Q325.345 1115.45 323.516 1111.91 Q321.711 1108.35 318.076 1108.35 M318.076 1104.64 Q323.886 1104.64 326.942 1109.25 Q330.021 1113.83 330.021 1122.58 Q330.021 1131.31 326.942 1135.92 Q323.886 1140.5 318.076 1140.5 Q312.266 1140.5 309.187 1135.92 Q306.132 1131.31 306.132 1122.58 Q306.132 1113.83 309.187 1109.25 Q312.266 1104.64 318.076 1104.64 Z\" fill=\"#000000\" fill-rule=\"nonzero\" fill-opacity=\"1\" /><path clip-path=\"url(#clip350)\" d=\"M338.238 1133.95 L343.122 1133.95 L343.122 1139.83 L338.238 1139.83 L338.238 1133.95 Z\" fill=\"#000000\" fill-rule=\"nonzero\" fill-opacity=\"1\" /><path clip-path=\"url(#clip350)\" d=\"M363.308 1108.35 Q359.696 1108.35 357.868 1111.91 Q356.062 1115.45 356.062 1122.58 Q356.062 1129.69 357.868 1133.25 Q359.696 1136.8 363.308 1136.8 Q366.942 1136.8 368.747 1133.25 Q370.576 1129.69 370.576 1122.58 Q370.576 1115.45 368.747 1111.91 Q366.942 1108.35 363.308 1108.35 M363.308 1104.64 Q369.118 1104.64 372.173 1109.25 Q375.252 1113.83 375.252 1122.58 Q375.252 1131.31 372.173 1135.92 Q369.118 1140.5 363.308 1140.5 Q357.497 1140.5 354.419 1135.92 Q351.363 1131.31 351.363 1122.58 Q351.363 1113.83 354.419 1109.25 Q357.497 1104.64 363.308 1104.64 Z\" fill=\"#000000\" fill-rule=\"nonzero\" fill-opacity=\"1\" /><path clip-path=\"url(#clip350)\" d=\"M393.469 1108.35 Q389.858 1108.35 388.03 1111.91 Q386.224 1115.45 386.224 1122.58 Q386.224 1129.69 388.03 1133.25 Q389.858 1136.8 393.469 1136.8 Q397.104 1136.8 398.909 1133.25 Q400.738 1129.69 400.738 1122.58 Q400.738 1115.45 398.909 1111.91 Q397.104 1108.35 393.469 1108.35 M393.469 1104.64 Q399.28 1104.64 402.335 1109.25 Q405.414 1113.83 405.414 1122.58 Q405.414 1131.31 402.335 1135.92 Q399.28 1140.5 393.469 1140.5 Q387.659 1140.5 384.581 1135.92 Q381.525 1131.31 381.525 1122.58 Q381.525 1113.83 384.581 1109.25 Q387.659 1104.64 393.469 1104.64 Z\" fill=\"#000000\" fill-rule=\"nonzero\" fill-opacity=\"1\" /><path clip-path=\"url(#clip350)\" d=\"M319.072 963.486 Q315.461 963.486 313.632 967.051 Q311.826 970.592 311.826 977.722 Q311.826 984.828 313.632 988.393 Q315.461 991.935 319.072 991.935 Q322.706 991.935 324.511 988.393 Q326.34 984.828 326.34 977.722 Q326.34 970.592 324.511 967.051 Q322.706 963.486 319.072 963.486 M319.072 959.782 Q324.882 959.782 327.937 964.389 Q331.016 968.972 331.016 977.722 Q331.016 986.449 327.937 991.055 Q324.882 995.638 319.072 995.638 Q313.261 995.638 310.183 991.055 Q307.127 986.449 307.127 977.722 Q307.127 968.972 310.183 964.389 Q313.261 959.782 319.072 959.782 Z\" fill=\"#000000\" fill-rule=\"nonzero\" fill-opacity=\"1\" /><path clip-path=\"url(#clip350)\" d=\"M339.234 989.087 L344.118 989.087 L344.118 994.967 L339.234 994.967 L339.234 989.087 Z\" fill=\"#000000\" fill-rule=\"nonzero\" fill-opacity=\"1\" /><path clip-path=\"url(#clip350)\" d=\"M358.331 991.032 L374.65 991.032 L374.65 994.967 L352.706 994.967 L352.706 991.032 Q355.368 988.277 359.951 983.648 Q364.558 978.995 365.738 977.652 Q367.983 975.129 368.863 973.393 Q369.766 971.634 369.766 969.944 Q369.766 967.189 367.821 965.453 Q365.9 963.717 362.798 963.717 Q360.599 963.717 358.146 964.481 Q355.715 965.245 352.937 966.796 L352.937 962.074 Q355.761 960.939 358.215 960.361 Q360.669 959.782 362.706 959.782 Q368.076 959.782 371.27 962.467 Q374.465 965.152 374.465 969.643 Q374.465 971.773 373.655 973.694 Q372.868 975.592 370.761 978.185 Q370.182 978.856 367.081 982.074 Q363.979 985.268 358.331 991.032 Z\" fill=\"#000000\" fill-rule=\"nonzero\" fill-opacity=\"1\" /><path clip-path=\"url(#clip350)\" d=\"M384.511 960.407 L402.867 960.407 L402.867 964.342 L388.793 964.342 L388.793 972.814 Q389.812 972.467 390.831 972.305 Q391.849 972.12 392.868 972.12 Q398.655 972.12 402.034 975.291 Q405.414 978.463 405.414 983.879 Q405.414 989.458 401.942 992.56 Q398.469 995.638 392.15 995.638 Q389.974 995.638 387.706 995.268 Q385.46 994.898 383.053 994.157 L383.053 989.458 Q385.136 990.592 387.358 991.148 Q389.581 991.703 392.057 991.703 Q396.062 991.703 398.4 989.597 Q400.738 987.49 400.738 983.879 Q400.738 980.268 398.4 978.162 Q396.062 976.055 392.057 976.055 Q390.182 976.055 388.307 976.472 Q386.456 976.888 384.511 977.768 L384.511 960.407 Z\" fill=\"#000000\" fill-rule=\"nonzero\" fill-opacity=\"1\" /><path clip-path=\"url(#clip350)\" d=\"M318.076 818.624 Q314.465 818.624 312.636 822.189 Q310.831 825.73 310.831 832.86 Q310.831 839.966 312.636 843.531 Q314.465 847.073 318.076 847.073 Q321.711 847.073 323.516 843.531 Q325.345 839.966 325.345 832.86 Q325.345 825.73 323.516 822.189 Q321.711 818.624 318.076 818.624 M318.076 814.92 Q323.886 814.92 326.942 819.527 Q330.021 824.11 330.021 832.86 Q330.021 841.587 326.942 846.193 Q323.886 850.777 318.076 850.777 Q312.266 850.777 309.187 846.193 Q306.132 841.587 306.132 832.86 Q306.132 824.11 309.187 819.527 Q312.266 814.92 318.076 814.92 Z\" fill=\"#000000\" fill-rule=\"nonzero\" fill-opacity=\"1\" /><path clip-path=\"url(#clip350)\" d=\"M338.238 844.226 L343.122 844.226 L343.122 850.105 L338.238 850.105 L338.238 844.226 Z\" fill=\"#000000\" fill-rule=\"nonzero\" fill-opacity=\"1\" /><path clip-path=\"url(#clip350)\" d=\"M353.354 815.545 L371.71 815.545 L371.71 819.48 L357.636 819.48 L357.636 827.953 Q358.655 827.605 359.673 827.443 Q360.692 827.258 361.71 827.258 Q367.497 827.258 370.877 830.429 Q374.257 833.601 374.257 839.017 Q374.257 844.596 370.784 847.698 Q367.312 850.777 360.993 850.777 Q358.817 850.777 356.548 850.406 Q354.303 850.036 351.896 849.295 L351.896 844.596 Q353.979 845.73 356.201 846.286 Q358.423 846.841 360.9 846.841 Q364.905 846.841 367.243 844.735 Q369.581 842.629 369.581 839.017 Q369.581 835.406 367.243 833.3 Q364.905 831.193 360.9 831.193 Q359.025 831.193 357.15 831.61 Q355.298 832.027 353.354 832.906 L353.354 815.545 Z\" fill=\"#000000\" fill-rule=\"nonzero\" fill-opacity=\"1\" /><path clip-path=\"url(#clip350)\" d=\"M393.469 818.624 Q389.858 818.624 388.03 822.189 Q386.224 825.73 386.224 832.86 Q386.224 839.966 388.03 843.531 Q389.858 847.073 393.469 847.073 Q397.104 847.073 398.909 843.531 Q400.738 839.966 400.738 832.86 Q400.738 825.73 398.909 822.189 Q397.104 818.624 393.469 818.624 M393.469 814.92 Q399.28 814.92 402.335 819.527 Q405.414 824.11 405.414 832.86 Q405.414 841.587 402.335 846.193 Q399.28 850.777 393.469 850.777 Q387.659 850.777 384.581 846.193 Q381.525 841.587 381.525 832.86 Q381.525 824.11 384.581 819.527 Q387.659 814.92 393.469 814.92 Z\" fill=\"#000000\" fill-rule=\"nonzero\" fill-opacity=\"1\" /><path clip-path=\"url(#clip350)\" d=\"M319.072 673.762 Q315.461 673.762 313.632 677.327 Q311.826 680.869 311.826 687.998 Q311.826 695.105 313.632 698.67 Q315.461 702.211 319.072 702.211 Q322.706 702.211 324.511 698.67 Q326.34 695.105 326.34 687.998 Q326.34 680.869 324.511 677.327 Q322.706 673.762 319.072 673.762 M319.072 670.059 Q324.882 670.059 327.937 674.665 Q331.016 679.248 331.016 687.998 Q331.016 696.725 327.937 701.332 Q324.882 705.915 319.072 705.915 Q313.261 705.915 310.183 701.332 Q307.127 696.725 307.127 687.998 Q307.127 679.248 310.183 674.665 Q313.261 670.059 319.072 670.059 Z\" fill=\"#000000\" fill-rule=\"nonzero\" fill-opacity=\"1\" /><path clip-path=\"url(#clip350)\" d=\"M339.234 699.364 L344.118 699.364 L344.118 705.244 L339.234 705.244 L339.234 699.364 Z\" fill=\"#000000\" fill-rule=\"nonzero\" fill-opacity=\"1\" /><path clip-path=\"url(#clip350)\" d=\"M353.122 670.684 L375.344 670.684 L375.344 672.674 L362.798 705.244 L357.914 705.244 L369.72 674.619 L353.122 674.619 L353.122 670.684 Z\" fill=\"#000000\" fill-rule=\"nonzero\" fill-opacity=\"1\" /><path clip-path=\"url(#clip350)\" d=\"M384.511 670.684 L402.867 670.684 L402.867 674.619 L388.793 674.619 L388.793 683.091 Q389.812 682.744 390.831 682.582 Q391.849 682.396 392.868 682.396 Q398.655 682.396 402.034 685.568 Q405.414 688.739 405.414 694.156 Q405.414 699.734 401.942 702.836 Q398.469 705.915 392.15 705.915 Q389.974 705.915 387.706 705.544 Q385.46 705.174 383.053 704.433 L383.053 699.734 Q385.136 700.869 387.358 701.424 Q389.581 701.98 392.057 701.98 Q396.062 701.98 398.4 699.873 Q400.738 697.767 400.738 694.156 Q400.738 690.545 398.4 688.438 Q396.062 686.332 392.057 686.332 Q390.182 686.332 388.307 686.748 Q386.456 687.165 384.511 688.045 L384.511 670.684 Z\" fill=\"#000000\" fill-rule=\"nonzero\" fill-opacity=\"1\" /><path clip-path=\"url(#clip350)\" d=\"M308.887 556.447 L316.525 556.447 L316.525 530.081 L308.215 531.748 L308.215 527.488 L316.479 525.822 L321.155 525.822 L321.155 556.447 L328.794 556.447 L328.794 560.382 L308.887 560.382 L308.887 556.447 Z\" fill=\"#000000\" fill-rule=\"nonzero\" fill-opacity=\"1\" /><path clip-path=\"url(#clip350)\" d=\"M338.238 554.502 L343.122 554.502 L343.122 560.382 L338.238 560.382 L338.238 554.502 Z\" fill=\"#000000\" fill-rule=\"nonzero\" fill-opacity=\"1\" /><path clip-path=\"url(#clip350)\" d=\"M363.308 528.9 Q359.696 528.9 357.868 532.465 Q356.062 536.007 356.062 543.137 Q356.062 550.243 357.868 553.808 Q359.696 557.349 363.308 557.349 Q366.942 557.349 368.747 553.808 Q370.576 550.243 370.576 543.137 Q370.576 536.007 368.747 532.465 Q366.942 528.9 363.308 528.9 M363.308 525.197 Q369.118 525.197 372.173 529.803 Q375.252 534.387 375.252 543.137 Q375.252 551.863 372.173 556.47 Q369.118 561.053 363.308 561.053 Q357.497 561.053 354.419 556.47 Q351.363 551.863 351.363 543.137 Q351.363 534.387 354.419 529.803 Q357.497 525.197 363.308 525.197 Z\" fill=\"#000000\" fill-rule=\"nonzero\" fill-opacity=\"1\" /><path clip-path=\"url(#clip350)\" d=\"M393.469 528.9 Q389.858 528.9 388.03 532.465 Q386.224 536.007 386.224 543.137 Q386.224 550.243 388.03 553.808 Q389.858 557.349 393.469 557.349 Q397.104 557.349 398.909 553.808 Q400.738 550.243 400.738 543.137 Q400.738 536.007 398.909 532.465 Q397.104 528.9 393.469 528.9 M393.469 525.197 Q399.28 525.197 402.335 529.803 Q405.414 534.387 405.414 543.137 Q405.414 551.863 402.335 556.47 Q399.28 561.053 393.469 561.053 Q387.659 561.053 384.581 556.47 Q381.525 551.863 381.525 543.137 Q381.525 534.387 384.581 529.803 Q387.659 525.197 393.469 525.197 Z\" fill=\"#000000\" fill-rule=\"nonzero\" fill-opacity=\"1\" /><path clip-path=\"url(#clip350)\" d=\"M227.428 846.337 L227.428 818.518 L232.775 818.518 L258.397 840.544 L258.397 818.518 L263.076 818.518 L263.076 847.132 L257.729 847.132 L232.107 825.107 L232.107 846.337 L227.428 846.337 Z\" fill=\"#000000\" fill-rule=\"nonzero\" fill-opacity=\"1\" /><path clip-path=\"url(#clip350)\" d=\"M528.912 12.096 L580.075 12.096 L580.075 18.9825 L558.605 18.9825 L558.605 72.576 L550.382 72.576 L550.382 18.9825 L528.912 18.9825 L528.912 12.096 Z\" fill=\"#000000\" fill-rule=\"nonzero\" fill-opacity=\"1\" /><path clip-path=\"url(#clip350)\" d=\"M594.537 49.7694 Q585.504 49.7694 582.02 51.8354 Q578.536 53.9013 578.536 58.8839 Q578.536 62.8538 581.129 65.2034 Q583.762 67.5124 588.258 67.5124 Q594.456 67.5124 598.183 63.1374 Q601.95 58.7219 601.95 51.4303 L601.95 49.7694 L594.537 49.7694 M609.404 46.6907 L609.404 72.576 L601.95 72.576 L601.95 65.6895 Q599.398 69.8214 595.59 71.8063 Q591.782 73.7508 586.273 73.7508 Q579.306 73.7508 575.174 69.8619 Q571.082 65.9325 571.082 59.3701 Q571.082 51.7138 576.186 47.825 Q581.331 43.9361 591.499 43.9361 L601.95 43.9361 L601.95 43.2069 Q601.95 38.0623 598.547 35.2672 Q595.185 32.4315 589.068 32.4315 Q585.179 32.4315 581.493 33.3632 Q577.807 34.295 574.404 36.1584 L574.404 29.2718 Q578.495 27.692 582.344 26.9223 Q586.192 26.1121 589.838 26.1121 Q599.682 26.1121 604.543 31.2163 Q609.404 36.3204 609.404 46.6907 Z\" fill=\"#000000\" fill-rule=\"nonzero\" fill-opacity=\"1\" /><path clip-path=\"url(#clip350)\" d=\"M651.047 34.1734 Q649.791 33.4443 648.293 33.1202 Q646.834 32.7556 645.052 32.7556 Q638.732 32.7556 635.33 36.8875 Q631.967 40.9789 631.967 48.6757 L631.967 72.576 L624.473 72.576 L624.473 27.2059 L631.967 27.2059 L631.967 34.2544 Q634.317 30.1225 638.084 28.1376 Q641.852 26.1121 647.239 26.1121 Q648.009 26.1121 648.941 26.2337 Q649.872 26.3147 651.007 26.5172 L651.047 34.1734 Z\" fill=\"#000000\" fill-rule=\"nonzero\" fill-opacity=\"1\" /><path clip-path=\"url(#clip350)\" d=\"M687.262 49.3643 Q687.262 41.2625 683.9 36.8065 Q680.578 32.3505 674.542 32.3505 Q668.547 32.3505 665.185 36.8065 Q661.863 41.2625 661.863 49.3643 Q661.863 57.4256 665.185 61.8816 Q668.547 66.3376 674.542 66.3376 Q680.578 66.3376 683.9 61.8816 Q687.262 57.4256 687.262 49.3643 M694.716 66.9452 Q694.716 78.5308 689.571 84.1616 Q684.427 89.8329 673.813 89.8329 Q669.884 89.8329 666.4 89.2252 Q662.916 88.6581 659.635 87.4428 L659.635 80.1917 Q662.916 81.9741 666.116 82.8248 Q669.317 83.6755 672.638 83.6755 Q679.971 83.6755 683.616 79.8271 Q687.262 76.0193 687.262 68.282 L687.262 64.5957 Q684.953 68.6061 681.348 70.5911 Q677.743 72.576 672.719 72.576 Q664.375 72.576 659.27 66.2161 Q654.166 59.8562 654.166 49.3643 Q654.166 38.832 659.27 32.472 Q664.375 26.1121 672.719 26.1121 Q677.743 26.1121 681.348 28.0971 Q684.953 30.082 687.262 34.0924 L687.262 27.2059 L694.716 27.2059 L694.716 66.9452 Z\" fill=\"#000000\" fill-rule=\"nonzero\" fill-opacity=\"1\" /><path clip-path=\"url(#clip350)\" d=\"M748.876 48.0275 L748.876 51.6733 L714.606 51.6733 Q715.092 59.3701 719.224 63.421 Q723.396 67.4314 730.809 67.4314 Q735.103 67.4314 739.114 66.3781 Q743.165 65.3249 747.135 63.2184 L747.135 70.267 Q743.124 71.9684 738.911 72.8596 Q734.698 73.7508 730.364 73.7508 Q719.507 73.7508 713.147 67.4314 Q706.828 61.1119 706.828 50.3365 Q706.828 39.1965 712.823 32.6746 Q718.859 26.1121 729.068 26.1121 Q738.223 26.1121 743.529 32.0264 Q748.876 37.9003 748.876 48.0275 M741.423 45.84 Q741.342 39.7232 737.98 36.0774 Q734.658 32.4315 729.149 32.4315 Q722.91 32.4315 719.143 35.9558 Q715.416 39.4801 714.849 45.8805 L741.423 45.84 Z\" fill=\"#000000\" fill-rule=\"nonzero\" fill-opacity=\"1\" /><path clip-path=\"url(#clip350)\" d=\"M768.483 14.324 L768.483 27.2059 L783.836 27.2059 L783.836 32.9987 L768.483 32.9987 L768.483 57.6282 Q768.483 63.1779 769.982 64.7578 Q771.521 66.3376 776.18 66.3376 L783.836 66.3376 L783.836 72.576 L776.18 72.576 Q767.551 72.576 764.27 69.3758 Q760.989 66.1351 760.989 57.6282 L760.989 32.9987 L755.52 32.9987 L755.52 27.2059 L760.989 27.2059 L760.989 14.324 L768.483 14.324 Z\" fill=\"#000000\" fill-rule=\"nonzero\" fill-opacity=\"1\" /><path clip-path=\"url(#clip350)\" d=\"M828.517 18.8205 L828.517 65.8515 L838.401 65.8515 Q850.919 65.8515 856.712 60.1802 Q862.545 54.509 862.545 42.2752 Q862.545 30.1225 856.712 24.4918 Q850.919 18.8205 838.401 18.8205 L828.517 18.8205 M820.334 12.096 L837.146 12.096 Q854.727 12.096 862.95 19.4281 Q871.173 26.7198 871.173 42.2752 Q871.173 57.9117 862.909 65.2439 Q854.646 72.576 837.146 72.576 L820.334 72.576 L820.334 12.096 Z\" fill=\"#000000\" fill-rule=\"nonzero\" fill-opacity=\"1\" /><path clip-path=\"url(#clip350)\" d=\"M883.893 27.2059 L891.347 27.2059 L891.347 72.576 L883.893 72.576 L883.893 27.2059 M883.893 9.54393 L891.347 9.54393 L891.347 18.9825 L883.893 18.9825 L883.893 9.54393 Z\" fill=\"#000000\" fill-rule=\"nonzero\" fill-opacity=\"1\" /><path clip-path=\"url(#clip350)\" d=\"M935.866 28.5427 L935.866 35.5912 Q932.707 33.9709 929.304 33.1607 Q925.901 32.3505 922.255 32.3505 Q916.705 32.3505 913.91 34.0519 Q911.156 35.7533 911.156 39.156 Q911.156 41.7486 913.141 43.2475 Q915.126 44.7058 921.121 46.0426 L923.673 46.6097 Q931.613 48.3111 934.935 51.4303 Q938.297 54.509 938.297 60.0587 Q938.297 66.3781 933.274 70.0644 Q928.291 73.7508 919.541 73.7508 Q915.895 73.7508 911.925 73.0216 Q907.996 72.3329 903.621 70.9151 L903.621 63.2184 Q907.753 65.3654 911.763 66.4591 Q915.774 67.5124 919.703 67.5124 Q924.969 67.5124 927.805 65.73 Q930.641 63.9071 930.641 60.6258 Q930.641 57.5877 928.575 55.9673 Q926.549 54.3469 919.622 52.8481 L917.03 52.2405 Q910.102 50.7821 907.024 47.7845 Q903.945 44.7463 903.945 39.4801 Q903.945 33.0797 908.482 29.5959 Q913.019 26.1121 921.364 26.1121 Q925.496 26.1121 929.142 26.7198 Q932.788 27.3274 935.866 28.5427 Z\" fill=\"#000000\" fill-rule=\"nonzero\" fill-opacity=\"1\" /><path clip-path=\"url(#clip350)\" d=\"M957.539 14.324 L957.539 27.2059 L972.891 27.2059 L972.891 32.9987 L957.539 32.9987 L957.539 57.6282 Q957.539 63.1779 959.037 64.7578 Q960.577 66.3376 965.235 66.3376 L972.891 66.3376 L972.891 72.576 L965.235 72.576 Q956.607 72.576 953.326 69.3758 Q950.044 66.1351 950.044 57.6282 L950.044 32.9987 L944.576 32.9987 L944.576 27.2059 L950.044 27.2059 L950.044 14.324 L957.539 14.324 Z\" fill=\"#000000\" fill-rule=\"nonzero\" fill-opacity=\"1\" /><path clip-path=\"url(#clip350)\" d=\"M1008.99 34.1734 Q1007.73 33.4443 1006.23 33.1202 Q1004.77 32.7556 1002.99 32.7556 Q996.67 32.7556 993.268 36.8875 Q989.905 40.9789 989.905 48.6757 L989.905 72.576 L982.411 72.576 L982.411 27.2059 L989.905 27.2059 L989.905 34.2544 Q992.255 30.1225 996.022 28.1376 Q999.789 26.1121 1005.18 26.1121 Q1005.95 26.1121 1006.88 26.2337 Q1007.81 26.3147 1008.94 26.5172 L1008.99 34.1734 Z\" fill=\"#000000\" fill-rule=\"nonzero\" fill-opacity=\"1\" /><path clip-path=\"url(#clip350)\" d=\"M1016.8 27.2059 L1024.26 27.2059 L1024.26 72.576 L1016.8 72.576 L1016.8 27.2059 M1016.8 9.54393 L1024.26 9.54393 L1024.26 18.9825 L1016.8 18.9825 L1016.8 9.54393 Z\" fill=\"#000000\" fill-rule=\"nonzero\" fill-opacity=\"1\" /><path clip-path=\"url(#clip350)\" d=\"M1072.42 49.9314 Q1072.42 41.7081 1069.02 37.0496 Q1065.66 32.3505 1059.74 32.3505 Q1053.83 32.3505 1050.43 37.0496 Q1047.06 41.7081 1047.06 49.9314 Q1047.06 58.1548 1050.43 62.8538 Q1053.83 67.5124 1059.74 67.5124 Q1065.66 67.5124 1069.02 62.8538 Q1072.42 58.1548 1072.42 49.9314 M1047.06 34.0924 Q1049.41 30.0415 1052.98 28.0971 Q1056.58 26.1121 1061.57 26.1121 Q1069.83 26.1121 1074.97 32.6746 Q1080.16 39.2371 1080.16 49.9314 Q1080.16 60.6258 1074.97 67.1883 Q1069.83 73.7508 1061.57 73.7508 Q1056.58 73.7508 1052.98 71.8063 Q1049.41 69.8214 1047.06 65.7705 L1047.06 72.576 L1039.57 72.576 L1039.57 9.54393 L1047.06 9.54393 L1047.06 34.0924 Z\" fill=\"#000000\" fill-rule=\"nonzero\" fill-opacity=\"1\" /><path clip-path=\"url(#clip350)\" d=\"M1091.75 54.671 L1091.75 27.2059 L1099.2 27.2059 L1099.2 54.3874 Q1099.2 60.8284 1101.71 64.0691 Q1104.22 67.2693 1109.24 67.2693 Q1115.28 67.2693 1118.76 63.421 Q1122.29 59.5726 1122.29 52.9291 L1122.29 27.2059 L1129.74 27.2059 L1129.74 72.576 L1122.29 72.576 L1122.29 65.6084 Q1119.57 69.7404 1115.97 71.7658 Q1112.4 73.7508 1107.67 73.7508 Q1099.85 73.7508 1095.8 68.8897 Q1091.75 64.0286 1091.75 54.671 M1110.5 26.1121 L1110.5 26.1121 Z\" fill=\"#000000\" fill-rule=\"nonzero\" fill-opacity=\"1\" /><path clip-path=\"url(#clip350)\" d=\"M1152.47 14.324 L1152.47 27.2059 L1167.82 27.2059 L1167.82 32.9987 L1152.47 32.9987 L1152.47 57.6282 Q1152.47 63.1779 1153.97 64.7578 Q1155.51 66.3376 1160.16 66.3376 L1167.82 66.3376 L1167.82 72.576 L1160.16 72.576 Q1151.54 72.576 1148.26 69.3758 Q1144.97 66.1351 1144.97 57.6282 L1144.97 32.9987 L1139.51 32.9987 L1139.51 27.2059 L1144.97 27.2059 L1144.97 14.324 L1152.47 14.324 Z\" fill=\"#000000\" fill-rule=\"nonzero\" fill-opacity=\"1\" /><path clip-path=\"url(#clip350)\" d=\"M1177.62 27.2059 L1185.08 27.2059 L1185.08 72.576 L1177.62 72.576 L1177.62 27.2059 M1177.62 9.54393 L1185.08 9.54393 L1185.08 18.9825 L1177.62 18.9825 L1177.62 9.54393 Z\" fill=\"#000000\" fill-rule=\"nonzero\" fill-opacity=\"1\" /><path clip-path=\"url(#clip350)\" d=\"M1218.25 32.4315 Q1212.26 32.4315 1208.78 37.1306 Q1205.29 41.7891 1205.29 49.9314 Q1205.29 58.0738 1208.74 62.7728 Q1212.22 67.4314 1218.25 67.4314 Q1224.21 67.4314 1227.69 62.7323 Q1231.18 58.0333 1231.18 49.9314 Q1231.18 41.8701 1227.69 37.1711 Q1224.21 32.4315 1218.25 32.4315 M1218.25 26.1121 Q1227.98 26.1121 1233.53 32.4315 Q1239.08 38.7509 1239.08 49.9314 Q1239.08 61.0714 1233.53 67.4314 Q1227.98 73.7508 1218.25 73.7508 Q1208.49 73.7508 1202.94 67.4314 Q1197.43 61.0714 1197.43 49.9314 Q1197.43 38.7509 1202.94 32.4315 Q1208.49 26.1121 1218.25 26.1121 Z\" fill=\"#000000\" fill-rule=\"nonzero\" fill-opacity=\"1\" /><path clip-path=\"url(#clip350)\" d=\"M1289.15 45.1919 L1289.15 72.576 L1281.69 72.576 L1281.69 45.4349 Q1281.69 38.994 1279.18 35.7938 Q1276.67 32.5936 1271.65 32.5936 Q1265.61 32.5936 1262.13 36.4419 Q1258.64 40.2903 1258.64 46.9338 L1258.64 72.576 L1251.15 72.576 L1251.15 27.2059 L1258.64 27.2059 L1258.64 34.2544 Q1261.32 30.163 1264.92 28.1376 Q1268.57 26.1121 1273.31 26.1121 Q1281.12 26.1121 1285.14 30.9732 Q1289.15 35.7938 1289.15 45.1919 Z\" fill=\"#000000\" fill-rule=\"nonzero\" fill-opacity=\"1\" /><circle clip-path=\"url(#clip352)\" cx=\"1198.75\" cy=\"1141.29\" r=\"14.4\" fill=\"#009af9\" fill-rule=\"evenodd\" fill-opacity=\"1\" stroke=\"#000000\" stroke-opacity=\"1\" stroke-width=\"3.2\"/>\n",
       "<circle clip-path=\"url(#clip352)\" cx=\"1119.17\" cy=\"860.779\" r=\"14.4\" fill=\"#009af9\" fill-rule=\"evenodd\" fill-opacity=\"1\" stroke=\"#000000\" stroke-opacity=\"1\" stroke-width=\"3.2\"/>\n",
       "<circle clip-path=\"url(#clip352)\" cx=\"677.398\" cy=\"794.938\" r=\"14.4\" fill=\"#009af9\" fill-rule=\"evenodd\" fill-opacity=\"1\" stroke=\"#000000\" stroke-opacity=\"1\" stroke-width=\"3.2\"/>\n",
       "<circle clip-path=\"url(#clip352)\" cx=\"603.559\" cy=\"946.171\" r=\"14.4\" fill=\"#009af9\" fill-rule=\"evenodd\" fill-opacity=\"1\" stroke=\"#000000\" stroke-opacity=\"1\" stroke-width=\"3.2\"/>\n",
       "<circle clip-path=\"url(#clip352)\" cx=\"1019.68\" cy=\"958.13\" r=\"14.4\" fill=\"#009af9\" fill-rule=\"evenodd\" fill-opacity=\"1\" stroke=\"#000000\" stroke-opacity=\"1\" stroke-width=\"3.2\"/>\n",
       "<circle clip-path=\"url(#clip352)\" cx=\"1238.04\" cy=\"704.643\" r=\"14.4\" fill=\"#009af9\" fill-rule=\"evenodd\" fill-opacity=\"1\" stroke=\"#000000\" stroke-opacity=\"1\" stroke-width=\"3.2\"/>\n",
       "<circle clip-path=\"url(#clip352)\" cx=\"897.752\" cy=\"498.244\" r=\"14.4\" fill=\"#009af9\" fill-rule=\"evenodd\" fill-opacity=\"1\" stroke=\"#000000\" stroke-opacity=\"1\" stroke-width=\"3.2\"/>\n",
       "<circle clip-path=\"url(#clip352)\" cx=\"561.213\" cy=\"573.642\" r=\"14.4\" fill=\"#009af9\" fill-rule=\"evenodd\" fill-opacity=\"1\" stroke=\"#000000\" stroke-opacity=\"1\" stroke-width=\"3.2\"/>\n",
       "<circle clip-path=\"url(#clip352)\" cx=\"784.623\" cy=\"699.822\" r=\"14.4\" fill=\"#009af9\" fill-rule=\"evenodd\" fill-opacity=\"1\" stroke=\"#000000\" stroke-opacity=\"1\" stroke-width=\"3.2\"/>\n",
       "<circle clip-path=\"url(#clip352)\" cx=\"1198.75\" cy=\"561.838\" r=\"14.4\" fill=\"#009af9\" fill-rule=\"evenodd\" fill-opacity=\"1\" stroke=\"#000000\" stroke-opacity=\"1\" stroke-width=\"3.2\"/>\n",
       "<path clip-path=\"url(#clip350)\" d=\"M308.217 298.34 L578.698 298.34 L578.698 194.66 L308.217 194.66  Z\" fill=\"#ffffff\" fill-rule=\"evenodd\" fill-opacity=\"1\"/>\n",
       "<polyline clip-path=\"url(#clip350)\" style=\"stroke:#000000; stroke-linecap:round; stroke-linejoin:round; stroke-width:4; stroke-opacity:1; fill:none\" points=\"308.217,298.34 578.698,298.34 578.698,194.66 308.217,194.66 308.217,298.34 \"/>\n",
       "<circle clip-path=\"url(#clip350)\" cx=\"365.437\" cy=\"246.5\" r=\"20.48\" fill=\"#009af9\" fill-rule=\"evenodd\" fill-opacity=\"1\" stroke=\"#000000\" stroke-opacity=\"1\" stroke-width=\"4.55111\"/>\n",
       "<path clip-path=\"url(#clip350)\" d=\"M430.065 230.493 L430.065 237.854 L438.838 237.854 L438.838 241.164 L430.065 241.164 L430.065 255.238 Q430.065 258.409 430.921 259.312 Q431.801 260.215 434.463 260.215 L438.838 260.215 L438.838 263.78 L434.463 263.78 Q429.532 263.78 427.657 261.951 Q425.782 260.099 425.782 255.238 L425.782 241.164 L422.658 241.164 L422.658 237.854 L425.782 237.854 L425.782 230.493 L430.065 230.493 Z\" fill=\"#000000\" fill-rule=\"nonzero\" fill-opacity=\"1\" /><path clip-path=\"url(#clip350)\" d=\"M456.222 250.747 Q451.06 250.747 449.069 251.928 Q447.079 253.108 447.079 255.956 Q447.079 258.224 448.56 259.567 Q450.065 260.886 452.634 260.886 Q456.176 260.886 458.305 258.386 Q460.458 255.863 460.458 251.696 L460.458 250.747 L456.222 250.747 M464.717 248.988 L464.717 263.78 L460.458 263.78 L460.458 259.845 Q459 262.206 456.824 263.34 Q454.648 264.451 451.5 264.451 Q447.518 264.451 445.157 262.229 Q442.819 259.983 442.819 256.233 Q442.819 251.858 445.736 249.636 Q448.676 247.414 454.486 247.414 L460.458 247.414 L460.458 246.997 Q460.458 244.058 458.514 242.46 Q456.593 240.84 453.097 240.84 Q450.875 240.84 448.768 241.372 Q446.662 241.905 444.718 242.97 L444.718 239.034 Q447.056 238.132 449.255 237.692 Q451.454 237.229 453.537 237.229 Q459.162 237.229 461.94 240.146 Q464.717 243.062 464.717 248.988 Z\" fill=\"#000000\" fill-rule=\"nonzero\" fill-opacity=\"1\" /><path clip-path=\"url(#clip350)\" d=\"M488.514 241.835 Q487.796 241.419 486.94 241.234 Q486.106 241.025 485.088 241.025 Q481.477 241.025 479.532 243.386 Q477.611 245.724 477.611 250.122 L477.611 263.78 L473.329 263.78 L473.329 237.854 L477.611 237.854 L477.611 241.882 Q478.954 239.521 481.106 238.386 Q483.259 237.229 486.338 237.229 Q486.778 237.229 487.31 237.298 Q487.842 237.345 488.49 237.46 L488.514 241.835 Z\" fill=\"#000000\" fill-rule=\"nonzero\" fill-opacity=\"1\" /><path clip-path=\"url(#clip350)\" d=\"M509.208 250.516 Q509.208 245.886 507.287 243.34 Q505.389 240.794 501.939 240.794 Q498.514 240.794 496.592 243.34 Q494.694 245.886 494.694 250.516 Q494.694 255.122 496.592 257.669 Q498.514 260.215 501.939 260.215 Q505.389 260.215 507.287 257.669 Q509.208 255.122 509.208 250.516 M513.467 260.562 Q513.467 267.182 510.527 270.4 Q507.588 273.641 501.523 273.641 Q499.277 273.641 497.287 273.294 Q495.296 272.969 493.421 272.275 L493.421 268.132 Q495.296 269.15 497.125 269.636 Q498.953 270.122 500.852 270.122 Q505.041 270.122 507.125 267.923 Q509.208 265.747 509.208 261.326 L509.208 259.22 Q507.889 261.511 505.828 262.645 Q503.768 263.78 500.898 263.78 Q496.129 263.78 493.213 260.145 Q490.296 256.511 490.296 250.516 Q490.296 244.497 493.213 240.863 Q496.129 237.229 500.898 237.229 Q503.768 237.229 505.828 238.363 Q507.889 239.497 509.208 241.789 L509.208 237.854 L513.467 237.854 L513.467 260.562 Z\" fill=\"#000000\" fill-rule=\"nonzero\" fill-opacity=\"1\" /><path clip-path=\"url(#clip350)\" d=\"M544.416 249.752 L544.416 251.835 L524.833 251.835 Q525.111 256.233 527.472 258.548 Q529.856 260.84 534.092 260.84 Q536.546 260.84 538.837 260.238 Q541.152 259.636 543.421 258.433 L543.421 262.46 Q541.129 263.432 538.722 263.942 Q536.314 264.451 533.837 264.451 Q527.634 264.451 524 260.84 Q520.388 257.229 520.388 251.071 Q520.388 244.706 523.814 240.979 Q527.263 237.229 533.097 237.229 Q538.328 237.229 541.361 240.609 Q544.416 243.965 544.416 249.752 M540.157 248.502 Q540.111 245.007 538.189 242.923 Q536.291 240.84 533.143 240.84 Q529.578 240.84 527.425 242.854 Q525.296 244.868 524.972 248.525 L540.157 248.502 Z\" fill=\"#000000\" fill-rule=\"nonzero\" fill-opacity=\"1\" /><path clip-path=\"url(#clip350)\" d=\"M555.62 230.493 L555.62 237.854 L564.393 237.854 L564.393 241.164 L555.62 241.164 L555.62 255.238 Q555.62 258.409 556.476 259.312 Q557.356 260.215 560.018 260.215 L564.393 260.215 L564.393 263.78 L560.018 263.78 Q555.087 263.78 553.212 261.951 Q551.337 260.099 551.337 255.238 L551.337 241.164 L548.212 241.164 L548.212 237.854 L551.337 237.854 L551.337 230.493 L555.62 230.493 Z\" fill=\"#000000\" fill-rule=\"nonzero\" fill-opacity=\"1\" /></svg>\n"
      ],
      "text/html": [
       "<?xml version=\"1.0\" encoding=\"utf-8\"?>\n",
       "<svg xmlns=\"http://www.w3.org/2000/svg\" xmlns:xlink=\"http://www.w3.org/1999/xlink\" width=\"400\" height=\"400\" viewBox=\"0 0 1600 1600\">\n",
       "<defs>\n",
       "  <clipPath id=\"clip400\">\n",
       "    <rect x=\"0\" y=\"0\" width=\"1600\" height=\"1600\"/>\n",
       "  </clipPath>\n",
       "</defs>\n",
       "<path clip-path=\"url(#clip400)\" d=\"M0 1600 L1600 1600 L1600 0 L0 0  Z\" fill=\"#ffffff\" fill-rule=\"evenodd\" fill-opacity=\"1\"/>\n",
       "<defs>\n",
       "  <clipPath id=\"clip401\">\n",
       "    <rect x=\"320\" y=\"160\" width=\"1121\" height=\"1121\"/>\n",
       "  </clipPath>\n",
       "</defs>\n",
       "<defs>\n",
       "  <clipPath id=\"clip402\">\n",
       "    <rect x=\"265\" y=\"153\" width=\"1288\" height=\"1229\"/>\n",
       "  </clipPath>\n",
       "</defs>\n",
       "<path clip-path=\"url(#clip402)\" d=\"M418.944 1124.29 L418.944 535.903 L763.889 241.71 L1361.35 411.563 L1361.35 999.949 L1016.41 1294.14 L418.944 1124.29  Z\" fill=\"#ffffff\" fill-rule=\"evenodd\" fill-opacity=\"1\"/>\n",
       "<polyline clip-path=\"url(#clip402)\" style=\"stroke:#000000; stroke-linecap:round; stroke-linejoin:round; stroke-width:2; stroke-opacity:0.1; fill:none\" points=\"573.347,1182.87 927.964,875.761 927.964,261.547 \"/>\n",
       "<polyline clip-path=\"url(#clip402)\" style=\"stroke:#000000; stroke-linecap:round; stroke-linejoin:round; stroke-width:2; stroke-opacity:0.1; fill:none\" points=\"722.713,1225.99 1077.33,918.879 1077.33,304.665 \"/>\n",
       "<polyline clip-path=\"url(#clip402)\" style=\"stroke:#000000; stroke-linecap:round; stroke-linejoin:round; stroke-width:2; stroke-opacity:0.1; fill:none\" points=\"872.079,1269.1 1226.7,961.997 1226.7,347.783 \"/>\n",
       "<polyline clip-path=\"url(#clip402)\" style=\"stroke:#000000; stroke-linecap:round; stroke-linejoin:round; stroke-width:2; stroke-opacity:0.1; fill:none\" points=\"1021.44,1312.22 1376.06,1005.12 1376.06,390.902 \"/>\n",
       "<polyline clip-path=\"url(#clip400)\" style=\"stroke:#000000; stroke-linecap:round; stroke-linejoin:round; stroke-width:4; stroke-opacity:1; fill:none\" points=\"424.614,1139.93 1038.83,1317.24 \"/>\n",
       "<polyline clip-path=\"url(#clip400)\" style=\"stroke:#000000; stroke-linecap:round; stroke-linejoin:round; stroke-width:4; stroke-opacity:1; fill:none\" points=\"573.347,1182.87 577.603,1179.18 \"/>\n",
       "<polyline clip-path=\"url(#clip400)\" style=\"stroke:#000000; stroke-linecap:round; stroke-linejoin:round; stroke-width:4; stroke-opacity:1; fill:none\" points=\"722.713,1225.99 726.968,1222.3 \"/>\n",
       "<polyline clip-path=\"url(#clip400)\" style=\"stroke:#000000; stroke-linecap:round; stroke-linejoin:round; stroke-width:4; stroke-opacity:1; fill:none\" points=\"872.079,1269.1 876.334,1265.42 \"/>\n",
       "<polyline clip-path=\"url(#clip400)\" style=\"stroke:#000000; stroke-linecap:round; stroke-linejoin:round; stroke-width:4; stroke-opacity:1; fill:none\" points=\"1021.44,1312.22 1025.7,1308.54 \"/>\n",
       "<path clip-path=\"url(#clip400)\" d=\"M462.148 1201.79 L491.824 1201.79 L491.824 1205.72 L462.148 1205.72 L462.148 1201.79 Z\" fill=\"#000000\" fill-rule=\"nonzero\" fill-opacity=\"1\" /><path clip-path=\"url(#clip400)\" d=\"M511.917 1187.13 Q508.306 1187.13 506.477 1190.7 Q504.671 1194.24 504.671 1201.37 Q504.671 1208.48 506.477 1212.04 Q508.306 1215.58 511.917 1215.58 Q515.551 1215.58 517.356 1212.04 Q519.185 1208.48 519.185 1201.37 Q519.185 1194.24 517.356 1190.7 Q515.551 1187.13 511.917 1187.13 M511.917 1183.43 Q517.727 1183.43 520.782 1188.04 Q523.861 1192.62 523.861 1201.37 Q523.861 1210.1 520.782 1214.7 Q517.727 1219.29 511.917 1219.29 Q506.106 1219.29 503.028 1214.7 Q499.972 1210.1 499.972 1201.37 Q499.972 1192.62 503.028 1188.04 Q506.106 1183.43 511.917 1183.43 Z\" fill=\"#000000\" fill-rule=\"nonzero\" fill-opacity=\"1\" /><path clip-path=\"url(#clip400)\" d=\"M532.079 1212.74 L536.963 1212.74 L536.963 1218.62 L532.079 1218.62 L532.079 1212.74 Z\" fill=\"#000000\" fill-rule=\"nonzero\" fill-opacity=\"1\" /><path clip-path=\"url(#clip400)\" d=\"M547.194 1184.06 L565.551 1184.06 L565.551 1187.99 L551.477 1187.99 L551.477 1196.46 Q552.495 1196.12 553.514 1195.95 Q554.532 1195.77 555.551 1195.77 Q561.338 1195.77 564.717 1198.94 Q568.097 1202.11 568.097 1207.53 Q568.097 1213.11 564.625 1216.21 Q561.152 1219.29 554.833 1219.29 Q552.657 1219.29 550.389 1218.92 Q548.143 1218.55 545.736 1217.81 L545.736 1213.11 Q547.819 1214.24 550.041 1214.8 Q552.264 1215.35 554.74 1215.35 Q558.745 1215.35 561.083 1213.25 Q563.421 1211.14 563.421 1207.53 Q563.421 1203.92 561.083 1201.81 Q558.745 1199.7 554.74 1199.7 Q552.865 1199.7 550.99 1200.12 Q549.139 1200.54 547.194 1201.42 L547.194 1184.06 Z\" fill=\"#000000\" fill-rule=\"nonzero\" fill-opacity=\"1\" /><path clip-path=\"url(#clip400)\" d=\"M660.287 1230.25 Q656.676 1230.25 654.847 1233.82 Q653.042 1237.36 653.042 1244.49 Q653.042 1251.6 654.847 1255.16 Q656.676 1258.7 660.287 1258.7 Q663.921 1258.7 665.727 1255.16 Q667.555 1251.6 667.555 1244.49 Q667.555 1237.36 665.727 1233.82 Q663.921 1230.25 660.287 1230.25 M660.287 1226.55 Q666.097 1226.55 669.153 1231.16 Q672.231 1235.74 672.231 1244.49 Q672.231 1253.22 669.153 1257.82 Q666.097 1262.41 660.287 1262.41 Q654.477 1262.41 651.398 1257.82 Q648.343 1253.22 648.343 1244.49 Q648.343 1235.74 651.398 1231.16 Q654.477 1226.55 660.287 1226.55 Z\" fill=\"#000000\" fill-rule=\"nonzero\" fill-opacity=\"1\" /><path clip-path=\"url(#clip400)\" d=\"M680.449 1255.85 L685.333 1255.85 L685.333 1261.73 L680.449 1261.73 L680.449 1255.85 Z\" fill=\"#000000\" fill-rule=\"nonzero\" fill-opacity=\"1\" /><path clip-path=\"url(#clip400)\" d=\"M705.518 1230.25 Q701.907 1230.25 700.078 1233.82 Q698.273 1237.36 698.273 1244.49 Q698.273 1251.6 700.078 1255.16 Q701.907 1258.7 705.518 1258.7 Q709.152 1258.7 710.958 1255.16 Q712.787 1251.6 712.787 1244.49 Q712.787 1237.36 710.958 1233.82 Q709.152 1230.25 705.518 1230.25 M705.518 1226.55 Q711.328 1226.55 714.384 1231.16 Q717.463 1235.74 717.463 1244.49 Q717.463 1253.22 714.384 1257.82 Q711.328 1262.41 705.518 1262.41 Q699.708 1262.41 696.629 1257.82 Q693.574 1253.22 693.574 1244.49 Q693.574 1235.74 696.629 1231.16 Q699.708 1226.55 705.518 1226.55 Z\" fill=\"#000000\" fill-rule=\"nonzero\" fill-opacity=\"1\" /><path clip-path=\"url(#clip400)\" d=\"M810.648 1273.37 Q807.037 1273.37 805.208 1276.94 Q803.403 1280.48 803.403 1287.61 Q803.403 1294.71 805.208 1298.28 Q807.037 1301.82 810.648 1301.82 Q814.282 1301.82 816.088 1298.28 Q817.916 1294.71 817.916 1287.61 Q817.916 1280.48 816.088 1276.94 Q814.282 1273.37 810.648 1273.37 M810.648 1269.67 Q816.458 1269.67 819.514 1274.27 Q822.592 1278.86 822.592 1287.61 Q822.592 1296.33 819.514 1300.94 Q816.458 1305.52 810.648 1305.52 Q804.838 1305.52 801.759 1300.94 Q798.704 1296.33 798.704 1287.61 Q798.704 1278.86 801.759 1274.27 Q804.838 1269.67 810.648 1269.67 Z\" fill=\"#000000\" fill-rule=\"nonzero\" fill-opacity=\"1\" /><path clip-path=\"url(#clip400)\" d=\"M830.81 1298.97 L835.694 1298.97 L835.694 1304.85 L830.81 1304.85 L830.81 1298.97 Z\" fill=\"#000000\" fill-rule=\"nonzero\" fill-opacity=\"1\" /><path clip-path=\"url(#clip400)\" d=\"M845.926 1270.29 L864.282 1270.29 L864.282 1274.23 L850.208 1274.23 L850.208 1282.7 Q851.226 1282.35 852.245 1282.19 Q853.263 1282.01 854.282 1282.01 Q860.069 1282.01 863.449 1285.18 Q866.828 1288.35 866.828 1293.76 Q866.828 1299.34 863.356 1302.44 Q859.884 1305.52 853.564 1305.52 Q851.388 1305.52 849.12 1305.15 Q846.875 1304.78 844.467 1304.04 L844.467 1299.34 Q846.551 1300.48 848.773 1301.03 Q850.995 1301.59 853.472 1301.59 Q857.476 1301.59 859.814 1299.48 Q862.152 1297.38 862.152 1293.76 Q862.152 1290.15 859.814 1288.05 Q857.476 1285.94 853.472 1285.94 Q851.597 1285.94 849.722 1286.36 Q847.87 1286.77 845.926 1287.65 L845.926 1270.29 Z\" fill=\"#000000\" fill-rule=\"nonzero\" fill-opacity=\"1\" /><path clip-path=\"url(#clip400)\" d=\"M949.829 1344.04 L957.467 1344.04 L957.467 1317.67 L949.157 1319.34 L949.157 1315.08 L957.421 1313.41 L962.097 1313.41 L962.097 1344.04 L969.736 1344.04 L969.736 1347.97 L949.829 1347.97 L949.829 1344.04 Z\" fill=\"#000000\" fill-rule=\"nonzero\" fill-opacity=\"1\" /><path clip-path=\"url(#clip400)\" d=\"M979.18 1342.09 L984.064 1342.09 L984.064 1347.97 L979.18 1347.97 L979.18 1342.09 Z\" fill=\"#000000\" fill-rule=\"nonzero\" fill-opacity=\"1\" /><path clip-path=\"url(#clip400)\" d=\"M1004.25 1316.49 Q1000.64 1316.49 998.81 1320.05 Q997.004 1323.6 997.004 1330.73 Q997.004 1337.83 998.81 1341.4 Q1000.64 1344.94 1004.25 1344.94 Q1007.88 1344.94 1009.69 1341.4 Q1011.52 1337.83 1011.52 1330.73 Q1011.52 1323.6 1009.69 1320.05 Q1007.88 1316.49 1004.25 1316.49 M1004.25 1312.79 Q1010.06 1312.79 1013.12 1317.39 Q1016.19 1321.98 1016.19 1330.73 Q1016.19 1339.45 1013.12 1344.06 Q1010.06 1348.64 1004.25 1348.64 Q998.439 1348.64 995.361 1344.06 Q992.305 1339.45 992.305 1330.73 Q992.305 1321.98 995.361 1317.39 Q998.439 1312.79 1004.25 1312.79 Z\" fill=\"#000000\" fill-rule=\"nonzero\" fill-opacity=\"1\" /><path clip-path=\"url(#clip400)\" d=\"M625.215 1373.08 L612.325 1390.43 L625.884 1408.73 L618.977 1408.73 L608.601 1394.73 L598.225 1408.73 L591.318 1408.73 L605.163 1390.08 L592.495 1373.08 L599.402 1373.08 L608.855 1385.78 L618.308 1373.08 L625.215 1373.08 Z\" fill=\"#000000\" fill-rule=\"nonzero\" fill-opacity=\"1\" /><polyline clip-path=\"url(#clip402)\" style=\"stroke:#000000; stroke-linecap:round; stroke-linejoin:round; stroke-width:2; stroke-opacity:0.1; fill:none\" points=\"1046.28,1310.78 432.07,1133.48 432.07,519.261 \"/>\n",
       "<polyline clip-path=\"url(#clip402)\" style=\"stroke:#000000; stroke-linecap:round; stroke-linejoin:round; stroke-width:2; stroke-opacity:0.1; fill:none\" points=\"1131.21,1237.24 516.996,1059.93 516.996,445.713 \"/>\n",
       "<polyline clip-path=\"url(#clip402)\" style=\"stroke:#000000; stroke-linecap:round; stroke-linejoin:round; stroke-width:2; stroke-opacity:0.1; fill:none\" points=\"1216.14,1163.69 601.922,986.379 601.922,372.165 \"/>\n",
       "<polyline clip-path=\"url(#clip402)\" style=\"stroke:#000000; stroke-linecap:round; stroke-linejoin:round; stroke-width:2; stroke-opacity:0.1; fill:none\" points=\"1301.06,1090.14 686.848,912.831 686.848,298.617 \"/>\n",
       "<polyline clip-path=\"url(#clip402)\" style=\"stroke:#000000; stroke-linecap:round; stroke-linejoin:round; stroke-width:2; stroke-opacity:0.1; fill:none\" points=\"1385.99,1016.59 771.774,839.282 771.774,225.068 \"/>\n",
       "<polyline clip-path=\"url(#clip400)\" style=\"stroke:#000000; stroke-linecap:round; stroke-linejoin:round; stroke-width:4; stroke-opacity:1; fill:none\" points=\"1038.83,1317.24 1393.44,1010.13 \"/>\n",
       "<polyline clip-path=\"url(#clip400)\" style=\"stroke:#000000; stroke-linecap:round; stroke-linejoin:round; stroke-width:4; stroke-opacity:1; fill:none\" points=\"1046.28,1310.78 1038.91,1308.66 \"/>\n",
       "<polyline clip-path=\"url(#clip400)\" style=\"stroke:#000000; stroke-linecap:round; stroke-linejoin:round; stroke-width:4; stroke-opacity:1; fill:none\" points=\"1131.21,1237.24 1123.84,1235.11 \"/>\n",
       "<polyline clip-path=\"url(#clip400)\" style=\"stroke:#000000; stroke-linecap:round; stroke-linejoin:round; stroke-width:4; stroke-opacity:1; fill:none\" points=\"1216.14,1163.69 1208.77,1161.56 \"/>\n",
       "<polyline clip-path=\"url(#clip400)\" style=\"stroke:#000000; stroke-linecap:round; stroke-linejoin:round; stroke-width:4; stroke-opacity:1; fill:none\" points=\"1301.06,1090.14 1293.69,1088.01 \"/>\n",
       "<polyline clip-path=\"url(#clip400)\" style=\"stroke:#000000; stroke-linecap:round; stroke-linejoin:round; stroke-width:4; stroke-opacity:1; fill:none\" points=\"1385.99,1016.59 1378.62,1014.46 \"/>\n",
       "<path clip-path=\"url(#clip400)\" d=\"M1058.74 1325.84 L1088.42 1325.84 L1088.42 1329.78 L1058.74 1329.78 L1058.74 1325.84 Z\" fill=\"#000000\" fill-rule=\"nonzero\" fill-opacity=\"1\" /><path clip-path=\"url(#clip400)\" d=\"M1099.32 1338.74 L1106.96 1338.74 L1106.96 1312.37 L1098.65 1314.04 L1098.65 1309.78 L1106.91 1308.11 L1111.59 1308.11 L1111.59 1338.74 L1119.23 1338.74 L1119.23 1342.67 L1099.32 1342.67 L1099.32 1338.74 Z\" fill=\"#000000\" fill-rule=\"nonzero\" fill-opacity=\"1\" /><path clip-path=\"url(#clip400)\" d=\"M1128.67 1336.79 L1133.56 1336.79 L1133.56 1342.67 L1128.67 1342.67 L1128.67 1336.79 Z\" fill=\"#000000\" fill-rule=\"nonzero\" fill-opacity=\"1\" /><path clip-path=\"url(#clip400)\" d=\"M1153.74 1311.19 Q1150.13 1311.19 1148.3 1314.76 Q1146.5 1318.3 1146.5 1325.43 Q1146.5 1332.53 1148.3 1336.1 Q1150.13 1339.64 1153.74 1339.64 Q1157.38 1339.64 1159.18 1336.1 Q1161.01 1332.53 1161.01 1325.43 Q1161.01 1318.3 1159.18 1314.76 Q1157.38 1311.19 1153.74 1311.19 M1153.74 1307.49 Q1159.55 1307.49 1162.61 1312.09 Q1165.69 1316.68 1165.69 1325.43 Q1165.69 1334.15 1162.61 1338.76 Q1159.55 1343.34 1153.74 1343.34 Q1147.93 1343.34 1144.85 1338.76 Q1141.8 1334.15 1141.8 1325.43 Q1141.8 1316.68 1144.85 1312.09 Q1147.93 1307.49 1153.74 1307.49 Z\" fill=\"#000000\" fill-rule=\"nonzero\" fill-opacity=\"1\" /><path clip-path=\"url(#clip400)\" d=\"M1143.67 1252.3 L1173.34 1252.3 L1173.34 1256.23 L1143.67 1256.23 L1143.67 1252.3 Z\" fill=\"#000000\" fill-rule=\"nonzero\" fill-opacity=\"1\" /><path clip-path=\"url(#clip400)\" d=\"M1193.44 1237.64 Q1189.83 1237.64 1188 1241.21 Q1186.19 1244.75 1186.19 1251.88 Q1186.19 1258.98 1188 1262.55 Q1189.83 1266.09 1193.44 1266.09 Q1197.07 1266.09 1198.88 1262.55 Q1200.71 1258.98 1200.71 1251.88 Q1200.71 1244.75 1198.88 1241.21 Q1197.07 1237.64 1193.44 1237.64 M1193.44 1233.94 Q1199.25 1233.94 1202.3 1238.55 Q1205.38 1243.13 1205.38 1251.88 Q1205.38 1260.61 1202.3 1265.21 Q1199.25 1269.8 1193.44 1269.8 Q1187.63 1269.8 1184.55 1265.21 Q1181.49 1260.61 1181.49 1251.88 Q1181.49 1243.13 1184.55 1238.55 Q1187.63 1233.94 1193.44 1233.94 Z\" fill=\"#000000\" fill-rule=\"nonzero\" fill-opacity=\"1\" /><path clip-path=\"url(#clip400)\" d=\"M1213.6 1263.24 L1218.48 1263.24 L1218.48 1269.12 L1213.6 1269.12 L1213.6 1263.24 Z\" fill=\"#000000\" fill-rule=\"nonzero\" fill-opacity=\"1\" /><path clip-path=\"url(#clip400)\" d=\"M1228.71 1234.56 L1247.07 1234.56 L1247.07 1238.5 L1233 1238.5 L1233 1246.97 Q1234.02 1246.62 1235.03 1246.46 Q1236.05 1246.28 1237.07 1246.28 Q1242.86 1246.28 1246.24 1249.45 Q1249.62 1252.62 1249.62 1258.04 Q1249.62 1263.61 1246.15 1266.72 Q1242.67 1269.8 1236.35 1269.8 Q1234.18 1269.8 1231.91 1269.42 Q1229.66 1269.05 1227.26 1268.31 L1227.26 1263.61 Q1229.34 1264.75 1231.56 1265.3 Q1233.78 1265.86 1236.26 1265.86 Q1240.27 1265.86 1242.6 1263.75 Q1244.94 1261.65 1244.94 1258.04 Q1244.94 1254.42 1242.6 1252.32 Q1240.27 1250.21 1236.26 1250.21 Q1234.39 1250.21 1232.51 1250.63 Q1230.66 1251.05 1228.71 1251.92 L1228.71 1234.56 Z\" fill=\"#000000\" fill-rule=\"nonzero\" fill-opacity=\"1\" /><path clip-path=\"url(#clip400)\" d=\"M1240.54 1164.09 Q1236.93 1164.09 1235.1 1167.66 Q1233.29 1171.2 1233.29 1178.33 Q1233.29 1185.44 1235.1 1189 Q1236.93 1192.54 1240.54 1192.54 Q1244.17 1192.54 1245.98 1189 Q1247.81 1185.44 1247.81 1178.33 Q1247.81 1171.2 1245.98 1167.66 Q1244.17 1164.09 1240.54 1164.09 M1240.54 1160.39 Q1246.35 1160.39 1249.41 1165 Q1252.48 1169.58 1252.48 1178.33 Q1252.48 1187.06 1249.41 1191.66 Q1246.35 1196.25 1240.54 1196.25 Q1234.73 1196.25 1231.65 1191.66 Q1228.6 1187.06 1228.6 1178.33 Q1228.6 1169.58 1231.65 1165 Q1234.73 1160.39 1240.54 1160.39 Z\" fill=\"#000000\" fill-rule=\"nonzero\" fill-opacity=\"1\" /><path clip-path=\"url(#clip400)\" d=\"M1260.7 1189.7 L1265.59 1189.7 L1265.59 1195.58 L1260.7 1195.58 L1260.7 1189.7 Z\" fill=\"#000000\" fill-rule=\"nonzero\" fill-opacity=\"1\" /><path clip-path=\"url(#clip400)\" d=\"M1285.77 1164.09 Q1282.16 1164.09 1280.33 1167.66 Q1278.53 1171.2 1278.53 1178.33 Q1278.53 1185.44 1280.33 1189 Q1282.16 1192.54 1285.77 1192.54 Q1289.4 1192.54 1291.21 1189 Q1293.04 1185.44 1293.04 1178.33 Q1293.04 1171.2 1291.21 1167.66 Q1289.4 1164.09 1285.77 1164.09 M1285.77 1160.39 Q1291.58 1160.39 1294.64 1165 Q1297.72 1169.58 1297.72 1178.33 Q1297.72 1187.06 1294.64 1191.66 Q1291.58 1196.25 1285.77 1196.25 Q1279.96 1196.25 1276.88 1191.66 Q1273.83 1187.06 1273.83 1178.33 Q1273.83 1169.58 1276.88 1165 Q1279.96 1160.39 1285.77 1160.39 Z\" fill=\"#000000\" fill-rule=\"nonzero\" fill-opacity=\"1\" /><path clip-path=\"url(#clip400)\" d=\"M1325.47 1090.55 Q1321.85 1090.55 1320.03 1094.11 Q1318.22 1097.65 1318.22 1104.78 Q1318.22 1111.89 1320.03 1115.45 Q1321.85 1118.99 1325.47 1118.99 Q1329.1 1118.99 1330.91 1115.45 Q1332.73 1111.89 1332.73 1104.78 Q1332.73 1097.65 1330.91 1094.11 Q1329.1 1090.55 1325.47 1090.55 M1325.47 1086.84 Q1331.28 1086.84 1334.33 1091.45 Q1337.41 1096.03 1337.41 1104.78 Q1337.41 1113.51 1334.33 1118.12 Q1331.28 1122.7 1325.47 1122.7 Q1319.66 1122.7 1316.58 1118.12 Q1313.52 1113.51 1313.52 1104.78 Q1313.52 1096.03 1316.58 1091.45 Q1319.66 1086.84 1325.47 1086.84 Z\" fill=\"#000000\" fill-rule=\"nonzero\" fill-opacity=\"1\" /><path clip-path=\"url(#clip400)\" d=\"M1345.63 1116.15 L1350.51 1116.15 L1350.51 1122.03 L1345.63 1122.03 L1345.63 1116.15 Z\" fill=\"#000000\" fill-rule=\"nonzero\" fill-opacity=\"1\" /><path clip-path=\"url(#clip400)\" d=\"M1360.74 1087.47 L1379.1 1087.47 L1379.1 1091.4 L1365.03 1091.4 L1365.03 1099.87 Q1366.04 1099.53 1367.06 1099.37 Q1368.08 1099.18 1369.1 1099.18 Q1374.89 1099.18 1378.27 1102.35 Q1381.65 1105.52 1381.65 1110.94 Q1381.65 1116.52 1378.17 1119.62 Q1374.7 1122.7 1368.38 1122.7 Q1366.21 1122.7 1363.94 1122.33 Q1361.69 1121.96 1359.28 1121.22 L1359.28 1116.52 Q1361.37 1117.65 1363.59 1118.21 Q1365.81 1118.76 1368.29 1118.76 Q1372.29 1118.76 1374.63 1116.66 Q1376.97 1114.55 1376.97 1110.94 Q1376.97 1107.33 1374.63 1105.22 Q1372.29 1103.12 1368.29 1103.12 Q1366.41 1103.12 1364.54 1103.53 Q1362.69 1103.95 1360.74 1104.83 L1360.74 1087.47 Z\" fill=\"#000000\" fill-rule=\"nonzero\" fill-opacity=\"1\" /><path clip-path=\"url(#clip400)\" d=\"M1399.12 1044.54 L1406.76 1044.54 L1406.76 1018.18 L1398.45 1019.84 L1398.45 1015.59 L1406.71 1013.92 L1411.39 1013.92 L1411.39 1044.54 L1419.03 1044.54 L1419.03 1048.48 L1399.12 1048.48 L1399.12 1044.54 Z\" fill=\"#000000\" fill-rule=\"nonzero\" fill-opacity=\"1\" /><path clip-path=\"url(#clip400)\" d=\"M1428.47 1042.6 L1433.35 1042.6 L1433.35 1048.48 L1428.47 1048.48 L1428.47 1042.6 Z\" fill=\"#000000\" fill-rule=\"nonzero\" fill-opacity=\"1\" /><path clip-path=\"url(#clip400)\" d=\"M1453.54 1017 Q1449.93 1017 1448.1 1020.56 Q1446.29 1024.1 1446.29 1031.23 Q1446.29 1038.34 1448.1 1041.91 Q1449.93 1045.45 1453.54 1045.45 Q1457.17 1045.45 1458.98 1041.91 Q1460.81 1038.34 1460.81 1031.23 Q1460.81 1024.1 1458.98 1020.56 Q1457.17 1017 1453.54 1017 M1453.54 1013.29 Q1459.35 1013.29 1462.41 1017.9 Q1465.48 1022.48 1465.48 1031.23 Q1465.48 1039.96 1462.41 1044.57 Q1459.35 1049.15 1453.54 1049.15 Q1447.73 1049.15 1444.65 1044.57 Q1441.6 1039.96 1441.6 1031.23 Q1441.6 1022.48 1444.65 1017.9 Q1447.73 1013.29 1453.54 1013.29 Z\" fill=\"#000000\" fill-rule=\"nonzero\" fill-opacity=\"1\" /><path clip-path=\"url(#clip400)\" d=\"M1340.94 1347.14 Q1338.46 1353.51 1336.1 1355.45 Q1333.75 1357.39 1329.8 1357.39 L1325.12 1357.39 L1325.12 1352.49 L1328.56 1352.49 Q1330.98 1352.49 1332.32 1351.34 Q1333.65 1350.2 1335.28 1345.93 L1336.33 1343.26 L1321.91 1308.18 L1328.12 1308.18 L1339.26 1336.06 L1350.4 1308.18 L1356.6 1308.18 L1340.94 1347.14 Z\" fill=\"#000000\" fill-rule=\"nonzero\" fill-opacity=\"1\" /><polyline clip-path=\"url(#clip402)\" style=\"stroke:#000000; stroke-linecap:round; stroke-linejoin:round; stroke-width:2; stroke-opacity:0.1; fill:none\" points=\"424.614,1122.55 779.23,815.442 1393.44,992.75 \"/>\n",
       "<polyline clip-path=\"url(#clip402)\" style=\"stroke:#000000; stroke-linecap:round; stroke-linejoin:round; stroke-width:2; stroke-opacity:0.1; fill:none\" points=\"424.614,977.687 779.23,670.58 1393.44,847.888 \"/>\n",
       "<polyline clip-path=\"url(#clip402)\" style=\"stroke:#000000; stroke-linecap:round; stroke-linejoin:round; stroke-width:2; stroke-opacity:0.1; fill:none\" points=\"424.614,832.825 779.23,525.718 1393.44,703.027 \"/>\n",
       "<polyline clip-path=\"url(#clip402)\" style=\"stroke:#000000; stroke-linecap:round; stroke-linejoin:round; stroke-width:2; stroke-opacity:0.1; fill:none\" points=\"424.614,687.964 779.23,380.857 1393.44,558.165 \"/>\n",
       "<polyline clip-path=\"url(#clip402)\" style=\"stroke:#000000; stroke-linecap:round; stroke-linejoin:round; stroke-width:2; stroke-opacity:0.1; fill:none\" points=\"424.614,543.102 779.23,235.995 1393.44,413.303 \"/>\n",
       "<polyline clip-path=\"url(#clip400)\" style=\"stroke:#000000; stroke-linecap:round; stroke-linejoin:round; stroke-width:4; stroke-opacity:1; fill:none\" points=\"424.614,1139.93 424.614,525.718 \"/>\n",
       "<polyline clip-path=\"url(#clip400)\" style=\"stroke:#000000; stroke-linecap:round; stroke-linejoin:round; stroke-width:4; stroke-opacity:1; fill:none\" points=\"424.614,1122.55 428.869,1118.86 \"/>\n",
       "<polyline clip-path=\"url(#clip400)\" style=\"stroke:#000000; stroke-linecap:round; stroke-linejoin:round; stroke-width:4; stroke-opacity:1; fill:none\" points=\"424.614,977.687 428.869,974.002 \"/>\n",
       "<polyline clip-path=\"url(#clip400)\" style=\"stroke:#000000; stroke-linecap:round; stroke-linejoin:round; stroke-width:4; stroke-opacity:1; fill:none\" points=\"424.614,832.825 428.869,829.14 \"/>\n",
       "<polyline clip-path=\"url(#clip400)\" style=\"stroke:#000000; stroke-linecap:round; stroke-linejoin:round; stroke-width:4; stroke-opacity:1; fill:none\" points=\"424.614,687.964 428.869,684.278 \"/>\n",
       "<polyline clip-path=\"url(#clip400)\" style=\"stroke:#000000; stroke-linecap:round; stroke-linejoin:round; stroke-width:4; stroke-opacity:1; fill:none\" points=\"424.614,543.102 428.869,539.417 \"/>\n",
       "<path clip-path=\"url(#clip400)\" d=\"M318.076 1108.35 Q314.465 1108.35 312.636 1111.91 Q310.831 1115.45 310.831 1122.58 Q310.831 1129.69 312.636 1133.25 Q314.465 1136.8 318.076 1136.8 Q321.711 1136.8 323.516 1133.25 Q325.345 1129.69 325.345 1122.58 Q325.345 1115.45 323.516 1111.91 Q321.711 1108.35 318.076 1108.35 M318.076 1104.64 Q323.886 1104.64 326.942 1109.25 Q330.021 1113.83 330.021 1122.58 Q330.021 1131.31 326.942 1135.92 Q323.886 1140.5 318.076 1140.5 Q312.266 1140.5 309.187 1135.92 Q306.132 1131.31 306.132 1122.58 Q306.132 1113.83 309.187 1109.25 Q312.266 1104.64 318.076 1104.64 Z\" fill=\"#000000\" fill-rule=\"nonzero\" fill-opacity=\"1\" /><path clip-path=\"url(#clip400)\" d=\"M338.238 1133.95 L343.122 1133.95 L343.122 1139.83 L338.238 1139.83 L338.238 1133.95 Z\" fill=\"#000000\" fill-rule=\"nonzero\" fill-opacity=\"1\" /><path clip-path=\"url(#clip400)\" d=\"M363.308 1108.35 Q359.696 1108.35 357.868 1111.91 Q356.062 1115.45 356.062 1122.58 Q356.062 1129.69 357.868 1133.25 Q359.696 1136.8 363.308 1136.8 Q366.942 1136.8 368.747 1133.25 Q370.576 1129.69 370.576 1122.58 Q370.576 1115.45 368.747 1111.91 Q366.942 1108.35 363.308 1108.35 M363.308 1104.64 Q369.118 1104.64 372.173 1109.25 Q375.252 1113.83 375.252 1122.58 Q375.252 1131.31 372.173 1135.92 Q369.118 1140.5 363.308 1140.5 Q357.497 1140.5 354.419 1135.92 Q351.363 1131.31 351.363 1122.58 Q351.363 1113.83 354.419 1109.25 Q357.497 1104.64 363.308 1104.64 Z\" fill=\"#000000\" fill-rule=\"nonzero\" fill-opacity=\"1\" /><path clip-path=\"url(#clip400)\" d=\"M393.469 1108.35 Q389.858 1108.35 388.03 1111.91 Q386.224 1115.45 386.224 1122.58 Q386.224 1129.69 388.03 1133.25 Q389.858 1136.8 393.469 1136.8 Q397.104 1136.8 398.909 1133.25 Q400.738 1129.69 400.738 1122.58 Q400.738 1115.45 398.909 1111.91 Q397.104 1108.35 393.469 1108.35 M393.469 1104.64 Q399.28 1104.64 402.335 1109.25 Q405.414 1113.83 405.414 1122.58 Q405.414 1131.31 402.335 1135.92 Q399.28 1140.5 393.469 1140.5 Q387.659 1140.5 384.581 1135.92 Q381.525 1131.31 381.525 1122.58 Q381.525 1113.83 384.581 1109.25 Q387.659 1104.64 393.469 1104.64 Z\" fill=\"#000000\" fill-rule=\"nonzero\" fill-opacity=\"1\" /><path clip-path=\"url(#clip400)\" d=\"M319.072 963.486 Q315.461 963.486 313.632 967.051 Q311.826 970.592 311.826 977.722 Q311.826 984.828 313.632 988.393 Q315.461 991.935 319.072 991.935 Q322.706 991.935 324.511 988.393 Q326.34 984.828 326.34 977.722 Q326.34 970.592 324.511 967.051 Q322.706 963.486 319.072 963.486 M319.072 959.782 Q324.882 959.782 327.937 964.389 Q331.016 968.972 331.016 977.722 Q331.016 986.449 327.937 991.055 Q324.882 995.638 319.072 995.638 Q313.261 995.638 310.183 991.055 Q307.127 986.449 307.127 977.722 Q307.127 968.972 310.183 964.389 Q313.261 959.782 319.072 959.782 Z\" fill=\"#000000\" fill-rule=\"nonzero\" fill-opacity=\"1\" /><path clip-path=\"url(#clip400)\" d=\"M339.234 989.087 L344.118 989.087 L344.118 994.967 L339.234 994.967 L339.234 989.087 Z\" fill=\"#000000\" fill-rule=\"nonzero\" fill-opacity=\"1\" /><path clip-path=\"url(#clip400)\" d=\"M358.331 991.032 L374.65 991.032 L374.65 994.967 L352.706 994.967 L352.706 991.032 Q355.368 988.277 359.951 983.648 Q364.558 978.995 365.738 977.652 Q367.983 975.129 368.863 973.393 Q369.766 971.634 369.766 969.944 Q369.766 967.189 367.821 965.453 Q365.9 963.717 362.798 963.717 Q360.599 963.717 358.146 964.481 Q355.715 965.245 352.937 966.796 L352.937 962.074 Q355.761 960.939 358.215 960.361 Q360.669 959.782 362.706 959.782 Q368.076 959.782 371.27 962.467 Q374.465 965.152 374.465 969.643 Q374.465 971.773 373.655 973.694 Q372.868 975.592 370.761 978.185 Q370.182 978.856 367.081 982.074 Q363.979 985.268 358.331 991.032 Z\" fill=\"#000000\" fill-rule=\"nonzero\" fill-opacity=\"1\" /><path clip-path=\"url(#clip400)\" d=\"M384.511 960.407 L402.867 960.407 L402.867 964.342 L388.793 964.342 L388.793 972.814 Q389.812 972.467 390.831 972.305 Q391.849 972.12 392.868 972.12 Q398.655 972.12 402.034 975.291 Q405.414 978.463 405.414 983.879 Q405.414 989.458 401.942 992.56 Q398.469 995.638 392.15 995.638 Q389.974 995.638 387.706 995.268 Q385.46 994.898 383.053 994.157 L383.053 989.458 Q385.136 990.592 387.358 991.148 Q389.581 991.703 392.057 991.703 Q396.062 991.703 398.4 989.597 Q400.738 987.49 400.738 983.879 Q400.738 980.268 398.4 978.162 Q396.062 976.055 392.057 976.055 Q390.182 976.055 388.307 976.472 Q386.456 976.888 384.511 977.768 L384.511 960.407 Z\" fill=\"#000000\" fill-rule=\"nonzero\" fill-opacity=\"1\" /><path clip-path=\"url(#clip400)\" d=\"M318.076 818.624 Q314.465 818.624 312.636 822.189 Q310.831 825.73 310.831 832.86 Q310.831 839.966 312.636 843.531 Q314.465 847.073 318.076 847.073 Q321.711 847.073 323.516 843.531 Q325.345 839.966 325.345 832.86 Q325.345 825.73 323.516 822.189 Q321.711 818.624 318.076 818.624 M318.076 814.92 Q323.886 814.92 326.942 819.527 Q330.021 824.11 330.021 832.86 Q330.021 841.587 326.942 846.193 Q323.886 850.777 318.076 850.777 Q312.266 850.777 309.187 846.193 Q306.132 841.587 306.132 832.86 Q306.132 824.11 309.187 819.527 Q312.266 814.92 318.076 814.92 Z\" fill=\"#000000\" fill-rule=\"nonzero\" fill-opacity=\"1\" /><path clip-path=\"url(#clip400)\" d=\"M338.238 844.226 L343.122 844.226 L343.122 850.105 L338.238 850.105 L338.238 844.226 Z\" fill=\"#000000\" fill-rule=\"nonzero\" fill-opacity=\"1\" /><path clip-path=\"url(#clip400)\" d=\"M353.354 815.545 L371.71 815.545 L371.71 819.48 L357.636 819.48 L357.636 827.953 Q358.655 827.605 359.673 827.443 Q360.692 827.258 361.71 827.258 Q367.497 827.258 370.877 830.429 Q374.257 833.601 374.257 839.017 Q374.257 844.596 370.784 847.698 Q367.312 850.777 360.993 850.777 Q358.817 850.777 356.548 850.406 Q354.303 850.036 351.896 849.295 L351.896 844.596 Q353.979 845.73 356.201 846.286 Q358.423 846.841 360.9 846.841 Q364.905 846.841 367.243 844.735 Q369.581 842.629 369.581 839.017 Q369.581 835.406 367.243 833.3 Q364.905 831.193 360.9 831.193 Q359.025 831.193 357.15 831.61 Q355.298 832.027 353.354 832.906 L353.354 815.545 Z\" fill=\"#000000\" fill-rule=\"nonzero\" fill-opacity=\"1\" /><path clip-path=\"url(#clip400)\" d=\"M393.469 818.624 Q389.858 818.624 388.03 822.189 Q386.224 825.73 386.224 832.86 Q386.224 839.966 388.03 843.531 Q389.858 847.073 393.469 847.073 Q397.104 847.073 398.909 843.531 Q400.738 839.966 400.738 832.86 Q400.738 825.73 398.909 822.189 Q397.104 818.624 393.469 818.624 M393.469 814.92 Q399.28 814.92 402.335 819.527 Q405.414 824.11 405.414 832.86 Q405.414 841.587 402.335 846.193 Q399.28 850.777 393.469 850.777 Q387.659 850.777 384.581 846.193 Q381.525 841.587 381.525 832.86 Q381.525 824.11 384.581 819.527 Q387.659 814.92 393.469 814.92 Z\" fill=\"#000000\" fill-rule=\"nonzero\" fill-opacity=\"1\" /><path clip-path=\"url(#clip400)\" d=\"M319.072 673.762 Q315.461 673.762 313.632 677.327 Q311.826 680.869 311.826 687.998 Q311.826 695.105 313.632 698.67 Q315.461 702.211 319.072 702.211 Q322.706 702.211 324.511 698.67 Q326.34 695.105 326.34 687.998 Q326.34 680.869 324.511 677.327 Q322.706 673.762 319.072 673.762 M319.072 670.059 Q324.882 670.059 327.937 674.665 Q331.016 679.248 331.016 687.998 Q331.016 696.725 327.937 701.332 Q324.882 705.915 319.072 705.915 Q313.261 705.915 310.183 701.332 Q307.127 696.725 307.127 687.998 Q307.127 679.248 310.183 674.665 Q313.261 670.059 319.072 670.059 Z\" fill=\"#000000\" fill-rule=\"nonzero\" fill-opacity=\"1\" /><path clip-path=\"url(#clip400)\" d=\"M339.234 699.364 L344.118 699.364 L344.118 705.244 L339.234 705.244 L339.234 699.364 Z\" fill=\"#000000\" fill-rule=\"nonzero\" fill-opacity=\"1\" /><path clip-path=\"url(#clip400)\" d=\"M353.122 670.684 L375.344 670.684 L375.344 672.674 L362.798 705.244 L357.914 705.244 L369.72 674.619 L353.122 674.619 L353.122 670.684 Z\" fill=\"#000000\" fill-rule=\"nonzero\" fill-opacity=\"1\" /><path clip-path=\"url(#clip400)\" d=\"M384.511 670.684 L402.867 670.684 L402.867 674.619 L388.793 674.619 L388.793 683.091 Q389.812 682.744 390.831 682.582 Q391.849 682.396 392.868 682.396 Q398.655 682.396 402.034 685.568 Q405.414 688.739 405.414 694.156 Q405.414 699.734 401.942 702.836 Q398.469 705.915 392.15 705.915 Q389.974 705.915 387.706 705.544 Q385.46 705.174 383.053 704.433 L383.053 699.734 Q385.136 700.869 387.358 701.424 Q389.581 701.98 392.057 701.98 Q396.062 701.98 398.4 699.873 Q400.738 697.767 400.738 694.156 Q400.738 690.545 398.4 688.438 Q396.062 686.332 392.057 686.332 Q390.182 686.332 388.307 686.748 Q386.456 687.165 384.511 688.045 L384.511 670.684 Z\" fill=\"#000000\" fill-rule=\"nonzero\" fill-opacity=\"1\" /><path clip-path=\"url(#clip400)\" d=\"M308.887 556.447 L316.525 556.447 L316.525 530.081 L308.215 531.748 L308.215 527.488 L316.479 525.822 L321.155 525.822 L321.155 556.447 L328.794 556.447 L328.794 560.382 L308.887 560.382 L308.887 556.447 Z\" fill=\"#000000\" fill-rule=\"nonzero\" fill-opacity=\"1\" /><path clip-path=\"url(#clip400)\" d=\"M338.238 554.502 L343.122 554.502 L343.122 560.382 L338.238 560.382 L338.238 554.502 Z\" fill=\"#000000\" fill-rule=\"nonzero\" fill-opacity=\"1\" /><path clip-path=\"url(#clip400)\" d=\"M363.308 528.9 Q359.696 528.9 357.868 532.465 Q356.062 536.007 356.062 543.137 Q356.062 550.243 357.868 553.808 Q359.696 557.349 363.308 557.349 Q366.942 557.349 368.747 553.808 Q370.576 550.243 370.576 543.137 Q370.576 536.007 368.747 532.465 Q366.942 528.9 363.308 528.9 M363.308 525.197 Q369.118 525.197 372.173 529.803 Q375.252 534.387 375.252 543.137 Q375.252 551.863 372.173 556.47 Q369.118 561.053 363.308 561.053 Q357.497 561.053 354.419 556.47 Q351.363 551.863 351.363 543.137 Q351.363 534.387 354.419 529.803 Q357.497 525.197 363.308 525.197 Z\" fill=\"#000000\" fill-rule=\"nonzero\" fill-opacity=\"1\" /><path clip-path=\"url(#clip400)\" d=\"M393.469 528.9 Q389.858 528.9 388.03 532.465 Q386.224 536.007 386.224 543.137 Q386.224 550.243 388.03 553.808 Q389.858 557.349 393.469 557.349 Q397.104 557.349 398.909 553.808 Q400.738 550.243 400.738 543.137 Q400.738 536.007 398.909 532.465 Q397.104 528.9 393.469 528.9 M393.469 525.197 Q399.28 525.197 402.335 529.803 Q405.414 534.387 405.414 543.137 Q405.414 551.863 402.335 556.47 Q399.28 561.053 393.469 561.053 Q387.659 561.053 384.581 556.47 Q381.525 551.863 381.525 543.137 Q381.525 534.387 384.581 529.803 Q387.659 525.197 393.469 525.197 Z\" fill=\"#000000\" fill-rule=\"nonzero\" fill-opacity=\"1\" /><path clip-path=\"url(#clip400)\" d=\"M227.428 846.337 L227.428 818.518 L232.775 818.518 L258.397 840.544 L258.397 818.518 L263.076 818.518 L263.076 847.132 L257.729 847.132 L232.107 825.107 L232.107 846.337 L227.428 846.337 Z\" fill=\"#000000\" fill-rule=\"nonzero\" fill-opacity=\"1\" /><path clip-path=\"url(#clip400)\" d=\"M528.912 12.096 L580.075 12.096 L580.075 18.9825 L558.605 18.9825 L558.605 72.576 L550.382 72.576 L550.382 18.9825 L528.912 18.9825 L528.912 12.096 Z\" fill=\"#000000\" fill-rule=\"nonzero\" fill-opacity=\"1\" /><path clip-path=\"url(#clip400)\" d=\"M594.537 49.7694 Q585.504 49.7694 582.02 51.8354 Q578.536 53.9013 578.536 58.8839 Q578.536 62.8538 581.129 65.2034 Q583.762 67.5124 588.258 67.5124 Q594.456 67.5124 598.183 63.1374 Q601.95 58.7219 601.95 51.4303 L601.95 49.7694 L594.537 49.7694 M609.404 46.6907 L609.404 72.576 L601.95 72.576 L601.95 65.6895 Q599.398 69.8214 595.59 71.8063 Q591.782 73.7508 586.273 73.7508 Q579.306 73.7508 575.174 69.8619 Q571.082 65.9325 571.082 59.3701 Q571.082 51.7138 576.186 47.825 Q581.331 43.9361 591.499 43.9361 L601.95 43.9361 L601.95 43.2069 Q601.95 38.0623 598.547 35.2672 Q595.185 32.4315 589.068 32.4315 Q585.179 32.4315 581.493 33.3632 Q577.807 34.295 574.404 36.1584 L574.404 29.2718 Q578.495 27.692 582.344 26.9223 Q586.192 26.1121 589.838 26.1121 Q599.682 26.1121 604.543 31.2163 Q609.404 36.3204 609.404 46.6907 Z\" fill=\"#000000\" fill-rule=\"nonzero\" fill-opacity=\"1\" /><path clip-path=\"url(#clip400)\" d=\"M651.047 34.1734 Q649.791 33.4443 648.293 33.1202 Q646.834 32.7556 645.052 32.7556 Q638.732 32.7556 635.33 36.8875 Q631.967 40.9789 631.967 48.6757 L631.967 72.576 L624.473 72.576 L624.473 27.2059 L631.967 27.2059 L631.967 34.2544 Q634.317 30.1225 638.084 28.1376 Q641.852 26.1121 647.239 26.1121 Q648.009 26.1121 648.941 26.2337 Q649.872 26.3147 651.007 26.5172 L651.047 34.1734 Z\" fill=\"#000000\" fill-rule=\"nonzero\" fill-opacity=\"1\" /><path clip-path=\"url(#clip400)\" d=\"M687.262 49.3643 Q687.262 41.2625 683.9 36.8065 Q680.578 32.3505 674.542 32.3505 Q668.547 32.3505 665.185 36.8065 Q661.863 41.2625 661.863 49.3643 Q661.863 57.4256 665.185 61.8816 Q668.547 66.3376 674.542 66.3376 Q680.578 66.3376 683.9 61.8816 Q687.262 57.4256 687.262 49.3643 M694.716 66.9452 Q694.716 78.5308 689.571 84.1616 Q684.427 89.8329 673.813 89.8329 Q669.884 89.8329 666.4 89.2252 Q662.916 88.6581 659.635 87.4428 L659.635 80.1917 Q662.916 81.9741 666.116 82.8248 Q669.317 83.6755 672.638 83.6755 Q679.971 83.6755 683.616 79.8271 Q687.262 76.0193 687.262 68.282 L687.262 64.5957 Q684.953 68.6061 681.348 70.5911 Q677.743 72.576 672.719 72.576 Q664.375 72.576 659.27 66.2161 Q654.166 59.8562 654.166 49.3643 Q654.166 38.832 659.27 32.472 Q664.375 26.1121 672.719 26.1121 Q677.743 26.1121 681.348 28.0971 Q684.953 30.082 687.262 34.0924 L687.262 27.2059 L694.716 27.2059 L694.716 66.9452 Z\" fill=\"#000000\" fill-rule=\"nonzero\" fill-opacity=\"1\" /><path clip-path=\"url(#clip400)\" d=\"M748.876 48.0275 L748.876 51.6733 L714.606 51.6733 Q715.092 59.3701 719.224 63.421 Q723.396 67.4314 730.809 67.4314 Q735.103 67.4314 739.114 66.3781 Q743.165 65.3249 747.135 63.2184 L747.135 70.267 Q743.124 71.9684 738.911 72.8596 Q734.698 73.7508 730.364 73.7508 Q719.507 73.7508 713.147 67.4314 Q706.828 61.1119 706.828 50.3365 Q706.828 39.1965 712.823 32.6746 Q718.859 26.1121 729.068 26.1121 Q738.223 26.1121 743.529 32.0264 Q748.876 37.9003 748.876 48.0275 M741.423 45.84 Q741.342 39.7232 737.98 36.0774 Q734.658 32.4315 729.149 32.4315 Q722.91 32.4315 719.143 35.9558 Q715.416 39.4801 714.849 45.8805 L741.423 45.84 Z\" fill=\"#000000\" fill-rule=\"nonzero\" fill-opacity=\"1\" /><path clip-path=\"url(#clip400)\" d=\"M768.483 14.324 L768.483 27.2059 L783.836 27.2059 L783.836 32.9987 L768.483 32.9987 L768.483 57.6282 Q768.483 63.1779 769.982 64.7578 Q771.521 66.3376 776.18 66.3376 L783.836 66.3376 L783.836 72.576 L776.18 72.576 Q767.551 72.576 764.27 69.3758 Q760.989 66.1351 760.989 57.6282 L760.989 32.9987 L755.52 32.9987 L755.52 27.2059 L760.989 27.2059 L760.989 14.324 L768.483 14.324 Z\" fill=\"#000000\" fill-rule=\"nonzero\" fill-opacity=\"1\" /><path clip-path=\"url(#clip400)\" d=\"M828.517 18.8205 L828.517 65.8515 L838.401 65.8515 Q850.919 65.8515 856.712 60.1802 Q862.545 54.509 862.545 42.2752 Q862.545 30.1225 856.712 24.4918 Q850.919 18.8205 838.401 18.8205 L828.517 18.8205 M820.334 12.096 L837.146 12.096 Q854.727 12.096 862.95 19.4281 Q871.173 26.7198 871.173 42.2752 Q871.173 57.9117 862.909 65.2439 Q854.646 72.576 837.146 72.576 L820.334 72.576 L820.334 12.096 Z\" fill=\"#000000\" fill-rule=\"nonzero\" fill-opacity=\"1\" /><path clip-path=\"url(#clip400)\" d=\"M883.893 27.2059 L891.347 27.2059 L891.347 72.576 L883.893 72.576 L883.893 27.2059 M883.893 9.54393 L891.347 9.54393 L891.347 18.9825 L883.893 18.9825 L883.893 9.54393 Z\" fill=\"#000000\" fill-rule=\"nonzero\" fill-opacity=\"1\" /><path clip-path=\"url(#clip400)\" d=\"M935.866 28.5427 L935.866 35.5912 Q932.707 33.9709 929.304 33.1607 Q925.901 32.3505 922.255 32.3505 Q916.705 32.3505 913.91 34.0519 Q911.156 35.7533 911.156 39.156 Q911.156 41.7486 913.141 43.2475 Q915.126 44.7058 921.121 46.0426 L923.673 46.6097 Q931.613 48.3111 934.935 51.4303 Q938.297 54.509 938.297 60.0587 Q938.297 66.3781 933.274 70.0644 Q928.291 73.7508 919.541 73.7508 Q915.895 73.7508 911.925 73.0216 Q907.996 72.3329 903.621 70.9151 L903.621 63.2184 Q907.753 65.3654 911.763 66.4591 Q915.774 67.5124 919.703 67.5124 Q924.969 67.5124 927.805 65.73 Q930.641 63.9071 930.641 60.6258 Q930.641 57.5877 928.575 55.9673 Q926.549 54.3469 919.622 52.8481 L917.03 52.2405 Q910.102 50.7821 907.024 47.7845 Q903.945 44.7463 903.945 39.4801 Q903.945 33.0797 908.482 29.5959 Q913.019 26.1121 921.364 26.1121 Q925.496 26.1121 929.142 26.7198 Q932.788 27.3274 935.866 28.5427 Z\" fill=\"#000000\" fill-rule=\"nonzero\" fill-opacity=\"1\" /><path clip-path=\"url(#clip400)\" d=\"M957.539 14.324 L957.539 27.2059 L972.891 27.2059 L972.891 32.9987 L957.539 32.9987 L957.539 57.6282 Q957.539 63.1779 959.037 64.7578 Q960.577 66.3376 965.235 66.3376 L972.891 66.3376 L972.891 72.576 L965.235 72.576 Q956.607 72.576 953.326 69.3758 Q950.044 66.1351 950.044 57.6282 L950.044 32.9987 L944.576 32.9987 L944.576 27.2059 L950.044 27.2059 L950.044 14.324 L957.539 14.324 Z\" fill=\"#000000\" fill-rule=\"nonzero\" fill-opacity=\"1\" /><path clip-path=\"url(#clip400)\" d=\"M1008.99 34.1734 Q1007.73 33.4443 1006.23 33.1202 Q1004.77 32.7556 1002.99 32.7556 Q996.67 32.7556 993.268 36.8875 Q989.905 40.9789 989.905 48.6757 L989.905 72.576 L982.411 72.576 L982.411 27.2059 L989.905 27.2059 L989.905 34.2544 Q992.255 30.1225 996.022 28.1376 Q999.789 26.1121 1005.18 26.1121 Q1005.95 26.1121 1006.88 26.2337 Q1007.81 26.3147 1008.94 26.5172 L1008.99 34.1734 Z\" fill=\"#000000\" fill-rule=\"nonzero\" fill-opacity=\"1\" /><path clip-path=\"url(#clip400)\" d=\"M1016.8 27.2059 L1024.26 27.2059 L1024.26 72.576 L1016.8 72.576 L1016.8 27.2059 M1016.8 9.54393 L1024.26 9.54393 L1024.26 18.9825 L1016.8 18.9825 L1016.8 9.54393 Z\" fill=\"#000000\" fill-rule=\"nonzero\" fill-opacity=\"1\" /><path clip-path=\"url(#clip400)\" d=\"M1072.42 49.9314 Q1072.42 41.7081 1069.02 37.0496 Q1065.66 32.3505 1059.74 32.3505 Q1053.83 32.3505 1050.43 37.0496 Q1047.06 41.7081 1047.06 49.9314 Q1047.06 58.1548 1050.43 62.8538 Q1053.83 67.5124 1059.74 67.5124 Q1065.66 67.5124 1069.02 62.8538 Q1072.42 58.1548 1072.42 49.9314 M1047.06 34.0924 Q1049.41 30.0415 1052.98 28.0971 Q1056.58 26.1121 1061.57 26.1121 Q1069.83 26.1121 1074.97 32.6746 Q1080.16 39.2371 1080.16 49.9314 Q1080.16 60.6258 1074.97 67.1883 Q1069.83 73.7508 1061.57 73.7508 Q1056.58 73.7508 1052.98 71.8063 Q1049.41 69.8214 1047.06 65.7705 L1047.06 72.576 L1039.57 72.576 L1039.57 9.54393 L1047.06 9.54393 L1047.06 34.0924 Z\" fill=\"#000000\" fill-rule=\"nonzero\" fill-opacity=\"1\" /><path clip-path=\"url(#clip400)\" d=\"M1091.75 54.671 L1091.75 27.2059 L1099.2 27.2059 L1099.2 54.3874 Q1099.2 60.8284 1101.71 64.0691 Q1104.22 67.2693 1109.24 67.2693 Q1115.28 67.2693 1118.76 63.421 Q1122.29 59.5726 1122.29 52.9291 L1122.29 27.2059 L1129.74 27.2059 L1129.74 72.576 L1122.29 72.576 L1122.29 65.6084 Q1119.57 69.7404 1115.97 71.7658 Q1112.4 73.7508 1107.67 73.7508 Q1099.85 73.7508 1095.8 68.8897 Q1091.75 64.0286 1091.75 54.671 M1110.5 26.1121 L1110.5 26.1121 Z\" fill=\"#000000\" fill-rule=\"nonzero\" fill-opacity=\"1\" /><path clip-path=\"url(#clip400)\" d=\"M1152.47 14.324 L1152.47 27.2059 L1167.82 27.2059 L1167.82 32.9987 L1152.47 32.9987 L1152.47 57.6282 Q1152.47 63.1779 1153.97 64.7578 Q1155.51 66.3376 1160.16 66.3376 L1167.82 66.3376 L1167.82 72.576 L1160.16 72.576 Q1151.54 72.576 1148.26 69.3758 Q1144.97 66.1351 1144.97 57.6282 L1144.97 32.9987 L1139.51 32.9987 L1139.51 27.2059 L1144.97 27.2059 L1144.97 14.324 L1152.47 14.324 Z\" fill=\"#000000\" fill-rule=\"nonzero\" fill-opacity=\"1\" /><path clip-path=\"url(#clip400)\" d=\"M1177.62 27.2059 L1185.08 27.2059 L1185.08 72.576 L1177.62 72.576 L1177.62 27.2059 M1177.62 9.54393 L1185.08 9.54393 L1185.08 18.9825 L1177.62 18.9825 L1177.62 9.54393 Z\" fill=\"#000000\" fill-rule=\"nonzero\" fill-opacity=\"1\" /><path clip-path=\"url(#clip400)\" d=\"M1218.25 32.4315 Q1212.26 32.4315 1208.78 37.1306 Q1205.29 41.7891 1205.29 49.9314 Q1205.29 58.0738 1208.74 62.7728 Q1212.22 67.4314 1218.25 67.4314 Q1224.21 67.4314 1227.69 62.7323 Q1231.18 58.0333 1231.18 49.9314 Q1231.18 41.8701 1227.69 37.1711 Q1224.21 32.4315 1218.25 32.4315 M1218.25 26.1121 Q1227.98 26.1121 1233.53 32.4315 Q1239.08 38.7509 1239.08 49.9314 Q1239.08 61.0714 1233.53 67.4314 Q1227.98 73.7508 1218.25 73.7508 Q1208.49 73.7508 1202.94 67.4314 Q1197.43 61.0714 1197.43 49.9314 Q1197.43 38.7509 1202.94 32.4315 Q1208.49 26.1121 1218.25 26.1121 Z\" fill=\"#000000\" fill-rule=\"nonzero\" fill-opacity=\"1\" /><path clip-path=\"url(#clip400)\" d=\"M1289.15 45.1919 L1289.15 72.576 L1281.69 72.576 L1281.69 45.4349 Q1281.69 38.994 1279.18 35.7938 Q1276.67 32.5936 1271.65 32.5936 Q1265.61 32.5936 1262.13 36.4419 Q1258.64 40.2903 1258.64 46.9338 L1258.64 72.576 L1251.15 72.576 L1251.15 27.2059 L1258.64 27.2059 L1258.64 34.2544 Q1261.32 30.163 1264.92 28.1376 Q1268.57 26.1121 1273.31 26.1121 Q1281.12 26.1121 1285.14 30.9732 Q1289.15 35.7938 1289.15 45.1919 Z\" fill=\"#000000\" fill-rule=\"nonzero\" fill-opacity=\"1\" /><circle clip-path=\"url(#clip402)\" cx=\"1198.75\" cy=\"1141.29\" r=\"14.4\" fill=\"#009af9\" fill-rule=\"evenodd\" fill-opacity=\"1\" stroke=\"#000000\" stroke-opacity=\"1\" stroke-width=\"3.2\"/>\n",
       "<circle clip-path=\"url(#clip402)\" cx=\"1119.17\" cy=\"860.779\" r=\"14.4\" fill=\"#009af9\" fill-rule=\"evenodd\" fill-opacity=\"1\" stroke=\"#000000\" stroke-opacity=\"1\" stroke-width=\"3.2\"/>\n",
       "<circle clip-path=\"url(#clip402)\" cx=\"677.398\" cy=\"794.938\" r=\"14.4\" fill=\"#009af9\" fill-rule=\"evenodd\" fill-opacity=\"1\" stroke=\"#000000\" stroke-opacity=\"1\" stroke-width=\"3.2\"/>\n",
       "<circle clip-path=\"url(#clip402)\" cx=\"603.559\" cy=\"946.171\" r=\"14.4\" fill=\"#009af9\" fill-rule=\"evenodd\" fill-opacity=\"1\" stroke=\"#000000\" stroke-opacity=\"1\" stroke-width=\"3.2\"/>\n",
       "<circle clip-path=\"url(#clip402)\" cx=\"1019.68\" cy=\"958.13\" r=\"14.4\" fill=\"#009af9\" fill-rule=\"evenodd\" fill-opacity=\"1\" stroke=\"#000000\" stroke-opacity=\"1\" stroke-width=\"3.2\"/>\n",
       "<circle clip-path=\"url(#clip402)\" cx=\"1238.04\" cy=\"704.643\" r=\"14.4\" fill=\"#009af9\" fill-rule=\"evenodd\" fill-opacity=\"1\" stroke=\"#000000\" stroke-opacity=\"1\" stroke-width=\"3.2\"/>\n",
       "<circle clip-path=\"url(#clip402)\" cx=\"897.752\" cy=\"498.244\" r=\"14.4\" fill=\"#009af9\" fill-rule=\"evenodd\" fill-opacity=\"1\" stroke=\"#000000\" stroke-opacity=\"1\" stroke-width=\"3.2\"/>\n",
       "<circle clip-path=\"url(#clip402)\" cx=\"561.213\" cy=\"573.642\" r=\"14.4\" fill=\"#009af9\" fill-rule=\"evenodd\" fill-opacity=\"1\" stroke=\"#000000\" stroke-opacity=\"1\" stroke-width=\"3.2\"/>\n",
       "<circle clip-path=\"url(#clip402)\" cx=\"784.623\" cy=\"699.822\" r=\"14.4\" fill=\"#009af9\" fill-rule=\"evenodd\" fill-opacity=\"1\" stroke=\"#000000\" stroke-opacity=\"1\" stroke-width=\"3.2\"/>\n",
       "<circle clip-path=\"url(#clip402)\" cx=\"1198.75\" cy=\"561.838\" r=\"14.4\" fill=\"#009af9\" fill-rule=\"evenodd\" fill-opacity=\"1\" stroke=\"#000000\" stroke-opacity=\"1\" stroke-width=\"3.2\"/>\n",
       "<path clip-path=\"url(#clip400)\" d=\"M308.217 298.34 L578.698 298.34 L578.698 194.66 L308.217 194.66  Z\" fill=\"#ffffff\" fill-rule=\"evenodd\" fill-opacity=\"1\"/>\n",
       "<polyline clip-path=\"url(#clip400)\" style=\"stroke:#000000; stroke-linecap:round; stroke-linejoin:round; stroke-width:4; stroke-opacity:1; fill:none\" points=\"308.217,298.34 578.698,298.34 578.698,194.66 308.217,194.66 308.217,298.34 \"/>\n",
       "<circle clip-path=\"url(#clip400)\" cx=\"365.437\" cy=\"246.5\" r=\"20.48\" fill=\"#009af9\" fill-rule=\"evenodd\" fill-opacity=\"1\" stroke=\"#000000\" stroke-opacity=\"1\" stroke-width=\"4.55111\"/>\n",
       "<path clip-path=\"url(#clip400)\" d=\"M430.065 230.493 L430.065 237.854 L438.838 237.854 L438.838 241.164 L430.065 241.164 L430.065 255.238 Q430.065 258.409 430.921 259.312 Q431.801 260.215 434.463 260.215 L438.838 260.215 L438.838 263.78 L434.463 263.78 Q429.532 263.78 427.657 261.951 Q425.782 260.099 425.782 255.238 L425.782 241.164 L422.658 241.164 L422.658 237.854 L425.782 237.854 L425.782 230.493 L430.065 230.493 Z\" fill=\"#000000\" fill-rule=\"nonzero\" fill-opacity=\"1\" /><path clip-path=\"url(#clip400)\" d=\"M456.222 250.747 Q451.06 250.747 449.069 251.928 Q447.079 253.108 447.079 255.956 Q447.079 258.224 448.56 259.567 Q450.065 260.886 452.634 260.886 Q456.176 260.886 458.305 258.386 Q460.458 255.863 460.458 251.696 L460.458 250.747 L456.222 250.747 M464.717 248.988 L464.717 263.78 L460.458 263.78 L460.458 259.845 Q459 262.206 456.824 263.34 Q454.648 264.451 451.5 264.451 Q447.518 264.451 445.157 262.229 Q442.819 259.983 442.819 256.233 Q442.819 251.858 445.736 249.636 Q448.676 247.414 454.486 247.414 L460.458 247.414 L460.458 246.997 Q460.458 244.058 458.514 242.46 Q456.593 240.84 453.097 240.84 Q450.875 240.84 448.768 241.372 Q446.662 241.905 444.718 242.97 L444.718 239.034 Q447.056 238.132 449.255 237.692 Q451.454 237.229 453.537 237.229 Q459.162 237.229 461.94 240.146 Q464.717 243.062 464.717 248.988 Z\" fill=\"#000000\" fill-rule=\"nonzero\" fill-opacity=\"1\" /><path clip-path=\"url(#clip400)\" d=\"M488.514 241.835 Q487.796 241.419 486.94 241.234 Q486.106 241.025 485.088 241.025 Q481.477 241.025 479.532 243.386 Q477.611 245.724 477.611 250.122 L477.611 263.78 L473.329 263.78 L473.329 237.854 L477.611 237.854 L477.611 241.882 Q478.954 239.521 481.106 238.386 Q483.259 237.229 486.338 237.229 Q486.778 237.229 487.31 237.298 Q487.842 237.345 488.49 237.46 L488.514 241.835 Z\" fill=\"#000000\" fill-rule=\"nonzero\" fill-opacity=\"1\" /><path clip-path=\"url(#clip400)\" d=\"M509.208 250.516 Q509.208 245.886 507.287 243.34 Q505.389 240.794 501.939 240.794 Q498.514 240.794 496.592 243.34 Q494.694 245.886 494.694 250.516 Q494.694 255.122 496.592 257.669 Q498.514 260.215 501.939 260.215 Q505.389 260.215 507.287 257.669 Q509.208 255.122 509.208 250.516 M513.467 260.562 Q513.467 267.182 510.527 270.4 Q507.588 273.641 501.523 273.641 Q499.277 273.641 497.287 273.294 Q495.296 272.969 493.421 272.275 L493.421 268.132 Q495.296 269.15 497.125 269.636 Q498.953 270.122 500.852 270.122 Q505.041 270.122 507.125 267.923 Q509.208 265.747 509.208 261.326 L509.208 259.22 Q507.889 261.511 505.828 262.645 Q503.768 263.78 500.898 263.78 Q496.129 263.78 493.213 260.145 Q490.296 256.511 490.296 250.516 Q490.296 244.497 493.213 240.863 Q496.129 237.229 500.898 237.229 Q503.768 237.229 505.828 238.363 Q507.889 239.497 509.208 241.789 L509.208 237.854 L513.467 237.854 L513.467 260.562 Z\" fill=\"#000000\" fill-rule=\"nonzero\" fill-opacity=\"1\" /><path clip-path=\"url(#clip400)\" d=\"M544.416 249.752 L544.416 251.835 L524.833 251.835 Q525.111 256.233 527.472 258.548 Q529.856 260.84 534.092 260.84 Q536.546 260.84 538.837 260.238 Q541.152 259.636 543.421 258.433 L543.421 262.46 Q541.129 263.432 538.722 263.942 Q536.314 264.451 533.837 264.451 Q527.634 264.451 524 260.84 Q520.388 257.229 520.388 251.071 Q520.388 244.706 523.814 240.979 Q527.263 237.229 533.097 237.229 Q538.328 237.229 541.361 240.609 Q544.416 243.965 544.416 249.752 M540.157 248.502 Q540.111 245.007 538.189 242.923 Q536.291 240.84 533.143 240.84 Q529.578 240.84 527.425 242.854 Q525.296 244.868 524.972 248.525 L540.157 248.502 Z\" fill=\"#000000\" fill-rule=\"nonzero\" fill-opacity=\"1\" /><path clip-path=\"url(#clip400)\" d=\"M555.62 230.493 L555.62 237.854 L564.393 237.854 L564.393 241.164 L555.62 241.164 L555.62 255.238 Q555.62 258.409 556.476 259.312 Q557.356 260.215 560.018 260.215 L564.393 260.215 L564.393 263.78 L560.018 263.78 Q555.087 263.78 553.212 261.951 Q551.337 260.099 551.337 255.238 L551.337 241.164 L548.212 241.164 L548.212 237.854 L551.337 237.854 L551.337 230.493 L555.62 230.493 Z\" fill=\"#000000\" fill-rule=\"nonzero\" fill-opacity=\"1\" /></svg>\n"
      ]
     },
     "metadata": {},
     "output_type": "display_data"
    }
   ],
   "source": [
    "pos_tn_star = zeros(Float64, (3, n_particles))\n",
    "pos_tn_star[1, :] = cos.(range(0, stop=4π, length=n_particles))\n",
    "pos_tn_star[2, :] = sin.(range(0, stop=4π, length=n_particles))\n",
    "pos_tn_star[3, :] = range(0, stop=1, length=n_particles)\n",
    "\n",
    "# visualize the target distribution\n",
    "scatter(\n",
    "    pos_tn_star[1, :],\n",
    "    pos_tn_star[2, :],\n",
    "    pos_tn_star[3, :],\n",
    "    label=\"target\",\n",
    "    xlabel=\"x\",\n",
    "    ylabel=\"y\",\n",
    "    zlabel=\"z\",\n",
    "    title=\"Target Distribution\",\n",
    "    legend=:topleft,\n",
    "    size=(400, 400))"
   ]
  },
  {
   "cell_type": "markdown",
   "metadata": {},
   "source": [
    "Now we can find the gradients of the loss with respect to the final positions of the particles."
   ]
  },
  {
   "cell_type": "markdown",
   "metadata": {},
   "source": [
    "We introduce the backward function, which passes the gradients through the simulation."
   ]
  },
  {
   "cell_type": "code",
   "execution_count": 122,
   "metadata": {},
   "outputs": [
    {
     "data": {
      "text/plain": [
       "grad (generic function with 1 method)"
      ]
     },
     "metadata": {},
     "output_type": "display_data"
    }
   ],
   "source": [
    "@views function grad(\n",
    "    pos :: AbstractArray{Float64, 3},\n",
    "    vel :: AbstractArray{Float64, 3},\n",
    "    partial_pos :: AbstractArray{Float64, 3},\n",
    "    partial_vel :: AbstractArray{Float64, 3},\n",
    "    pos_star :: AbstractArray{Float64, 2},\n",
    "    dt :: Float64,\n",
    "    n_steps :: Int) :: Nothing\n",
    "\n",
    "    loss_value = zeros(Float64, 1)\n",
    "    partial_loss = ones(Float64, 1)\n",
    "    partial_pos = ones(Float64, (n_steps+1, 3, n_particles))\n",
    "\n",
    "    @views begin\n",
    "        autodiff(\n",
    "            Reverse,\n",
    "            loss!, \n",
    "            Duplicated(pos[end, :, :], partial_pos[end, :, :]),\n",
    "            Const(pos_tn_star),\n",
    "            Duplicated(loss_value, partial_loss))\n",
    "    end\n",
    "\n",
    "    for i in n_steps:-1:2\n",
    "\n",
    "        autodiff(\n",
    "            Reverse,\n",
    "            kdk!,\n",
    "            Duplicated(pos[i, :, :], partial_pos[i, :, :]),\n",
    "            Duplicated(vel[i, :, :], partial_vel[i, :, :]),\n",
    "            Duplicated(pos[i+1, :, :], partial_pos[i+1, :, :]),\n",
    "            Duplicated(vel[i+1, :, :], partial_vel[i+1, :, :]),\n",
    "            Const(dt)\n",
    "        )\n",
    "        \n",
    "    end\n",
    "\n",
    "end\n",
    "    "
   ]
  },
  {
   "cell_type": "code",
   "execution_count": 125,
   "metadata": {},
   "outputs": [
    {
     "data": {
      "text/plain": [
       "1-element Vector{Float64}:\n",
       " 12.402498775133944"
      ]
     },
     "metadata": {},
     "output_type": "display_data"
    },
    {
     "data": {
      "text/plain": [
       "3×10 Matrix{Float64}:\n",
       " 1.0  1.0  1.0  1.0  1.0  1.0  1.0  1.0  1.0  1.0\n",
       " 1.0  1.0  1.0  1.0  1.0  1.0  1.0  1.0  1.0  1.0\n",
       " 1.0  1.0  1.0  1.0  1.0  1.0  1.0  1.0  1.0  1.0"
      ]
     },
     "metadata": {},
     "output_type": "display_data"
    },
    {
     "data": {
      "text/plain": [
       "1-element Vector{Float64}:\n",
       " 12.587231254363033"
      ]
     },
     "metadata": {},
     "output_type": "display_data"
    },
    {
     "data": {
      "text/plain": [
       "3×10 Matrix{Float64}:\n",
       " 1.0  1.0  1.0  1.0  1.0  1.0  1.0  1.0  1.0  1.0\n",
       " 1.0  1.0  1.0  1.0  1.0  1.0  1.0  1.0  1.0  1.0\n",
       " 1.0  1.0  1.0  1.0  1.0  1.0  1.0  1.0  1.0  1.0"
      ]
     },
     "metadata": {},
     "output_type": "display_data"
    },
    {
     "data": {
      "text/plain": [
       "1-element Vector{Float64}:\n",
       " 15.972066293985026"
      ]
     },
     "metadata": {},
     "output_type": "display_data"
    },
    {
     "data": {
      "text/plain": [
       "3×10 Matrix{Float64}:\n",
       " 1.0  1.0  1.0  1.0  1.0  1.0  1.0  1.0  1.0  1.0\n",
       " 1.0  1.0  1.0  1.0  1.0  1.0  1.0  1.0  1.0  1.0\n",
       " 1.0  1.0  1.0  1.0  1.0  1.0  1.0  1.0  1.0  1.0"
      ]
     },
     "metadata": {},
     "output_type": "display_data"
    },
    {
     "data": {
      "text/plain": [
       "1-element Vector{Float64}:\n",
       " 17.79190928978597"
      ]
     },
     "metadata": {},
     "output_type": "display_data"
    },
    {
     "data": {
      "text/plain": [
       "3×10 Matrix{Float64}:\n",
       " 1.0  1.0  1.0  1.0  1.0  1.0  1.0  1.0  1.0  1.0\n",
       " 1.0  1.0  1.0  1.0  1.0  1.0  1.0  1.0  1.0  1.0\n",
       " 1.0  1.0  1.0  1.0  1.0  1.0  1.0  1.0  1.0  1.0"
      ]
     },
     "metadata": {},
     "output_type": "display_data"
    },
    {
     "data": {
      "text/plain": [
       "1-element Vector{Float64}:\n",
       " 16.814445350368533"
      ]
     },
     "metadata": {},
     "output_type": "display_data"
    },
    {
     "data": {
      "text/plain": [
       "3×10 Matrix{Float64}:\n",
       " 1.0  1.0  1.0  1.0  1.0  1.0  1.0  1.0  1.0  1.0\n",
       " 1.0  1.0  1.0  1.0  1.0  1.0  1.0  1.0  1.0  1.0\n",
       " 1.0  1.0  1.0  1.0  1.0  1.0  1.0  1.0  1.0  1.0"
      ]
     },
     "metadata": {},
     "output_type": "display_data"
    },
    {
     "data": {
      "text/plain": [
       "1-element Vector{Float64}:\n",
       " 13.245073979272595"
      ]
     },
     "metadata": {},
     "output_type": "display_data"
    },
    {
     "data": {
      "text/plain": [
       "3×10 Matrix{Float64}:\n",
       " 1.0  1.0  1.0  1.0  1.0  1.0  1.0  1.0  1.0  1.0\n",
       " 1.0  1.0  1.0  1.0  1.0  1.0  1.0  1.0  1.0  1.0\n",
       " 1.0  1.0  1.0  1.0  1.0  1.0  1.0  1.0  1.0  1.0"
      ]
     },
     "metadata": {},
     "output_type": "display_data"
    },
    {
     "data": {
      "text/plain": [
       "1-element Vector{Float64}:\n",
       " 13.16000466612407"
      ]
     },
     "metadata": {},
     "output_type": "display_data"
    },
    {
     "data": {
      "text/plain": [
       "3×10 Matrix{Float64}:\n",
       " 1.0  1.0  1.0  1.0  1.0  1.0  1.0  1.0  1.0  1.0\n",
       " 1.0  1.0  1.0  1.0  1.0  1.0  1.0  1.0  1.0  1.0\n",
       " 1.0  1.0  1.0  1.0  1.0  1.0  1.0  1.0  1.0  1.0"
      ]
     },
     "metadata": {},
     "output_type": "display_data"
    },
    {
     "data": {
      "text/plain": [
       "1-element Vector{Float64}:\n",
       " 14.215753058690508"
      ]
     },
     "metadata": {},
     "output_type": "display_data"
    },
    {
     "data": {
      "text/plain": [
       "3×10 Matrix{Float64}:\n",
       " 1.0  1.0  1.0  1.0  1.0  1.0  1.0  1.0  1.0  1.0\n",
       " 1.0  1.0  1.0  1.0  1.0  1.0  1.0  1.0  1.0  1.0\n",
       " 1.0  1.0  1.0  1.0  1.0  1.0  1.0  1.0  1.0  1.0"
      ]
     },
     "metadata": {},
     "output_type": "display_data"
    },
    {
     "data": {
      "text/plain": [
       "1-element Vector{Float64}:\n",
       " 14.51993865504506"
      ]
     },
     "metadata": {},
     "output_type": "display_data"
    },
    {
     "data": {
      "text/plain": [
       "3×10 Matrix{Float64}:\n",
       " 1.0  1.0  1.0  1.0  1.0  1.0  1.0  1.0  1.0  1.0\n",
       " 1.0  1.0  1.0  1.0  1.0  1.0  1.0  1.0  1.0  1.0\n",
       " 1.0  1.0  1.0  1.0  1.0  1.0  1.0  1.0  1.0  1.0"
      ]
     },
     "metadata": {},
     "output_type": "display_data"
    },
    {
     "data": {
      "text/plain": [
       "1-element Vector{Float64}:\n",
       " 13.85128872878171"
      ]
     },
     "metadata": {},
     "output_type": "display_data"
    },
    {
     "data": {
      "text/plain": [
       "3×10 Matrix{Float64}:\n",
       " 1.0  1.0  1.0  1.0  1.0  1.0  1.0  1.0  1.0  1.0\n",
       " 1.0  1.0  1.0  1.0  1.0  1.0  1.0  1.0  1.0  1.0\n",
       " 1.0  1.0  1.0  1.0  1.0  1.0  1.0  1.0  1.0  1.0"
      ]
     },
     "metadata": {},
     "output_type": "display_data"
    },
    {
     "data": {
      "text/plain": [
       "1-element Vector{Float64}:\n",
       " 14.368087122204706"
      ]
     },
     "metadata": {},
     "output_type": "display_data"
    },
    {
     "data": {
      "text/plain": [
       "3×10 Matrix{Float64}:\n",
       " 1.0  1.0  1.0  1.0  1.0  1.0  1.0  1.0  1.0  1.0\n",
       " 1.0  1.0  1.0  1.0  1.0  1.0  1.0  1.0  1.0  1.0\n",
       " 1.0  1.0  1.0  1.0  1.0  1.0  1.0  1.0  1.0  1.0"
      ]
     },
     "metadata": {},
     "output_type": "display_data"
    },
    {
     "data": {
      "text/plain": [
       "1-element Vector{Float64}:\n",
       " 16.59808313399506"
      ]
     },
     "metadata": {},
     "output_type": "display_data"
    },
    {
     "data": {
      "text/plain": [
       "3×10 Matrix{Float64}:\n",
       " 1.0  1.0  1.0  1.0  1.0  1.0  1.0  1.0  1.0  1.0\n",
       " 1.0  1.0  1.0  1.0  1.0  1.0  1.0  1.0  1.0  1.0\n",
       " 1.0  1.0  1.0  1.0  1.0  1.0  1.0  1.0  1.0  1.0"
      ]
     },
     "metadata": {},
     "output_type": "display_data"
    },
    {
     "data": {
      "text/plain": [
       "1-element Vector{Float64}:\n",
       " 17.20822878931613"
      ]
     },
     "metadata": {},
     "output_type": "display_data"
    },
    {
     "data": {
      "text/plain": [
       "3×10 Matrix{Float64}:\n",
       " 1.0  1.0  1.0  1.0  1.0  1.0  1.0  1.0  1.0  1.0\n",
       " 1.0  1.0  1.0  1.0  1.0  1.0  1.0  1.0  1.0  1.0\n",
       " 1.0  1.0  1.0  1.0  1.0  1.0  1.0  1.0  1.0  1.0"
      ]
     },
     "metadata": {},
     "output_type": "display_data"
    },
    {
     "data": {
      "text/plain": [
       "1-element Vector{Float64}:\n",
       " 16.058162937973716"
      ]
     },
     "metadata": {},
     "output_type": "display_data"
    },
    {
     "data": {
      "text/plain": [
       "3×10 Matrix{Float64}:\n",
       " 1.0  1.0  1.0  1.0  1.0  1.0  1.0  1.0  1.0  1.0\n",
       " 1.0  1.0  1.0  1.0  1.0  1.0  1.0  1.0  1.0  1.0\n",
       " 1.0  1.0  1.0  1.0  1.0  1.0  1.0  1.0  1.0  1.0"
      ]
     },
     "metadata": {},
     "output_type": "display_data"
    },
    {
     "data": {
      "text/plain": [
       "1-element Vector{Float64}:\n",
       " 14.53493408175123"
      ]
     },
     "metadata": {},
     "output_type": "display_data"
    },
    {
     "data": {
      "text/plain": [
       "3×10 Matrix{Float64}:\n",
       " 1.0  1.0  1.0  1.0  1.0  1.0  1.0  1.0  1.0  1.0\n",
       " 1.0  1.0  1.0  1.0  1.0  1.0  1.0  1.0  1.0  1.0\n",
       " 1.0  1.0  1.0  1.0  1.0  1.0  1.0  1.0  1.0  1.0"
      ]
     },
     "metadata": {},
     "output_type": "display_data"
    },
    {
     "data": {
      "text/plain": [
       "1-element Vector{Float64}:\n",
       " 13.333824789022804"
      ]
     },
     "metadata": {},
     "output_type": "display_data"
    },
    {
     "data": {
      "text/plain": [
       "3×10 Matrix{Float64}:\n",
       " 1.0  1.0  1.0  1.0  1.0  1.0  1.0  1.0  1.0  1.0\n",
       " 1.0  1.0  1.0  1.0  1.0  1.0  1.0  1.0  1.0  1.0\n",
       " 1.0  1.0  1.0  1.0  1.0  1.0  1.0  1.0  1.0  1.0"
      ]
     },
     "metadata": {},
     "output_type": "display_data"
    },
    {
     "data": {
      "text/plain": [
       "1-element Vector{Float64}:\n",
       " 14.007068567918264"
      ]
     },
     "metadata": {},
     "output_type": "display_data"
    },
    {
     "data": {
      "text/plain": [
       "3×10 Matrix{Float64}:\n",
       " 1.0  1.0  1.0  1.0  1.0  1.0  1.0  1.0  1.0  1.0\n",
       " 1.0  1.0  1.0  1.0  1.0  1.0  1.0  1.0  1.0  1.0\n",
       " 1.0  1.0  1.0  1.0  1.0  1.0  1.0  1.0  1.0  1.0"
      ]
     },
     "metadata": {},
     "output_type": "display_data"
    },
    {
     "data": {
      "text/plain": [
       "1-element Vector{Float64}:\n",
       " 15.473216647112116"
      ]
     },
     "metadata": {},
     "output_type": "display_data"
    },
    {
     "data": {
      "text/plain": [
       "3×10 Matrix{Float64}:\n",
       " 1.0  1.0  1.0  1.0  1.0  1.0  1.0  1.0  1.0  1.0\n",
       " 1.0  1.0  1.0  1.0  1.0  1.0  1.0  1.0  1.0  1.0\n",
       " 1.0  1.0  1.0  1.0  1.0  1.0  1.0  1.0  1.0  1.0"
      ]
     },
     "metadata": {},
     "output_type": "display_data"
    },
    {
     "data": {
      "text/plain": [
       "1-element Vector{Float64}:\n",
       " 16.60296989164683"
      ]
     },
     "metadata": {},
     "output_type": "display_data"
    },
    {
     "data": {
      "text/plain": [
       "3×10 Matrix{Float64}:\n",
       " 1.0  1.0  1.0  1.0  1.0  1.0  1.0  1.0  1.0  1.0\n",
       " 1.0  1.0  1.0  1.0  1.0  1.0  1.0  1.0  1.0  1.0\n",
       " 1.0  1.0  1.0  1.0  1.0  1.0  1.0  1.0  1.0  1.0"
      ]
     },
     "metadata": {},
     "output_type": "display_data"
    },
    {
     "data": {
      "text/plain": [
       "1-element Vector{Float64}:\n",
       " 17.11217088509783"
      ]
     },
     "metadata": {},
     "output_type": "display_data"
    },
    {
     "data": {
      "text/plain": [
       "3×10 Matrix{Float64}:\n",
       " 1.0  1.0  1.0  1.0  1.0  1.0  1.0  1.0  1.0  1.0\n",
       " 1.0  1.0  1.0  1.0  1.0  1.0  1.0  1.0  1.0  1.0\n",
       " 1.0  1.0  1.0  1.0  1.0  1.0  1.0  1.0  1.0  1.0"
      ]
     },
     "metadata": {},
     "output_type": "display_data"
    },
    {
     "data": {
      "text/plain": [
       "1-element Vector{Float64}:\n",
       " 15.707975420401366"
      ]
     },
     "metadata": {},
     "output_type": "display_data"
    },
    {
     "data": {
      "text/plain": [
       "3×10 Matrix{Float64}:\n",
       " 1.0  1.0  1.0  1.0  1.0  1.0  1.0  1.0  1.0  1.0\n",
       " 1.0  1.0  1.0  1.0  1.0  1.0  1.0  1.0  1.0  1.0\n",
       " 1.0  1.0  1.0  1.0  1.0  1.0  1.0  1.0  1.0  1.0"
      ]
     },
     "metadata": {},
     "output_type": "display_data"
    },
    {
     "data": {
      "text/plain": [
       "1-element Vector{Float64}:\n",
       " 12.977138819422489"
      ]
     },
     "metadata": {},
     "output_type": "display_data"
    },
    {
     "data": {
      "text/plain": [
       "3×10 Matrix{Float64}:\n",
       " 1.0  1.0  1.0  1.0  1.0  1.0  1.0  1.0  1.0  1.0\n",
       " 1.0  1.0  1.0  1.0  1.0  1.0  1.0  1.0  1.0  1.0\n",
       " 1.0  1.0  1.0  1.0  1.0  1.0  1.0  1.0  1.0  1.0"
      ]
     },
     "metadata": {},
     "output_type": "display_data"
    },
    {
     "data": {
      "text/plain": [
       "1-element Vector{Float64}:\n",
       " 12.826418810584231"
      ]
     },
     "metadata": {},
     "output_type": "display_data"
    },
    {
     "data": {
      "text/plain": [
       "3×10 Matrix{Float64}:\n",
       " 1.0  1.0  1.0  1.0  1.0  1.0  1.0  1.0  1.0  1.0\n",
       " 1.0  1.0  1.0  1.0  1.0  1.0  1.0  1.0  1.0  1.0\n",
       " 1.0  1.0  1.0  1.0  1.0  1.0  1.0  1.0  1.0  1.0"
      ]
     },
     "metadata": {},
     "output_type": "display_data"
    },
    {
     "data": {
      "text/plain": [
       "1-element Vector{Float64}:\n",
       " 13.836597817298248"
      ]
     },
     "metadata": {},
     "output_type": "display_data"
    },
    {
     "data": {
      "text/plain": [
       "3×10 Matrix{Float64}:\n",
       " 1.0  1.0  1.0  1.0  1.0  1.0  1.0  1.0  1.0  1.0\n",
       " 1.0  1.0  1.0  1.0  1.0  1.0  1.0  1.0  1.0  1.0\n",
       " 1.0  1.0  1.0  1.0  1.0  1.0  1.0  1.0  1.0  1.0"
      ]
     },
     "metadata": {},
     "output_type": "display_data"
    },
    {
     "data": {
      "text/plain": [
       "1-element Vector{Float64}:\n",
       " 14.162134666478966"
      ]
     },
     "metadata": {},
     "output_type": "display_data"
    },
    {
     "data": {
      "text/plain": [
       "3×10 Matrix{Float64}:\n",
       " 1.0  1.0  1.0  1.0  1.0  1.0  1.0  1.0  1.0  1.0\n",
       " 1.0  1.0  1.0  1.0  1.0  1.0  1.0  1.0  1.0  1.0\n",
       " 1.0  1.0  1.0  1.0  1.0  1.0  1.0  1.0  1.0  1.0"
      ]
     },
     "metadata": {},
     "output_type": "display_data"
    },
    {
     "data": {
      "text/plain": [
       "1-element Vector{Float64}:\n",
       " 12.95401081822853"
      ]
     },
     "metadata": {},
     "output_type": "display_data"
    },
    {
     "data": {
      "text/plain": [
       "3×10 Matrix{Float64}:\n",
       " 1.0  1.0  1.0  1.0  1.0  1.0  1.0  1.0  1.0  1.0\n",
       " 1.0  1.0  1.0  1.0  1.0  1.0  1.0  1.0  1.0  1.0\n",
       " 1.0  1.0  1.0  1.0  1.0  1.0  1.0  1.0  1.0  1.0"
      ]
     },
     "metadata": {},
     "output_type": "display_data"
    },
    {
     "data": {
      "text/plain": [
       "1-element Vector{Float64}:\n",
       " 12.657465918766437"
      ]
     },
     "metadata": {},
     "output_type": "display_data"
    },
    {
     "data": {
      "text/plain": [
       "3×10 Matrix{Float64}:\n",
       " 1.0  1.0  1.0  1.0  1.0  1.0  1.0  1.0  1.0  1.0\n",
       " 1.0  1.0  1.0  1.0  1.0  1.0  1.0  1.0  1.0  1.0\n",
       " 1.0  1.0  1.0  1.0  1.0  1.0  1.0  1.0  1.0  1.0"
      ]
     },
     "metadata": {},
     "output_type": "display_data"
    },
    {
     "data": {
      "text/plain": [
       "1-element Vector{Float64}:\n",
       " 14.751829336856106"
      ]
     },
     "metadata": {},
     "output_type": "display_data"
    },
    {
     "data": {
      "text/plain": [
       "3×10 Matrix{Float64}:\n",
       " 1.0  1.0  1.0  1.0  1.0  1.0  1.0  1.0  1.0  1.0\n",
       " 1.0  1.0  1.0  1.0  1.0  1.0  1.0  1.0  1.0  1.0\n",
       " 1.0  1.0  1.0  1.0  1.0  1.0  1.0  1.0  1.0  1.0"
      ]
     },
     "metadata": {},
     "output_type": "display_data"
    },
    {
     "data": {
      "text/plain": [
       "1-element Vector{Float64}:\n",
       " 17.4276413265538"
      ]
     },
     "metadata": {},
     "output_type": "display_data"
    },
    {
     "data": {
      "text/plain": [
       "3×10 Matrix{Float64}:\n",
       " 1.0  1.0  1.0  1.0  1.0  1.0  1.0  1.0  1.0  1.0\n",
       " 1.0  1.0  1.0  1.0  1.0  1.0  1.0  1.0  1.0  1.0\n",
       " 1.0  1.0  1.0  1.0  1.0  1.0  1.0  1.0  1.0  1.0"
      ]
     },
     "metadata": {},
     "output_type": "display_data"
    },
    {
     "data": {
      "text/plain": [
       "1-element Vector{Float64}:\n",
       " 18.257205600694288"
      ]
     },
     "metadata": {},
     "output_type": "display_data"
    },
    {
     "data": {
      "text/plain": [
       "3×10 Matrix{Float64}:\n",
       " 1.0  1.0  1.0  1.0  1.0  1.0  1.0  1.0  1.0  1.0\n",
       " 1.0  1.0  1.0  1.0  1.0  1.0  1.0  1.0  1.0  1.0\n",
       " 1.0  1.0  1.0  1.0  1.0  1.0  1.0  1.0  1.0  1.0"
      ]
     },
     "metadata": {},
     "output_type": "display_data"
    },
    {
     "data": {
      "text/plain": [
       "1-element Vector{Float64}:\n",
       " 17.21856326611636"
      ]
     },
     "metadata": {},
     "output_type": "display_data"
    },
    {
     "data": {
      "text/plain": [
       "3×10 Matrix{Float64}:\n",
       " 1.0  1.0  1.0  1.0  1.0  1.0  1.0  1.0  1.0  1.0\n",
       " 1.0  1.0  1.0  1.0  1.0  1.0  1.0  1.0  1.0  1.0\n",
       " 1.0  1.0  1.0  1.0  1.0  1.0  1.0  1.0  1.0  1.0"
      ]
     },
     "metadata": {},
     "output_type": "display_data"
    },
    {
     "data": {
      "text/plain": [
       "1-element Vector{Float64}:\n",
       " 14.717708388821405"
      ]
     },
     "metadata": {},
     "output_type": "display_data"
    },
    {
     "data": {
      "text/plain": [
       "3×10 Matrix{Float64}:\n",
       " 1.0  1.0  1.0  1.0  1.0  1.0  1.0  1.0  1.0  1.0\n",
       " 1.0  1.0  1.0  1.0  1.0  1.0  1.0  1.0  1.0  1.0\n",
       " 1.0  1.0  1.0  1.0  1.0  1.0  1.0  1.0  1.0  1.0"
      ]
     },
     "metadata": {},
     "output_type": "display_data"
    },
    {
     "data": {
      "text/plain": [
       "1-element Vector{Float64}:\n",
       " 13.336412227257156"
      ]
     },
     "metadata": {},
     "output_type": "display_data"
    },
    {
     "data": {
      "text/plain": [
       "3×10 Matrix{Float64}:\n",
       " 1.0  1.0  1.0  1.0  1.0  1.0  1.0  1.0  1.0  1.0\n",
       " 1.0  1.0  1.0  1.0  1.0  1.0  1.0  1.0  1.0  1.0\n",
       " 1.0  1.0  1.0  1.0  1.0  1.0  1.0  1.0  1.0  1.0"
      ]
     },
     "metadata": {},
     "output_type": "display_data"
    },
    {
     "data": {
      "text/plain": [
       "1-element Vector{Float64}:\n",
       " 12.720698450975712"
      ]
     },
     "metadata": {},
     "output_type": "display_data"
    },
    {
     "data": {
      "text/plain": [
       "3×10 Matrix{Float64}:\n",
       " 1.0  1.0  1.0  1.0  1.0  1.0  1.0  1.0  1.0  1.0\n",
       " 1.0  1.0  1.0  1.0  1.0  1.0  1.0  1.0  1.0  1.0\n",
       " 1.0  1.0  1.0  1.0  1.0  1.0  1.0  1.0  1.0  1.0"
      ]
     },
     "metadata": {},
     "output_type": "display_data"
    },
    {
     "data": {
      "text/plain": [
       "1-element Vector{Float64}:\n",
       " 14.00986211664936"
      ]
     },
     "metadata": {},
     "output_type": "display_data"
    },
    {
     "data": {
      "text/plain": [
       "3×10 Matrix{Float64}:\n",
       " 1.0  1.0  1.0  1.0  1.0  1.0  1.0  1.0  1.0  1.0\n",
       " 1.0  1.0  1.0  1.0  1.0  1.0  1.0  1.0  1.0  1.0\n",
       " 1.0  1.0  1.0  1.0  1.0  1.0  1.0  1.0  1.0  1.0"
      ]
     },
     "metadata": {},
     "output_type": "display_data"
    },
    {
     "data": {
      "text/plain": [
       "1-element Vector{Float64}:\n",
       " 14.496455480193898"
      ]
     },
     "metadata": {},
     "output_type": "display_data"
    },
    {
     "data": {
      "text/plain": [
       "3×10 Matrix{Float64}:\n",
       " 1.0  1.0  1.0  1.0  1.0  1.0  1.0  1.0  1.0  1.0\n",
       " 1.0  1.0  1.0  1.0  1.0  1.0  1.0  1.0  1.0  1.0\n",
       " 1.0  1.0  1.0  1.0  1.0  1.0  1.0  1.0  1.0  1.0"
      ]
     },
     "metadata": {},
     "output_type": "display_data"
    },
    {
     "data": {
      "text/plain": [
       "1-element Vector{Float64}:\n",
       " 14.243183797768644"
      ]
     },
     "metadata": {},
     "output_type": "display_data"
    },
    {
     "data": {
      "text/plain": [
       "3×10 Matrix{Float64}:\n",
       " 1.0  1.0  1.0  1.0  1.0  1.0  1.0  1.0  1.0  1.0\n",
       " 1.0  1.0  1.0  1.0  1.0  1.0  1.0  1.0  1.0  1.0\n",
       " 1.0  1.0  1.0  1.0  1.0  1.0  1.0  1.0  1.0  1.0"
      ]
     },
     "metadata": {},
     "output_type": "display_data"
    },
    {
     "data": {
      "text/plain": [
       "1-element Vector{Float64}:\n",
       " 13.842388634828431"
      ]
     },
     "metadata": {},
     "output_type": "display_data"
    },
    {
     "data": {
      "text/plain": [
       "3×10 Matrix{Float64}:\n",
       " 1.0  1.0  1.0  1.0  1.0  1.0  1.0  1.0  1.0  1.0\n",
       " 1.0  1.0  1.0  1.0  1.0  1.0  1.0  1.0  1.0  1.0\n",
       " 1.0  1.0  1.0  1.0  1.0  1.0  1.0  1.0  1.0  1.0"
      ]
     },
     "metadata": {},
     "output_type": "display_data"
    },
    {
     "data": {
      "text/plain": [
       "1-element Vector{Float64}:\n",
       " 15.304517719091747"
      ]
     },
     "metadata": {},
     "output_type": "display_data"
    },
    {
     "data": {
      "text/plain": [
       "3×10 Matrix{Float64}:\n",
       " 1.0  1.0  1.0  1.0  1.0  1.0  1.0  1.0  1.0  1.0\n",
       " 1.0  1.0  1.0  1.0  1.0  1.0  1.0  1.0  1.0  1.0\n",
       " 1.0  1.0  1.0  1.0  1.0  1.0  1.0  1.0  1.0  1.0"
      ]
     },
     "metadata": {},
     "output_type": "display_data"
    },
    {
     "data": {
      "text/plain": [
       "1-element Vector{Float64}:\n",
       " 16.249382492474407"
      ]
     },
     "metadata": {},
     "output_type": "display_data"
    },
    {
     "data": {
      "text/plain": [
       "3×10 Matrix{Float64}:\n",
       " 1.0  1.0  1.0  1.0  1.0  1.0  1.0  1.0  1.0  1.0\n",
       " 1.0  1.0  1.0  1.0  1.0  1.0  1.0  1.0  1.0  1.0\n",
       " 1.0  1.0  1.0  1.0  1.0  1.0  1.0  1.0  1.0  1.0"
      ]
     },
     "metadata": {},
     "output_type": "display_data"
    },
    {
     "data": {
      "text/plain": [
       "1-element Vector{Float64}:\n",
       " 16.026261410324544"
      ]
     },
     "metadata": {},
     "output_type": "display_data"
    },
    {
     "data": {
      "text/plain": [
       "3×10 Matrix{Float64}:\n",
       " 1.0  1.0  1.0  1.0  1.0  1.0  1.0  1.0  1.0  1.0\n",
       " 1.0  1.0  1.0  1.0  1.0  1.0  1.0  1.0  1.0  1.0\n",
       " 1.0  1.0  1.0  1.0  1.0  1.0  1.0  1.0  1.0  1.0"
      ]
     },
     "metadata": {},
     "output_type": "display_data"
    },
    {
     "data": {
      "text/plain": [
       "1-element Vector{Float64}:\n",
       " 15.080796425547277"
      ]
     },
     "metadata": {},
     "output_type": "display_data"
    },
    {
     "data": {
      "text/plain": [
       "3×10 Matrix{Float64}:\n",
       " 1.0  1.0  1.0  1.0  1.0  1.0  1.0  1.0  1.0  1.0\n",
       " 1.0  1.0  1.0  1.0  1.0  1.0  1.0  1.0  1.0  1.0\n",
       " 1.0  1.0  1.0  1.0  1.0  1.0  1.0  1.0  1.0  1.0"
      ]
     },
     "metadata": {},
     "output_type": "display_data"
    },
    {
     "data": {
      "text/plain": [
       "1-element Vector{Float64}:\n",
       " 13.280619611928936"
      ]
     },
     "metadata": {},
     "output_type": "display_data"
    },
    {
     "data": {
      "text/plain": [
       "3×10 Matrix{Float64}:\n",
       " 1.0  1.0  1.0  1.0  1.0  1.0  1.0  1.0  1.0  1.0\n",
       " 1.0  1.0  1.0  1.0  1.0  1.0  1.0  1.0  1.0  1.0\n",
       " 1.0  1.0  1.0  1.0  1.0  1.0  1.0  1.0  1.0  1.0"
      ]
     },
     "metadata": {},
     "output_type": "display_data"
    },
    {
     "data": {
      "text/plain": [
       "1-element Vector{Float64}:\n",
       " 11.965198782251468"
      ]
     },
     "metadata": {},
     "output_type": "display_data"
    },
    {
     "data": {
      "text/plain": [
       "3×10 Matrix{Float64}:\n",
       " 1.0  1.0  1.0  1.0  1.0  1.0  1.0  1.0  1.0  1.0\n",
       " 1.0  1.0  1.0  1.0  1.0  1.0  1.0  1.0  1.0  1.0\n",
       " 1.0  1.0  1.0  1.0  1.0  1.0  1.0  1.0  1.0  1.0"
      ]
     },
     "metadata": {},
     "output_type": "display_data"
    },
    {
     "data": {
      "text/plain": [
       "1-element Vector{Float64}:\n",
       " 11.613532866206366"
      ]
     },
     "metadata": {},
     "output_type": "display_data"
    },
    {
     "data": {
      "text/plain": [
       "3×10 Matrix{Float64}:\n",
       " 1.0  1.0  1.0  1.0  1.0  1.0  1.0  1.0  1.0  1.0\n",
       " 1.0  1.0  1.0  1.0  1.0  1.0  1.0  1.0  1.0  1.0\n",
       " 1.0  1.0  1.0  1.0  1.0  1.0  1.0  1.0  1.0  1.0"
      ]
     },
     "metadata": {},
     "output_type": "display_data"
    },
    {
     "data": {
      "text/plain": [
       "1-element Vector{Float64}:\n",
       " 12.208272685947126"
      ]
     },
     "metadata": {},
     "output_type": "display_data"
    },
    {
     "data": {
      "text/plain": [
       "3×10 Matrix{Float64}:\n",
       " 1.0  1.0  1.0  1.0  1.0  1.0  1.0  1.0  1.0  1.0\n",
       " 1.0  1.0  1.0  1.0  1.0  1.0  1.0  1.0  1.0  1.0\n",
       " 1.0  1.0  1.0  1.0  1.0  1.0  1.0  1.0  1.0  1.0"
      ]
     },
     "metadata": {},
     "output_type": "display_data"
    },
    {
     "data": {
      "text/plain": [
       "1-element Vector{Float64}:\n",
       " 15.165609755917927"
      ]
     },
     "metadata": {},
     "output_type": "display_data"
    },
    {
     "data": {
      "text/plain": [
       "3×10 Matrix{Float64}:\n",
       " 1.0  1.0  1.0  1.0  1.0  1.0  1.0  1.0  1.0  1.0\n",
       " 1.0  1.0  1.0  1.0  1.0  1.0  1.0  1.0  1.0  1.0\n",
       " 1.0  1.0  1.0  1.0  1.0  1.0  1.0  1.0  1.0  1.0"
      ]
     },
     "metadata": {},
     "output_type": "display_data"
    },
    {
     "data": {
      "text/plain": [
       "1-element Vector{Float64}:\n",
       " 18.23537387017419"
      ]
     },
     "metadata": {},
     "output_type": "display_data"
    },
    {
     "data": {
      "text/plain": [
       "3×10 Matrix{Float64}:\n",
       " 1.0  1.0  1.0  1.0  1.0  1.0  1.0  1.0  1.0  1.0\n",
       " 1.0  1.0  1.0  1.0  1.0  1.0  1.0  1.0  1.0  1.0\n",
       " 1.0  1.0  1.0  1.0  1.0  1.0  1.0  1.0  1.0  1.0"
      ]
     },
     "metadata": {},
     "output_type": "display_data"
    },
    {
     "data": {
      "text/plain": [
       "1-element Vector{Float64}:\n",
       " 19.61098387851252"
      ]
     },
     "metadata": {},
     "output_type": "display_data"
    },
    {
     "data": {
      "text/plain": [
       "3×10 Matrix{Float64}:\n",
       " 1.0  1.0  1.0  1.0  1.0  1.0  1.0  1.0  1.0  1.0\n",
       " 1.0  1.0  1.0  1.0  1.0  1.0  1.0  1.0  1.0  1.0\n",
       " 1.0  1.0  1.0  1.0  1.0  1.0  1.0  1.0  1.0  1.0"
      ]
     },
     "metadata": {},
     "output_type": "display_data"
    },
    {
     "data": {
      "text/plain": [
       "1-element Vector{Float64}:\n",
       " 18.104815144992546"
      ]
     },
     "metadata": {},
     "output_type": "display_data"
    },
    {
     "data": {
      "text/plain": [
       "3×10 Matrix{Float64}:\n",
       " 1.0  1.0  1.0  1.0  1.0  1.0  1.0  1.0  1.0  1.0\n",
       " 1.0  1.0  1.0  1.0  1.0  1.0  1.0  1.0  1.0  1.0\n",
       " 1.0  1.0  1.0  1.0  1.0  1.0  1.0  1.0  1.0  1.0"
      ]
     },
     "metadata": {},
     "output_type": "display_data"
    },
    {
     "data": {
      "text/plain": [
       "1-element Vector{Float64}:\n",
       " 16.65596581097648"
      ]
     },
     "metadata": {},
     "output_type": "display_data"
    },
    {
     "data": {
      "text/plain": [
       "3×10 Matrix{Float64}:\n",
       " 1.0  1.0  1.0  1.0  1.0  1.0  1.0  1.0  1.0  1.0\n",
       " 1.0  1.0  1.0  1.0  1.0  1.0  1.0  1.0  1.0  1.0\n",
       " 1.0  1.0  1.0  1.0  1.0  1.0  1.0  1.0  1.0  1.0"
      ]
     },
     "metadata": {},
     "output_type": "display_data"
    },
    {
     "data": {
      "text/plain": [
       "1-element Vector{Float64}:\n",
       " 15.62869801228653"
      ]
     },
     "metadata": {},
     "output_type": "display_data"
    },
    {
     "data": {
      "text/plain": [
       "3×10 Matrix{Float64}:\n",
       " 1.0  1.0  1.0  1.0  1.0  1.0  1.0  1.0  1.0  1.0\n",
       " 1.0  1.0  1.0  1.0  1.0  1.0  1.0  1.0  1.0  1.0\n",
       " 1.0  1.0  1.0  1.0  1.0  1.0  1.0  1.0  1.0  1.0"
      ]
     },
     "metadata": {},
     "output_type": "display_data"
    },
    {
     "data": {
      "text/plain": [
       "1-element Vector{Float64}:\n",
       " 14.571501164366348"
      ]
     },
     "metadata": {},
     "output_type": "display_data"
    },
    {
     "data": {
      "text/plain": [
       "3×10 Matrix{Float64}:\n",
       " 1.0  1.0  1.0  1.0  1.0  1.0  1.0  1.0  1.0  1.0\n",
       " 1.0  1.0  1.0  1.0  1.0  1.0  1.0  1.0  1.0  1.0\n",
       " 1.0  1.0  1.0  1.0  1.0  1.0  1.0  1.0  1.0  1.0"
      ]
     },
     "metadata": {},
     "output_type": "display_data"
    },
    {
     "data": {
      "text/plain": [
       "1-element Vector{Float64}:\n",
       " 13.842660817535203"
      ]
     },
     "metadata": {},
     "output_type": "display_data"
    },
    {
     "data": {
      "text/plain": [
       "3×10 Matrix{Float64}:\n",
       " 1.0  1.0  1.0  1.0  1.0  1.0  1.0  1.0  1.0  1.0\n",
       " 1.0  1.0  1.0  1.0  1.0  1.0  1.0  1.0  1.0  1.0\n",
       " 1.0  1.0  1.0  1.0  1.0  1.0  1.0  1.0  1.0  1.0"
      ]
     },
     "metadata": {},
     "output_type": "display_data"
    },
    {
     "data": {
      "text/plain": [
       "1-element Vector{Float64}:\n",
       " 15.351718016628014"
      ]
     },
     "metadata": {},
     "output_type": "display_data"
    },
    {
     "data": {
      "text/plain": [
       "3×10 Matrix{Float64}:\n",
       " 1.0  1.0  1.0  1.0  1.0  1.0  1.0  1.0  1.0  1.0\n",
       " 1.0  1.0  1.0  1.0  1.0  1.0  1.0  1.0  1.0  1.0\n",
       " 1.0  1.0  1.0  1.0  1.0  1.0  1.0  1.0  1.0  1.0"
      ]
     },
     "metadata": {},
     "output_type": "display_data"
    },
    {
     "data": {
      "text/plain": [
       "1-element Vector{Float64}:\n",
       " 16.235661518338144"
      ]
     },
     "metadata": {},
     "output_type": "display_data"
    },
    {
     "data": {
      "text/plain": [
       "3×10 Matrix{Float64}:\n",
       " 1.0  1.0  1.0  1.0  1.0  1.0  1.0  1.0  1.0  1.0\n",
       " 1.0  1.0  1.0  1.0  1.0  1.0  1.0  1.0  1.0  1.0\n",
       " 1.0  1.0  1.0  1.0  1.0  1.0  1.0  1.0  1.0  1.0"
      ]
     },
     "metadata": {},
     "output_type": "display_data"
    },
    {
     "data": {
      "text/plain": [
       "1-element Vector{Float64}:\n",
       " 15.790786969570142"
      ]
     },
     "metadata": {},
     "output_type": "display_data"
    },
    {
     "data": {
      "text/plain": [
       "3×10 Matrix{Float64}:\n",
       " 1.0  1.0  1.0  1.0  1.0  1.0  1.0  1.0  1.0  1.0\n",
       " 1.0  1.0  1.0  1.0  1.0  1.0  1.0  1.0  1.0  1.0\n",
       " 1.0  1.0  1.0  1.0  1.0  1.0  1.0  1.0  1.0  1.0"
      ]
     },
     "metadata": {},
     "output_type": "display_data"
    },
    {
     "data": {
      "text/plain": [
       "1-element Vector{Float64}:\n",
       " 14.259131317311216"
      ]
     },
     "metadata": {},
     "output_type": "display_data"
    },
    {
     "data": {
      "text/plain": [
       "3×10 Matrix{Float64}:\n",
       " 1.0  1.0  1.0  1.0  1.0  1.0  1.0  1.0  1.0  1.0\n",
       " 1.0  1.0  1.0  1.0  1.0  1.0  1.0  1.0  1.0  1.0\n",
       " 1.0  1.0  1.0  1.0  1.0  1.0  1.0  1.0  1.0  1.0"
      ]
     },
     "metadata": {},
     "output_type": "display_data"
    },
    {
     "data": {
      "text/plain": [
       "1-element Vector{Float64}:\n",
       " 11.92477305664249"
      ]
     },
     "metadata": {},
     "output_type": "display_data"
    },
    {
     "data": {
      "text/plain": [
       "3×10 Matrix{Float64}:\n",
       " 1.0  1.0  1.0  1.0  1.0  1.0  1.0  1.0  1.0  1.0\n",
       " 1.0  1.0  1.0  1.0  1.0  1.0  1.0  1.0  1.0  1.0\n",
       " 1.0  1.0  1.0  1.0  1.0  1.0  1.0  1.0  1.0  1.0"
      ]
     },
     "metadata": {},
     "output_type": "display_data"
    },
    {
     "data": {
      "text/plain": [
       "1-element Vector{Float64}:\n",
       " 11.80220117793164"
      ]
     },
     "metadata": {},
     "output_type": "display_data"
    },
    {
     "data": {
      "text/plain": [
       "3×10 Matrix{Float64}:\n",
       " 1.0  1.0  1.0  1.0  1.0  1.0  1.0  1.0  1.0  1.0\n",
       " 1.0  1.0  1.0  1.0  1.0  1.0  1.0  1.0  1.0  1.0\n",
       " 1.0  1.0  1.0  1.0  1.0  1.0  1.0  1.0  1.0  1.0"
      ]
     },
     "metadata": {},
     "output_type": "display_data"
    },
    {
     "data": {
      "text/plain": [
       "1-element Vector{Float64}:\n",
       " 13.642264646893063"
      ]
     },
     "metadata": {},
     "output_type": "display_data"
    },
    {
     "data": {
      "text/plain": [
       "3×10 Matrix{Float64}:\n",
       " 1.0  1.0  1.0  1.0  1.0  1.0  1.0  1.0  1.0  1.0\n",
       " 1.0  1.0  1.0  1.0  1.0  1.0  1.0  1.0  1.0  1.0\n",
       " 1.0  1.0  1.0  1.0  1.0  1.0  1.0  1.0  1.0  1.0"
      ]
     },
     "metadata": {},
     "output_type": "display_data"
    },
    {
     "data": {
      "text/plain": [
       "1-element Vector{Float64}:\n",
       " 16.422155477301327"
      ]
     },
     "metadata": {},
     "output_type": "display_data"
    },
    {
     "data": {
      "text/plain": [
       "3×10 Matrix{Float64}:\n",
       " 1.0  1.0  1.0  1.0  1.0  1.0  1.0  1.0  1.0  1.0\n",
       " 1.0  1.0  1.0  1.0  1.0  1.0  1.0  1.0  1.0  1.0\n",
       " 1.0  1.0  1.0  1.0  1.0  1.0  1.0  1.0  1.0  1.0"
      ]
     },
     "metadata": {},
     "output_type": "display_data"
    },
    {
     "data": {
      "text/plain": [
       "1-element Vector{Float64}:\n",
       " 19.807835693404144"
      ]
     },
     "metadata": {},
     "output_type": "display_data"
    },
    {
     "data": {
      "text/plain": [
       "3×10 Matrix{Float64}:\n",
       " 1.0  1.0  1.0  1.0  1.0  1.0  1.0  1.0  1.0  1.0\n",
       " 1.0  1.0  1.0  1.0  1.0  1.0  1.0  1.0  1.0  1.0\n",
       " 1.0  1.0  1.0  1.0  1.0  1.0  1.0  1.0  1.0  1.0"
      ]
     },
     "metadata": {},
     "output_type": "display_data"
    },
    {
     "data": {
      "text/plain": [
       "1-element Vector{Float64}:\n",
       " 20.901596916171755"
      ]
     },
     "metadata": {},
     "output_type": "display_data"
    },
    {
     "data": {
      "text/plain": [
       "3×10 Matrix{Float64}:\n",
       " 1.0  1.0  1.0  1.0  1.0  1.0  1.0  1.0  1.0  1.0\n",
       " 1.0  1.0  1.0  1.0  1.0  1.0  1.0  1.0  1.0  1.0\n",
       " 1.0  1.0  1.0  1.0  1.0  1.0  1.0  1.0  1.0  1.0"
      ]
     },
     "metadata": {},
     "output_type": "display_data"
    },
    {
     "data": {
      "text/plain": [
       "1-element Vector{Float64}:\n",
       " 18.803359125804835"
      ]
     },
     "metadata": {},
     "output_type": "display_data"
    },
    {
     "data": {
      "text/plain": [
       "3×10 Matrix{Float64}:\n",
       " 1.0  1.0  1.0  1.0  1.0  1.0  1.0  1.0  1.0  1.0\n",
       " 1.0  1.0  1.0  1.0  1.0  1.0  1.0  1.0  1.0  1.0\n",
       " 1.0  1.0  1.0  1.0  1.0  1.0  1.0  1.0  1.0  1.0"
      ]
     },
     "metadata": {},
     "output_type": "display_data"
    },
    {
     "data": {
      "text/plain": [
       "1-element Vector{Float64}:\n",
       " 15.353220206518056"
      ]
     },
     "metadata": {},
     "output_type": "display_data"
    },
    {
     "data": {
      "text/plain": [
       "3×10 Matrix{Float64}:\n",
       " 1.0  1.0  1.0  1.0  1.0  1.0  1.0  1.0  1.0  1.0\n",
       " 1.0  1.0  1.0  1.0  1.0  1.0  1.0  1.0  1.0  1.0\n",
       " 1.0  1.0  1.0  1.0  1.0  1.0  1.0  1.0  1.0  1.0"
      ]
     },
     "metadata": {},
     "output_type": "display_data"
    },
    {
     "data": {
      "text/plain": [
       "1-element Vector{Float64}:\n",
       " 12.95499883949496"
      ]
     },
     "metadata": {},
     "output_type": "display_data"
    },
    {
     "data": {
      "text/plain": [
       "3×10 Matrix{Float64}:\n",
       " 1.0  1.0  1.0  1.0  1.0  1.0  1.0  1.0  1.0  1.0\n",
       " 1.0  1.0  1.0  1.0  1.0  1.0  1.0  1.0  1.0  1.0\n",
       " 1.0  1.0  1.0  1.0  1.0  1.0  1.0  1.0  1.0  1.0"
      ]
     },
     "metadata": {},
     "output_type": "display_data"
    },
    {
     "data": {
      "text/plain": [
       "1-element Vector{Float64}:\n",
       " 12.799641697250394"
      ]
     },
     "metadata": {},
     "output_type": "display_data"
    },
    {
     "data": {
      "text/plain": [
       "3×10 Matrix{Float64}:\n",
       " 1.0  1.0  1.0  1.0  1.0  1.0  1.0  1.0  1.0  1.0\n",
       " 1.0  1.0  1.0  1.0  1.0  1.0  1.0  1.0  1.0  1.0\n",
       " 1.0  1.0  1.0  1.0  1.0  1.0  1.0  1.0  1.0  1.0"
      ]
     },
     "metadata": {},
     "output_type": "display_data"
    },
    {
     "data": {
      "text/plain": [
       "1-element Vector{Float64}:\n",
       " 13.516759673369103"
      ]
     },
     "metadata": {},
     "output_type": "display_data"
    },
    {
     "data": {
      "text/plain": [
       "3×10 Matrix{Float64}:\n",
       " 1.0  1.0  1.0  1.0  1.0  1.0  1.0  1.0  1.0  1.0\n",
       " 1.0  1.0  1.0  1.0  1.0  1.0  1.0  1.0  1.0  1.0\n",
       " 1.0  1.0  1.0  1.0  1.0  1.0  1.0  1.0  1.0  1.0"
      ]
     },
     "metadata": {},
     "output_type": "display_data"
    },
    {
     "data": {
      "text/plain": [
       "1-element Vector{Float64}:\n",
       " 14.18541803545278"
      ]
     },
     "metadata": {},
     "output_type": "display_data"
    },
    {
     "data": {
      "text/plain": [
       "3×10 Matrix{Float64}:\n",
       " 1.0  1.0  1.0  1.0  1.0  1.0  1.0  1.0  1.0  1.0\n",
       " 1.0  1.0  1.0  1.0  1.0  1.0  1.0  1.0  1.0  1.0\n",
       " 1.0  1.0  1.0  1.0  1.0  1.0  1.0  1.0  1.0  1.0"
      ]
     },
     "metadata": {},
     "output_type": "display_data"
    },
    {
     "data": {
      "text/plain": [
       "1-element Vector{Float64}:\n",
       " 14.580342670111808"
      ]
     },
     "metadata": {},
     "output_type": "display_data"
    },
    {
     "data": {
      "text/plain": [
       "3×10 Matrix{Float64}:\n",
       " 1.0  1.0  1.0  1.0  1.0  1.0  1.0  1.0  1.0  1.0\n",
       " 1.0  1.0  1.0  1.0  1.0  1.0  1.0  1.0  1.0  1.0\n",
       " 1.0  1.0  1.0  1.0  1.0  1.0  1.0  1.0  1.0  1.0"
      ]
     },
     "metadata": {},
     "output_type": "display_data"
    },
    {
     "data": {
      "text/plain": [
       "1-element Vector{Float64}:\n",
       " 13.498218670826036"
      ]
     },
     "metadata": {},
     "output_type": "display_data"
    },
    {
     "data": {
      "text/plain": [
       "3×10 Matrix{Float64}:\n",
       " 1.0  1.0  1.0  1.0  1.0  1.0  1.0  1.0  1.0  1.0\n",
       " 1.0  1.0  1.0  1.0  1.0  1.0  1.0  1.0  1.0  1.0\n",
       " 1.0  1.0  1.0  1.0  1.0  1.0  1.0  1.0  1.0  1.0"
      ]
     },
     "metadata": {},
     "output_type": "display_data"
    },
    {
     "data": {
      "text/plain": [
       "1-element Vector{Float64}:\n",
       " 12.031031350375082"
      ]
     },
     "metadata": {},
     "output_type": "display_data"
    },
    {
     "data": {
      "text/plain": [
       "3×10 Matrix{Float64}:\n",
       " 1.0  1.0  1.0  1.0  1.0  1.0  1.0  1.0  1.0  1.0\n",
       " 1.0  1.0  1.0  1.0  1.0  1.0  1.0  1.0  1.0  1.0\n",
       " 1.0  1.0  1.0  1.0  1.0  1.0  1.0  1.0  1.0  1.0"
      ]
     },
     "metadata": {},
     "output_type": "display_data"
    },
    {
     "data": {
      "text/plain": [
       "1-element Vector{Float64}:\n",
       " 11.67425951918105"
      ]
     },
     "metadata": {},
     "output_type": "display_data"
    },
    {
     "data": {
      "text/plain": [
       "3×10 Matrix{Float64}:\n",
       " 1.0  1.0  1.0  1.0  1.0  1.0  1.0  1.0  1.0  1.0\n",
       " 1.0  1.0  1.0  1.0  1.0  1.0  1.0  1.0  1.0  1.0\n",
       " 1.0  1.0  1.0  1.0  1.0  1.0  1.0  1.0  1.0  1.0"
      ]
     },
     "metadata": {},
     "output_type": "display_data"
    },
    {
     "data": {
      "text/plain": [
       "1-element Vector{Float64}:\n",
       " 14.556127052445152"
      ]
     },
     "metadata": {},
     "output_type": "display_data"
    },
    {
     "data": {
      "text/plain": [
       "3×10 Matrix{Float64}:\n",
       " 1.0  1.0  1.0  1.0  1.0  1.0  1.0  1.0  1.0  1.0\n",
       " 1.0  1.0  1.0  1.0  1.0  1.0  1.0  1.0  1.0  1.0\n",
       " 1.0  1.0  1.0  1.0  1.0  1.0  1.0  1.0  1.0  1.0"
      ]
     },
     "metadata": {},
     "output_type": "display_data"
    },
    {
     "data": {
      "text/plain": [
       "1-element Vector{Float64}:\n",
       " 17.331720503410562"
      ]
     },
     "metadata": {},
     "output_type": "display_data"
    },
    {
     "data": {
      "text/plain": [
       "3×10 Matrix{Float64}:\n",
       " 1.0  1.0  1.0  1.0  1.0  1.0  1.0  1.0  1.0  1.0\n",
       " 1.0  1.0  1.0  1.0  1.0  1.0  1.0  1.0  1.0  1.0\n",
       " 1.0  1.0  1.0  1.0  1.0  1.0  1.0  1.0  1.0  1.0"
      ]
     },
     "metadata": {},
     "output_type": "display_data"
    },
    {
     "data": {
      "text/plain": [
       "1-element Vector{Float64}:\n",
       " 17.076624054451788"
      ]
     },
     "metadata": {},
     "output_type": "display_data"
    },
    {
     "data": {
      "text/plain": [
       "3×10 Matrix{Float64}:\n",
       " 1.0  1.0  1.0  1.0  1.0  1.0  1.0  1.0  1.0  1.0\n",
       " 1.0  1.0  1.0  1.0  1.0  1.0  1.0  1.0  1.0  1.0\n",
       " 1.0  1.0  1.0  1.0  1.0  1.0  1.0  1.0  1.0  1.0"
      ]
     },
     "metadata": {},
     "output_type": "display_data"
    },
    {
     "data": {
      "text/plain": [
       "1-element Vector{Float64}:\n",
       " 16.462535438863796"
      ]
     },
     "metadata": {},
     "output_type": "display_data"
    },
    {
     "data": {
      "text/plain": [
       "3×10 Matrix{Float64}:\n",
       " 1.0  1.0  1.0  1.0  1.0  1.0  1.0  1.0  1.0  1.0\n",
       " 1.0  1.0  1.0  1.0  1.0  1.0  1.0  1.0  1.0  1.0\n",
       " 1.0  1.0  1.0  1.0  1.0  1.0  1.0  1.0  1.0  1.0"
      ]
     },
     "metadata": {},
     "output_type": "display_data"
    },
    {
     "data": {
      "text/plain": [
       "1-element Vector{Float64}:\n",
       " 16.814798486733192"
      ]
     },
     "metadata": {},
     "output_type": "display_data"
    },
    {
     "data": {
      "text/plain": [
       "3×10 Matrix{Float64}:\n",
       " 1.0  1.0  1.0  1.0  1.0  1.0  1.0  1.0  1.0  1.0\n",
       " 1.0  1.0  1.0  1.0  1.0  1.0  1.0  1.0  1.0  1.0\n",
       " 1.0  1.0  1.0  1.0  1.0  1.0  1.0  1.0  1.0  1.0"
      ]
     },
     "metadata": {},
     "output_type": "display_data"
    },
    {
     "data": {
      "text/plain": [
       "1-element Vector{Float64}:\n",
       " 16.844572175775983"
      ]
     },
     "metadata": {},
     "output_type": "display_data"
    },
    {
     "data": {
      "text/plain": [
       "3×10 Matrix{Float64}:\n",
       " 1.0  1.0  1.0  1.0  1.0  1.0  1.0  1.0  1.0  1.0\n",
       " 1.0  1.0  1.0  1.0  1.0  1.0  1.0  1.0  1.0  1.0\n",
       " 1.0  1.0  1.0  1.0  1.0  1.0  1.0  1.0  1.0  1.0"
      ]
     },
     "metadata": {},
     "output_type": "display_data"
    },
    {
     "data": {
      "text/plain": [
       "1-element Vector{Float64}:\n",
       " 16.2067847704055"
      ]
     },
     "metadata": {},
     "output_type": "display_data"
    },
    {
     "data": {
      "text/plain": [
       "3×10 Matrix{Float64}:\n",
       " 1.0  1.0  1.0  1.0  1.0  1.0  1.0  1.0  1.0  1.0\n",
       " 1.0  1.0  1.0  1.0  1.0  1.0  1.0  1.0  1.0  1.0\n",
       " 1.0  1.0  1.0  1.0  1.0  1.0  1.0  1.0  1.0  1.0"
      ]
     },
     "metadata": {},
     "output_type": "display_data"
    },
    {
     "data": {
      "text/plain": [
       "1-element Vector{Float64}:\n",
       " 15.478671852159028"
      ]
     },
     "metadata": {},
     "output_type": "display_data"
    },
    {
     "data": {
      "text/plain": [
       "3×10 Matrix{Float64}:\n",
       " 1.0  1.0  1.0  1.0  1.0  1.0  1.0  1.0  1.0  1.0\n",
       " 1.0  1.0  1.0  1.0  1.0  1.0  1.0  1.0  1.0  1.0\n",
       " 1.0  1.0  1.0  1.0  1.0  1.0  1.0  1.0  1.0  1.0"
      ]
     },
     "metadata": {},
     "output_type": "display_data"
    },
    {
     "data": {
      "text/plain": [
       "1-element Vector{Float64}:\n",
       " 15.029535762931253"
      ]
     },
     "metadata": {},
     "output_type": "display_data"
    },
    {
     "data": {
      "text/plain": [
       "3×10 Matrix{Float64}:\n",
       " 1.0  1.0  1.0  1.0  1.0  1.0  1.0  1.0  1.0  1.0\n",
       " 1.0  1.0  1.0  1.0  1.0  1.0  1.0  1.0  1.0  1.0\n",
       " 1.0  1.0  1.0  1.0  1.0  1.0  1.0  1.0  1.0  1.0"
      ]
     },
     "metadata": {},
     "output_type": "display_data"
    },
    {
     "data": {
      "text/plain": [
       "1-element Vector{Float64}:\n",
       " 13.570700055547213"
      ]
     },
     "metadata": {},
     "output_type": "display_data"
    },
    {
     "data": {
      "text/plain": [
       "3×10 Matrix{Float64}:\n",
       " 1.0  1.0  1.0  1.0  1.0  1.0  1.0  1.0  1.0  1.0\n",
       " 1.0  1.0  1.0  1.0  1.0  1.0  1.0  1.0  1.0  1.0\n",
       " 1.0  1.0  1.0  1.0  1.0  1.0  1.0  1.0  1.0  1.0"
      ]
     },
     "metadata": {},
     "output_type": "display_data"
    },
    {
     "data": {
      "text/plain": [
       "1-element Vector{Float64}:\n",
       " 13.13639405573922"
      ]
     },
     "metadata": {},
     "output_type": "display_data"
    },
    {
     "data": {
      "text/plain": [
       "3×10 Matrix{Float64}:\n",
       " 1.0  1.0  1.0  1.0  1.0  1.0  1.0  1.0  1.0  1.0\n",
       " 1.0  1.0  1.0  1.0  1.0  1.0  1.0  1.0  1.0  1.0\n",
       " 1.0  1.0  1.0  1.0  1.0  1.0  1.0  1.0  1.0  1.0"
      ]
     },
     "metadata": {},
     "output_type": "display_data"
    },
    {
     "data": {
      "text/plain": [
       "1-element Vector{Float64}:\n",
       " 13.822985482277709"
      ]
     },
     "metadata": {},
     "output_type": "display_data"
    },
    {
     "data": {
      "text/plain": [
       "3×10 Matrix{Float64}:\n",
       " 1.0  1.0  1.0  1.0  1.0  1.0  1.0  1.0  1.0  1.0\n",
       " 1.0  1.0  1.0  1.0  1.0  1.0  1.0  1.0  1.0  1.0\n",
       " 1.0  1.0  1.0  1.0  1.0  1.0  1.0  1.0  1.0  1.0"
      ]
     },
     "metadata": {},
     "output_type": "display_data"
    },
    {
     "data": {
      "text/plain": [
       "1-element Vector{Float64}:\n",
       " 14.616226285232987"
      ]
     },
     "metadata": {},
     "output_type": "display_data"
    },
    {
     "data": {
      "text/plain": [
       "3×10 Matrix{Float64}:\n",
       " 1.0  1.0  1.0  1.0  1.0  1.0  1.0  1.0  1.0  1.0\n",
       " 1.0  1.0  1.0  1.0  1.0  1.0  1.0  1.0  1.0  1.0\n",
       " 1.0  1.0  1.0  1.0  1.0  1.0  1.0  1.0  1.0  1.0"
      ]
     },
     "metadata": {},
     "output_type": "display_data"
    },
    {
     "data": {
      "text/plain": [
       "1-element Vector{Float64}:\n",
       " 15.279289879743676"
      ]
     },
     "metadata": {},
     "output_type": "display_data"
    },
    {
     "data": {
      "text/plain": [
       "3×10 Matrix{Float64}:\n",
       " 1.0  1.0  1.0  1.0  1.0  1.0  1.0  1.0  1.0  1.0\n",
       " 1.0  1.0  1.0  1.0  1.0  1.0  1.0  1.0  1.0  1.0\n",
       " 1.0  1.0  1.0  1.0  1.0  1.0  1.0  1.0  1.0  1.0"
      ]
     },
     "metadata": {},
     "output_type": "display_data"
    },
    {
     "data": {
      "text/plain": [
       "1-element Vector{Float64}:\n",
       " 14.283510038062484"
      ]
     },
     "metadata": {},
     "output_type": "display_data"
    },
    {
     "data": {
      "text/plain": [
       "3×10 Matrix{Float64}:\n",
       " 1.0  1.0  1.0  1.0  1.0  1.0  1.0  1.0  1.0  1.0\n",
       " 1.0  1.0  1.0  1.0  1.0  1.0  1.0  1.0  1.0  1.0\n",
       " 1.0  1.0  1.0  1.0  1.0  1.0  1.0  1.0  1.0  1.0"
      ]
     },
     "metadata": {},
     "output_type": "display_data"
    },
    {
     "data": {
      "text/plain": [
       "1-element Vector{Float64}:\n",
       " 12.724509088192184"
      ]
     },
     "metadata": {},
     "output_type": "display_data"
    },
    {
     "data": {
      "text/plain": [
       "3×10 Matrix{Float64}:\n",
       " 1.0  1.0  1.0  1.0  1.0  1.0  1.0  1.0  1.0  1.0\n",
       " 1.0  1.0  1.0  1.0  1.0  1.0  1.0  1.0  1.0  1.0\n",
       " 1.0  1.0  1.0  1.0  1.0  1.0  1.0  1.0  1.0  1.0"
      ]
     },
     "metadata": {},
     "output_type": "display_data"
    },
    {
     "data": {
      "text/plain": [
       "1-element Vector{Float64}:\n",
       " 14.440502149241865"
      ]
     },
     "metadata": {},
     "output_type": "display_data"
    },
    {
     "data": {
      "text/plain": [
       "3×10 Matrix{Float64}:\n",
       " 1.0  1.0  1.0  1.0  1.0  1.0  1.0  1.0  1.0  1.0\n",
       " 1.0  1.0  1.0  1.0  1.0  1.0  1.0  1.0  1.0  1.0\n",
       " 1.0  1.0  1.0  1.0  1.0  1.0  1.0  1.0  1.0  1.0"
      ]
     },
     "metadata": {},
     "output_type": "display_data"
    },
    {
     "data": {
      "text/plain": [
       "1-element Vector{Float64}:\n",
       " 16.724509570396826"
      ]
     },
     "metadata": {},
     "output_type": "display_data"
    },
    {
     "data": {
      "text/plain": [
       "3×10 Matrix{Float64}:\n",
       " 1.0  1.0  1.0  1.0  1.0  1.0  1.0  1.0  1.0  1.0\n",
       " 1.0  1.0  1.0  1.0  1.0  1.0  1.0  1.0  1.0  1.0\n",
       " 1.0  1.0  1.0  1.0  1.0  1.0  1.0  1.0  1.0  1.0"
      ]
     },
     "metadata": {},
     "output_type": "display_data"
    },
    {
     "data": {
      "text/plain": [
       "1-element Vector{Float64}:\n",
       " 17.511201569599574"
      ]
     },
     "metadata": {},
     "output_type": "display_data"
    },
    {
     "data": {
      "text/plain": [
       "3×10 Matrix{Float64}:\n",
       " 1.0  1.0  1.0  1.0  1.0  1.0  1.0  1.0  1.0  1.0\n",
       " 1.0  1.0  1.0  1.0  1.0  1.0  1.0  1.0  1.0  1.0\n",
       " 1.0  1.0  1.0  1.0  1.0  1.0  1.0  1.0  1.0  1.0"
      ]
     },
     "metadata": {},
     "output_type": "display_data"
    },
    {
     "data": {
      "text/plain": [
       "1-element Vector{Float64}:\n",
       " 17.736374544096222"
      ]
     },
     "metadata": {},
     "output_type": "display_data"
    },
    {
     "data": {
      "text/plain": [
       "3×10 Matrix{Float64}:\n",
       " 1.0  1.0  1.0  1.0  1.0  1.0  1.0  1.0  1.0  1.0\n",
       " 1.0  1.0  1.0  1.0  1.0  1.0  1.0  1.0  1.0  1.0\n",
       " 1.0  1.0  1.0  1.0  1.0  1.0  1.0  1.0  1.0  1.0"
      ]
     },
     "metadata": {},
     "output_type": "display_data"
    },
    {
     "data": {
      "text/plain": [
       "1-element Vector{Float64}:\n",
       " 17.839198961609647"
      ]
     },
     "metadata": {},
     "output_type": "display_data"
    },
    {
     "data": {
      "text/plain": [
       "3×10 Matrix{Float64}:\n",
       " 1.0  1.0  1.0  1.0  1.0  1.0  1.0  1.0  1.0  1.0\n",
       " 1.0  1.0  1.0  1.0  1.0  1.0  1.0  1.0  1.0  1.0\n",
       " 1.0  1.0  1.0  1.0  1.0  1.0  1.0  1.0  1.0  1.0"
      ]
     },
     "metadata": {},
     "output_type": "display_data"
    },
    {
     "data": {
      "text/plain": [
       "1-element Vector{Float64}:\n",
       " 17.43856336584313"
      ]
     },
     "metadata": {},
     "output_type": "display_data"
    },
    {
     "data": {
      "text/plain": [
       "3×10 Matrix{Float64}:\n",
       " 1.0  1.0  1.0  1.0  1.0  1.0  1.0  1.0  1.0  1.0\n",
       " 1.0  1.0  1.0  1.0  1.0  1.0  1.0  1.0  1.0  1.0\n",
       " 1.0  1.0  1.0  1.0  1.0  1.0  1.0  1.0  1.0  1.0"
      ]
     },
     "metadata": {},
     "output_type": "display_data"
    },
    {
     "data": {
      "text/plain": [
       "1-element Vector{Float64}:\n",
       " 16.510025648449094"
      ]
     },
     "metadata": {},
     "output_type": "display_data"
    },
    {
     "data": {
      "text/plain": [
       "3×10 Matrix{Float64}:\n",
       " 1.0  1.0  1.0  1.0  1.0  1.0  1.0  1.0  1.0  1.0\n",
       " 1.0  1.0  1.0  1.0  1.0  1.0  1.0  1.0  1.0  1.0\n",
       " 1.0  1.0  1.0  1.0  1.0  1.0  1.0  1.0  1.0  1.0"
      ]
     },
     "metadata": {},
     "output_type": "display_data"
    },
    {
     "data": {
      "text/plain": [
       "1-element Vector{Float64}:\n",
       " 16.9923633238784"
      ]
     },
     "metadata": {},
     "output_type": "display_data"
    },
    {
     "data": {
      "text/plain": [
       "3×10 Matrix{Float64}:\n",
       " 1.0  1.0  1.0  1.0  1.0  1.0  1.0  1.0  1.0  1.0\n",
       " 1.0  1.0  1.0  1.0  1.0  1.0  1.0  1.0  1.0  1.0\n",
       " 1.0  1.0  1.0  1.0  1.0  1.0  1.0  1.0  1.0  1.0"
      ]
     },
     "metadata": {},
     "output_type": "display_data"
    },
    {
     "data": {
      "text/plain": [
       "1-element Vector{Float64}:\n",
       " 15.915837918531238"
      ]
     },
     "metadata": {},
     "output_type": "display_data"
    },
    {
     "data": {
      "text/plain": [
       "3×10 Matrix{Float64}:\n",
       " 1.0  1.0  1.0  1.0  1.0  1.0  1.0  1.0  1.0  1.0\n",
       " 1.0  1.0  1.0  1.0  1.0  1.0  1.0  1.0  1.0  1.0\n",
       " 1.0  1.0  1.0  1.0  1.0  1.0  1.0  1.0  1.0  1.0"
      ]
     },
     "metadata": {},
     "output_type": "display_data"
    },
    {
     "data": {
      "text/plain": [
       "1-element Vector{Float64}:\n",
       " 13.63776310827716"
      ]
     },
     "metadata": {},
     "output_type": "display_data"
    },
    {
     "data": {
      "text/plain": [
       "3×10 Matrix{Float64}:\n",
       " 1.0  1.0  1.0  1.0  1.0  1.0  1.0  1.0  1.0  1.0\n",
       " 1.0  1.0  1.0  1.0  1.0  1.0  1.0  1.0  1.0  1.0\n",
       " 1.0  1.0  1.0  1.0  1.0  1.0  1.0  1.0  1.0  1.0"
      ]
     },
     "metadata": {},
     "output_type": "display_data"
    }
   ],
   "source": [
    "# initialize the position and velocity\n",
    "partial_vel = zeros(Float64, (n_steps+1, 3, n_particles))\n",
    "partial_pos = ones(Float64, (n_steps+1, 3, n_particles))\n",
    "pos = zeros(Float64, (n_steps+1, 3, n_particles))\n",
    "vel = zeros(Float64, (n_steps+1, 3, n_particles))\n",
    "pos[1, :, :] = randn(Float64, (3, n_particles))\n",
    "\n",
    "n_particles = 10\n",
    "n_steps = 20\n",
    "dt = 0.01\n",
    "n_epochs = 1000\n",
    "for i in 1:n_epochs\n",
    "    loss_value = zeros(Float64, 1)\n",
    "\n",
    "    forward!(pos, vel, 0.01, n_steps)\n",
    "\n",
    "    loss!(\n",
    "        pos[end, :, :],\n",
    "        pos_tn_star,\n",
    "        loss_value)\n",
    "\n",
    "    if i % 10 == 0\n",
    "        display(loss_value)\n",
    "        display(partial_pos[2, :, :])\n",
    "    end\n",
    "    \n",
    "    # compute grad which is then stored in partial_pos\n",
    "    grad(\n",
    "        pos,\n",
    "        vel,\n",
    "        partial_pos,\n",
    "        partial_vel,\n",
    "        pos_tn_star,\n",
    "        0.01,\n",
    "        n_steps)\n",
    "\n",
    "    # apply gradient descent\n",
    "    pos[1, :, :] .-= 0.001 .* partial_pos[2, :, :]\n",
    "    vel[1, :, :] .-= 0.001 .* partial_vel[2, :, :]\n",
    "end\n"
   ]
  },
  {
   "cell_type": "code",
   "execution_count": 54,
   "metadata": {},
   "outputs": [
    {
     "data": {
      "text/plain": [
       "3×5 Matrix{Float64}:\n",
       " 1.0  1.0  1.0  1.0  1.0\n",
       " 1.0  1.0  1.0  1.0  1.0\n",
       " 1.0  1.0  1.0  1.0  1.0"
      ]
     },
     "metadata": {},
     "output_type": "display_data"
    }
   ],
   "source": [
    "partial_vel[1, :, :]"
   ]
  },
  {
   "cell_type": "code",
   "execution_count": null,
   "metadata": {},
   "outputs": [],
   "source": []
  }
 ],
 "metadata": {
  "kernelspec": {
   "display_name": "Julia 1.10.3",
   "language": "julia",
   "name": "julia-1.10"
  },
  "language_info": {
   "file_extension": ".jl",
   "mimetype": "application/julia",
   "name": "julia",
   "version": "1.10.3"
  }
 },
 "nbformat": 4,
 "nbformat_minor": 2
}
