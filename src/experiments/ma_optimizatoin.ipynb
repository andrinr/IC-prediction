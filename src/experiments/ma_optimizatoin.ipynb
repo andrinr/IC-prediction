{
 "cells": [
  {
   "cell_type": "code",
   "execution_count": 45,
   "metadata": {},
   "outputs": [],
   "source": [
    "import jax\n",
    "import jax.numpy as jnp\n",
    "import matplotlib.pyplot as plt\n",
    "import optax\n",
    "from functools import partial"
   ]
  },
  {
   "cell_type": "code",
   "execution_count": 83,
   "metadata": {},
   "outputs": [],
   "source": [
    "@partial(jax.jit, static_argnums=(2, 3))\n",
    "def linear(pos : jax.Array, weight : jax.Array, grid_size : int, dx : float) -> jax.Array:\n",
    "\n",
    "    coords = jnp.linspace(start=0, stop=1, num=grid_size+1)\n",
    "\n",
    "    grid = jnp.zeros((grid_size, grid_size, grid_size))\n",
    "\n",
    "    # find position on the grid\n",
    "    x_idx = jnp.digitize(pos[0], coords, right=True) - 1\n",
    "    y_idx = jnp.digitize(pos[1], coords, right=True) - 1\n",
    "    z_idx = jnp.digitize(pos[2], coords, right=True) - 1\n",
    "\n",
    "    # assign the mass\n",
    "    grid = grid.at[x_idx, y_idx, z_idx].set(weight / dx**3)\n",
    "\n",
    "    return grid"
   ]
  },
  {
   "cell_type": "code",
   "execution_count": 84,
   "metadata": {},
   "outputs": [],
   "source": [
    "def loss(params, grid_star : jax.Array, dx : float) -> jax.Array:\n",
    "    pos = params[\"pos\"]\n",
    "    weight = params[\"weight\"]\n",
    "    grid_size = grid_star.shape[0]\n",
    "    grid = linear(pos, weight, grid_size, dx)\n",
    "\n",
    "    loss = jnp.mean((grid - grid_star)**2)\n",
    "    return loss"
   ]
  },
  {
   "cell_type": "code",
   "execution_count": 102,
   "metadata": {},
   "outputs": [],
   "source": [
    "def optimize(params, grid_star : jax.Array, dx : float, n_steps : int) -> jax.Array:\n",
    "\n",
    "    optimizer = optax.adam(1e-5)\n",
    "    opt_state = optimizer.init(params)\n",
    "\n",
    "    loss_grad = jax.grad(loss)\n",
    "\n",
    "    @jax.jit\n",
    "    def step(params, opt_state):\n",
    "        grad = loss_grad(params, grid_star, dx)\n",
    "        updates, opt_state = optimizer.update(grad, opt_state)\n",
    "        params = optax.apply_updates(params, updates)\n",
    "        return params, opt_state\n",
    "    \n",
    "    for i in range(n_steps):\n",
    "        params, opt_state = step(params, opt_state)\n",
    "        # print(loss(params, grid_star, dx))\n",
    "\n",
    "    return params"
   ]
  },
  {
   "cell_type": "code",
   "execution_count": 100,
   "metadata": {},
   "outputs": [
    {
     "name": "stdout",
     "output_type": "stream",
     "text": [
      "340.67435\n"
     ]
    }
   ],
   "source": [
    "N = 1000\n",
    "grid_size = 10\n",
    "dx = 0.1\n",
    "\n",
    "key = jax.random.key(0)\n",
    "\n",
    "key_pos, key_weight = jax.random.split(key)\n",
    "\n",
    "# create particles\n",
    "pos = jax.random.uniform(key_pos, (3, N))\n",
    "weight = jax.random.uniform(key_weight, (N,))\n",
    "\n",
    "# assign particles \n",
    "grid_star = linear(pos, weight, grid_size, dx)\n",
    "\n",
    "print(grid_star.mean())"
   ]
  },
  {
   "cell_type": "code",
   "execution_count": 103,
   "metadata": {},
   "outputs": [
    {
     "data": {
      "image/png": "[encoded data removed]",
      "text/plain": [
       "<Figure size 640x480 with 2 Axes>"
      ]
     },
     "metadata": {},
     "output_type": "display_data"
    }
   ],
   "source": [
    "key = jax.random.key(1)\n",
    "\n",
    "key_pos, key_weight = jax.random.split(key)\n",
    "\n",
    "pos = jax.random.uniform(key_pos, (3, N)) \n",
    "weight = jax.random.uniform(key_weight, (N, ))\n",
    "\n",
    "params_init = {\n",
    "    'pos' : pos,\n",
    "    'weight' : weight}\n",
    "\n",
    "\n",
    "params = optimize(params_init, grid_star, dx, 10000)\n",
    "\n",
    "grid = linear(params[\"pos\"], params[\"weight\"], grid_size, 0.1)\n",
    "\n",
    "# plot side by side\n",
    "plt.figure()\n",
    "plt.subplot(1, 2, 1)\n",
    "plt.imshow(grid_star.sum(axis=0))\n",
    "plt.subplot(1, 2, 2)\n",
    "plt.imshow(grid.sum(axis=0))\n",
    "plt.show()"
   ]
  },
  {
   "cell_type": "code",
   "execution_count": 91,
   "metadata": {},
   "outputs": [],
   "source": [
    "# # cic mass assignment\n",
    "# def cic(pos : jax.Array, weight : jax.Array, grid_size : int, dx : float) -> jax.Array:\n",
    "\n",
    "#     coords = jnp.linspace(start=0, stop=1, num=grid_size+1)\n",
    "#     x, y, z = jnp.meshgrid(coords, coords, coords)\n",
    "\n",
    "#     grid = jnp.zeros((grid_size, grid_size, grid_size))\n",
    "\n",
    "#     # find position on the grid\n",
    "#     x_idx = jnp.digitize(pos[0], coords, right=True) - 1\n",
    "#     y_idx = jnp.digitize(pos[1], coords, right=True) - 1\n",
    "#     z_idx = jnp.digitize(pos[2], coords, right=True) - 1\n",
    "\n",
    "#     x_cell = coords[x_idx]\n",
    "#     y_cell = coords[y_idx]\n",
    "#     z_cell = coords[z_idx]\n",
    "\n",
    "#     # center values\n",
    "#     values = (x - x_cell) * (y - y_cell) * (z - z_cell) * weight / dx**3\n",
    "#     grid = grid.at[x_idx, y_idx, z_idx].set(values)\n",
    "\n",
    "#     return grid"
   ]
  },
  {
   "cell_type": "code",
   "execution_count": 71,
   "metadata": {},
   "outputs": [
    {
     "name": "stdout",
     "output_type": "stream",
     "text": [
      "0.3333149\n"
     ]
    }
   ],
   "source": [
    "k1, k2 = jax.random.split(key)\n",
    "rand = jax.random.uniform(k1, (100, 100, 100))\n",
    "rand2 = jax.random.uniform(k2, (100, 100, 100))\n",
    "\n",
    "print(jnp.mean((rand - jnp.zeros((100, 100, 100)))**2))"
   ]
  },
  {
   "cell_type": "code",
   "execution_count": null,
   "metadata": {},
   "outputs": [],
   "source": []
  }
 ],
 "metadata": {
  "kernelspec": {
   "display_name": "ml-env",
   "language": "python",
   "name": "python3"
  },
  "language_info": {
   "codemirror_mode": {
    "name": "ipython",
    "version": 3
   },
   "file_extension": ".py",
   "mimetype": "text/x-python",
   "name": "python",
   "nbconvert_exporter": "python",
   "pygments_lexer": "ipython3",
   "version": "3.12.4"
  }
 },
 "nbformat": 4,
 "nbformat_minor": 2
}
