{
 "cells": [
  {
   "cell_type": "code",
   "execution_count": 3,
   "metadata": {},
   "outputs": [],
   "source": [
    "import jax\n",
    "import jax.numpy as jnp"
   ]
  },
  {
   "cell_type": "code",
   "execution_count": 4,
   "metadata": {},
   "outputs": [
    {
     "name": "stdout",
     "output_type": "stream",
     "text": [
      "Unexpected exception formatting exception. Falling back to standard exception\n"
     ]
    },
    {
     "name": "stderr",
     "output_type": "stream",
     "text": [
      "Traceback (most recent call last):\n",
      "  File \"/data/arehma/conda/envs/ml-env/lib/python3.12/site-packages/IPython/core/interactiveshell.py\", line 2168, in showtraceback\n",
      "  File \"/data/arehma/conda/envs/ml-env/lib/python3.12/site-packages/IPython/core/ultratb.py\", line 1454, in structured_traceback\n",
      "  File \"/data/arehma/conda/envs/ml-env/lib/python3.12/site-packages/IPython/core/ultratb.py\", line 1345, in structured_traceback\n",
      "  File \"/data/arehma/conda/envs/ml-env/lib/python3.12/site-packages/IPython/core/ultratb.py\", line 1192, in structured_traceback\n",
      "  File \"/data/arehma/conda/envs/ml-env/lib/python3.12/site-packages/IPython/core/ultratb.py\", line 1082, in format_exception_as_a_whole\n",
      "  File \"/data/arehma/conda/envs/ml-env/lib/python3.12/site-packages/IPython/core/ultratb.py\", line 1157, in get_records\n",
      "  File \"/data/arehma/conda/envs/ml-env/lib/python3.12/site-packages/IPython/core/ultratb.py\", line 184, in get_line_number_of_frame\n",
      "  File \"/data/arehma/conda/envs/ml-env/lib/python3.12/site-packages/IPython/core/ultratb.py\", line 149, in count_lines_in_py_file\n",
      "MemoryError\n"
     ]
    }
   ],
   "source": [
    "N = 100\n",
    "\n",
    "key = jax.random.key(0)\n",
    "\n",
    "# create particles\n",
    "pos = jax.random.uniform(key, (3, N))"
   ]
  },
  {
   "cell_type": "code",
   "execution_count": null,
   "metadata": {},
   "outputs": [],
   "source": []
  }
 ],
 "metadata": {
  "kernelspec": {
   "display_name": "ml-env",
   "language": "python",
   "name": "python3"
  },
  "language_info": {
   "codemirror_mode": {
    "name": "ipython",
    "version": 3
   },
   "file_extension": ".py",
   "mimetype": "text/x-python",
   "name": "python",
   "nbconvert_exporter": "python",
   "pygments_lexer": "ipython3",
   "version": "3.12.4"
  }
 },
 "nbformat": 4,
 "nbformat_minor": 2
}
