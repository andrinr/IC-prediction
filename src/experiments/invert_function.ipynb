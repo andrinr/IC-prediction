{
 "cells": [
  {
   "cell_type": "markdown",
   "metadata": {},
   "source": [
    "# Reverse Time Integration"
   ]
  },
  {
   "cell_type": "code",
   "execution_count": 1,
   "metadata": {},
   "outputs": [],
   "source": [
    "using Plots\n",
    "using Random\n",
    "using Statistics\n",
    "using CUDA"
   ]
  },
  {
   "cell_type": "code",
   "execution_count": 2,
   "metadata": {},
   "outputs": [],
   "source": [
    "mutable struct Particles\n",
    "    n :: Int\n",
    "    pos :: AbstractArray{Float64, 2}\n",
    "    vel :: AbstractArray{Float64, 2}\n",
    "end"
   ]
  },
  {
   "cell_type": "code",
   "execution_count": 15,
   "metadata": {},
   "outputs": [
    {
     "data": {
      "text/plain": [
       "gravity (generic function with 1 method)"
      ]
     },
     "metadata": {},
     "output_type": "display_data"
    }
   ],
   "source": [
    "function gravity(particles::Particles) :: AbstractArray{Float64, 2}\n",
    "    vec_x = particles.pos[1, :] .- particles.pos[1, :]'\n",
    "    vec_y = particles.pos[2, :] .- particles.pos[2, :]'\n",
    "    vec_z = particles.pos[3, :] .- particles.pos[3, :]'\n",
    "\n",
    "    # softening ~ average spacing and ^2\n",
    "    # maybe look into softening methods\n",
    "    r_sq = (vec_x.^2 + vec_y.^2 + vec_z.^2) .+ 1e-5\n",
    "\n",
    "    # ungebunden -> kinetic energy higher than potential energy by gravity\n",
    "\n",
    "    force_x = -vec_x ./ r_sq\n",
    "    force_y = -vec_y ./ r_sq\n",
    "    force_z = -vec_z ./ r_sq\n",
    "\n",
    "    force_x = sum(force_x, dims=2)\n",
    "    force_y = sum(force_y, dims=2)\n",
    "    force_z = sum(force_z, dims=2)\n",
    "\n",
    "    force = [force_x force_y force_z]\n",
    "\n",
    "    return transpose(force)\n",
    "end"
   ]
  },
  {
   "cell_type": "code",
   "execution_count": 4,
   "metadata": {},
   "outputs": [
    {
     "data": {
      "text/plain": [
       "rev_kdk (generic function with 1 method)"
      ]
     },
     "metadata": {},
     "output_type": "display_data"
    }
   ],
   "source": [
    "# kick drift kick / leap frog\n",
    "function kdk(particles::Particles, dt::Float64)\n",
    "    # compute a(t)\n",
    "    force = gravity(particles)\n",
    "    # v(t + dt/2) = v(t) + a(t) * dt/2\n",
    "    particles.vel .+= force .* dt / 2\n",
    "    # x(t + dt) = x(t) + v(t + dt/2) * dt\n",
    "    particles.pos .+= particles.vel .* dt\n",
    "    # a(t + dt)\n",
    "    force = gravity(particles)\n",
    "    # v(t + dt) = v(t + dt/2) + a(t + dt) * dt/2\n",
    "    particles.vel .+= force .* dt / 2\n",
    "end\n",
    "\n",
    "# reverse time integration\n",
    "function rev_kdk(particles::Particles, dt::Float64)\n",
    "    # compute a(t)\n",
    "    force = gravity(particles)\n",
    "    # v(t - dt/2) = v(t) - a(t) * dt/2\n",
    "    particles.vel .-= force .* dt / 2\n",
    "    # compute x(t - dt)\n",
    "    particles.pos .-= particles.vel .* dt\n",
    "    # a(t - dt)\n",
    "    force = gravity(particles)\n",
    "    # v(t - dt) = v(t - dt/2) - a(t - dt) * dt/2\n",
    "    particles.vel .-= force .* dt / 2\n",
    "end"
   ]
  },
  {
   "cell_type": "code",
   "execution_count": 16,
   "metadata": {},
   "outputs": [
    {
     "data": {
      "text/plain": [
       "compute_reverse_error (generic function with 1 method)"
      ]
     },
     "metadata": {},
     "output_type": "display_data"
    }
   ],
   "source": [
    "\n",
    "function compute_reverse_error(\n",
    "    n_particles::Int, n_steps::Int, n_dims::Int, dt::Float64    ) :: Float64\n",
    "\n",
    "    pos = rand(Float64, (n_dims, n_particles)).-0.5\n",
    "    vel = rand(Float64, (n_dims, n_particles)).-0.5\n",
    "\n",
    "    pos_ic = Array(pos)\n",
    "\n",
    "    particles = Particles(n_particles, pos, vel)\n",
    "\n",
    "    # do the forward simulation\n",
    "    for i in 1:n_steps\n",
    "        kdk(particles, dt)\n",
    "    end\n",
    "\n",
    "    for i in 1:n_steps-1\n",
    "        rev_kdk(particles, dt)\n",
    "    end\n",
    "\n",
    "    pos_end = Array(particles.pos)\n",
    "\n",
    "    # compute the error\n",
    "    error = sum((pos_ic .- pos_end).^2) / n_particles\n",
    "    return error\n",
    "\n",
    "end"
   ]
  },
  {
   "cell_type": "code",
   "execution_count": 6,
   "metadata": {},
   "outputs": [
    {
     "data": {
      "text/plain": [
       "5"
      ]
     },
     "metadata": {},
     "output_type": "display_data"
    }
   ],
   "source": [
    "n_measures = 8\n",
    "n_shots = 5"
   ]
  },
  {
   "cell_type": "code",
   "execution_count": 17,
   "metadata": {},
   "outputs": [],
   "source": [
    "# lets see if the error increases with higher dt\n",
    "\n",
    "errors_dt = zeros(n_measures)\n",
    "errors_dt_std = zeros(n_measures)\n",
    "\n",
    "# log scale range of dts\n",
    "dts = 10.0.^(range(-3,stop=-1,length=n_measures))\n",
    "\n",
    "for i in 1:n_measures\n",
    "    errors = zeros(n_shots)\n",
    "    n_steps = Int(floor(1.0 / dts[i]))\n",
    "    for j in 1:n_shots\n",
    "        errors[j] += compute_reverse_error(100, n_steps, 3, dts[i])\n",
    "    end\n",
    "    errors_dt_std[i] = std(errors)\n",
    "    errors_dt[i] = mean(errors)\n",
    "end"
   ]
  },
  {
   "cell_type": "code",
   "execution_count": 18,
   "metadata": {},
   "outputs": [],
   "source": [
    "# lets see if it also increase with more particle\n",
    "errors_n = zeros(n_measures)\n",
    "errors_n_std = zeros(n_measures)\n",
    "# range of num_particles\n",
    "num_particles = range(10, stop=400, length=n_measures)\n",
    "\n",
    "for i in 1:n_measures\n",
    "    errors = zeros(n_shots)\n",
    "    for j in 1:n_shots\n",
    "        Random.seed!(j)\n",
    "        errors[j] += compute_reverse_error(Int(floor(num_particles[i])), 40, 3, 1e-2)\n",
    "    end\n",
    "    errors_n_std[i] = std(errors)\n",
    "    errors_n[i] = mean(errors)\n",
    "end\n"
   ]
  },
  {
   "cell_type": "code",
   "execution_count": 21,
   "metadata": {},
   "outputs": [],
   "source": [
    "# lets see if it also increase with more time steps\n",
    "errors_steps = zeros(n_measures)\n",
    "errors_steps_std = zeros(n_measures)\n",
    "\n",
    "# range of num_particles\n",
    "num_steps = 10.0.^(range(2,stop=3,length=n_measures))\n",
    "\n",
    "\n",
    "for i in 1:n_measures\n",
    "    errors = zeros(n_shots)\n",
    "    for j in 1:n_shots\n",
    "        Random.seed!(j)\n",
    "        errors[j] += compute_reverse_error(100, Int(floor(num_steps[i])), 3, 1e-2)\n",
    "    end\n",
    "    errors_steps_std[i] = std(errors)\n",
    "    errors_steps[i] = mean(errors)\n",
    "end"
   ]
  },
  {
   "cell_type": "code",
   "execution_count": 22,
   "metadata": {},
   "outputs": [
    {
     "data": {
      "text/plain": [
       "\"c:\\\\Users\\\\andri\\\\projects\\\\msc-thesis\\\\experiments\\\\error.png\""
      ]
     },
     "metadata": {},
     "output_type": "display_data"
    }
   ],
   "source": [
    "p1 = plot(dts, errors_dt, xaxis=:log, yaxis=:log, label=\"dt\", xlabel=\"dt\", ylabel=\"error\", title=\"Error vs dt\")\n",
    "p2 = plot(num_particles, errors_n, xaxis=:log, yaxis=:log, label=\"num_particles\", xlabel=\"num_particles\", ylabel=\"error\", title=\"Error vs num_particles\")\n",
    "p3 = plot(num_steps, errors_steps, xaxis=:log, yaxis=:log, label=\"num_steps\", xlabel=\"num_steps\", ylabel=\"error\", title=\"Error vs num_steps\")\n",
    "# set text size\n",
    "\n",
    "plot(p1, p2, p3, layout=(1,3), legend=:topleft, size=(1000, 300), margin=5Plots.mm)\n",
    "savefig(\"error.png\")\n"
   ]
  },
  {
   "cell_type": "code",
   "execution_count": null,
   "metadata": {},
   "outputs": [],
   "source": []
  }
 ],
 "metadata": {
  "kernelspec": {
   "display_name": "Julia 1.10.3",
   "language": "julia",
   "name": "julia-1.10"
  },
  "language_info": {
   "file_extension": ".jl",
   "mimetype": "application/julia",
   "name": "julia",
   "version": "1.10.3"
  }
 },
 "nbformat": 4,
 "nbformat_minor": 2
}
