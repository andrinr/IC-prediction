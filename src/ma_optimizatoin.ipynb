{
 "cells": [
  {
   "cell_type": "code",
   "execution_count": 1,
   "metadata": {},
   "outputs": [],
   "source": [
    "import jax\n",
    "import jax.numpy as jnp\n",
    "import matplotlib.pyplot as plt\n",
    "import optax\n",
    "from functools import partial\n",
    "from field import cic_ma"
   ]
  },
  {
   "cell_type": "code",
   "execution_count": 15,
   "metadata": {},
   "outputs": [],
   "source": [
    "def loss(pos : jax.Array, mass : jax.Array, grid_star : jax.Array) -> jax.Array:\n",
    "    grid_size = grid_star.shape[0]\n",
    "    grid = cic_ma(pos, mass, grid_size)\n",
    "\n",
    "    loss = jnp.mean((grid - grid_star)**2)\n",
    "    return loss"
   ]
  },
  {
   "cell_type": "code",
   "execution_count": 20,
   "metadata": {},
   "outputs": [],
   "source": [
    "def optimize(pos, mass, grid_star : jax.Array, n_steps : int) -> jax.Array:\n",
    "\n",
    "    optimizer = optax.adam(1e-2)\n",
    "    opt_state = optimizer.init(pos)\n",
    "\n",
    "    loss_grad = jax.grad(loss, argnums=(0))\n",
    "\n",
    "    @jax.jit\n",
    "    def step(pos, mass, opt_state):\n",
    "        grad = loss_grad(pos, mass, grid_star)\n",
    "        updates, opt_state = optimizer.update(grad, opt_state)\n",
    "        pos = optax.apply_updates(pos, updates)\n",
    "        return pos, opt_state\n",
    "    \n",
    "    for i in range(n_steps):\n",
    "        pos, opt_state = step(pos, mass, opt_state)\n",
    "        print(loss(pos, mass, grid_star))\n",
    "\n",
    "    return pos"
   ]
  },
  {
   "cell_type": "code",
   "execution_count": 21,
   "metadata": {},
   "outputs": [
    {
     "name": "stdout",
     "output_type": "stream",
     "text": [
      "4.986879\n"
     ]
    }
   ],
   "source": [
    "N = 10000\n",
    "grid_size = 10\n",
    "dx = 0.1\n",
    "\n",
    "key = jax.random.key(0)\n",
    "\n",
    "key_pos, key_weight = jax.random.split(key)\n",
    "\n",
    "# create particles\n",
    "pos = jax.random.uniform(key_pos, (3, N))\n",
    "weight = jax.random.uniform(key_weight, (N,))\n",
    "\n",
    "# assign particles \n",
    "grid_star = cic_ma(pos, weight, grid_size)\n",
    "\n",
    "print(grid_star.mean())"
   ]
  },
  {
   "cell_type": "code",
   "execution_count": 23,
   "metadata": {},
   "outputs": [
    {
     "name": "stdout",
     "output_type": "stream",
     "text": [
      "0.35014108\n",
      "0.26301008\n",
      "0.3629744\n",
      "0.32924074\n",
      "0.23691934\n",
      "0.16706562\n",
      "0.13417692\n",
      "0.12292707\n",
      "0.11767631\n",
      "0.11018332\n",
      "0.09776467\n",
      "0.08314276\n",
      "0.070919275\n",
      "0.06253932\n",
      "0.056803036\n",
      "0.051870607\n",
      "0.046456784\n",
      "0.04143438\n",
      "0.037844718\n",
      "0.03525622\n",
      "0.03233153\n",
      "0.028671777\n",
      "0.02498126\n",
      "0.022242479\n",
      "0.020835234\n",
      "0.020045608\n",
      "0.018926654\n",
      "0.017214354\n",
      "0.0150836855\n",
      "0.012953959\n",
      "0.011369568\n",
      "0.010625837\n",
      "0.010555755\n",
      "0.010618803\n",
      "0.010223467\n",
      "0.009219034\n",
      "0.0079860855\n",
      "0.0069753155\n",
      "0.0063590454\n",
      "0.0061071254\n",
      "0.0060885386\n",
      "0.0060559036\n",
      "0.0057728747\n",
      "0.005244111\n",
      "0.004714605\n",
      "0.004428934\n",
      "0.0044011823\n",
      "0.0044057784\n",
      "0.0042429646\n",
      "0.003940096\n",
      "0.0036610821\n",
      "0.0035142242\n",
      "0.0034935363\n",
      "0.0035006092\n",
      "0.0034269327\n",
      "0.0032880146\n",
      "0.003167893\n",
      "0.003091481\n",
      "0.0030341311\n",
      "0.0029778196\n",
      "0.0029286528\n",
      "0.0028909424\n",
      "0.002859814\n",
      "0.0028272215\n",
      "0.0027868163\n",
      "0.002746905\n",
      "0.0027156924\n",
      "0.0026939705\n",
      "0.0026757033\n",
      "0.0026571848\n",
      "0.0026402853\n",
      "0.002620617\n",
      "0.0025987779\n",
      "0.0025823358\n",
      "0.002575938\n",
      "0.0025736738\n",
      "0.0025648747\n",
      "0.0025493184\n",
      "0.0025350223\n",
      "0.0025278765\n",
      "0.0025250483\n",
      "0.002521526\n",
      "0.002515804\n",
      "0.0025088503\n",
      "0.0025045294\n",
      "0.0025019203\n",
      "0.0024978055\n",
      "0.0024933496\n",
      "0.0024899088\n",
      "0.0024878916\n",
      "0.0024867197\n",
      "0.002484461\n",
      "0.0024816147\n",
      "0.0024796608\n",
      "0.002478405\n",
      "0.0024772782\n",
      "0.0024758799\n",
      "0.002474246\n",
      "0.002473089\n",
      "0.0024725725\n"
     ]
    },
    {
     "data": {
      "image/png": "[encoded data removed]",
      "text/plain": [
       "<Figure size 640x480 with 2 Axes>"
      ]
     },
     "metadata": {},
     "output_type": "display_data"
    }
   ],
   "source": [
    "key = jax.random.key(1)\n",
    "\n",
    "key_pos, key_weight = jax.random.split(key)\n",
    "\n",
    "pos = jax.random.uniform(key_pos, (3, N)) \n",
    "weight = jax.random.uniform(key_weight, (N, ))\n",
    "\n",
    "pos = optimize(pos, weight, grid_star, 100)\n",
    "\n",
    "grid = cic_ma(pos, weight, grid_size)\n",
    "\n",
    "# plot side by side\n",
    "plt.figure()\n",
    "plt.subplot(1, 2, 1)\n",
    "plt.imshow(grid_star.sum(axis=0))\n",
    "plt.subplot(1, 2, 2)\n",
    "plt.imshow(grid.sum(axis=0))\n",
    "plt.show()"
   ]
  },
  {
   "cell_type": "code",
   "execution_count": null,
   "metadata": {},
   "outputs": [],
   "source": []
  }
 ],
 "metadata": {
  "kernelspec": {
   "display_name": "ml-env",
   "language": "python",
   "name": "python3"
  },
  "language_info": {
   "codemirror_mode": {
    "name": "ipython",
    "version": 3
   },
   "file_extension": ".py",
   "mimetype": "text/x-python",
   "name": "python",
   "nbconvert_exporter": "python",
   "pygments_lexer": "ipython3",
   "version": "3.12.4"
  }
 },
 "nbformat": 4,
 "nbformat_minor": 2
}
