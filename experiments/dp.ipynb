{
 "cells": [
  {
   "cell_type": "code",
   "execution_count": 24,
   "metadata": {},
   "outputs": [],
   "source": [
    "using Plots\n",
    "using Random\n",
    "using Statistics\n",
    "using Enzyme"
   ]
  },
  {
   "cell_type": "code",
   "execution_count": 1,
   "metadata": {},
   "outputs": [
    {
     "data": {
      "text/plain": [
       "gravity (generic function with 1 method)"
      ]
     },
     "metadata": {},
     "output_type": "display_data"
    }
   ],
   "source": [
    "function gravity(pos :: AbstractArray{Float64, 2}) :: AbstractArray{Float64, 2}\n",
    "    vec_x = pos[1, :] .- pos[1, :]'\n",
    "    vec_y = pos[2, :] .- pos[2, :]'\n",
    "    vec_z = pos[3, :] .- pos[3, :]'\n",
    "\n",
    "    r_sq = (vec_x.^2 + vec_y.^2 + vec_z.^2) .+ 1e-5\n",
    "\n",
    "    force_x = -vec_x ./ r_sq\n",
    "    force_y = -vec_y ./ r_sq\n",
    "    force_z = -vec_z ./ r_sq\n",
    "\n",
    "    force_x = sum(force_x, dims=2)\n",
    "    force_y = sum(force_y, dims=2)\n",
    "    force_z = sum(force_z, dims=2)\n",
    "\n",
    "    force = [force_x force_y force_z]\n",
    "\n",
    "    return transpose(force)\n",
    "end"
   ]
  },
  {
   "cell_type": "code",
   "execution_count": 20,
   "metadata": {},
   "outputs": [
    {
     "data": {
      "text/plain": [
       "kdk! (generic function with 1 method)"
      ]
     },
     "metadata": {},
     "output_type": "display_data"
    }
   ],
   "source": [
    "function kdk!(\n",
    "    pos_t0 :: AbstractArray{Float64, 2},\n",
    "    vel_t0 :: AbstractArray{Float64, 2},\n",
    "    pos_t1 :: AbstractArray{Float64, 2},\n",
    "    vel_t1 :: AbstractArray{Float64, 2},\n",
    "    dt :: Float64) :: Nothing\n",
    "    \n",
    "    # compute a(t)\n",
    "    force_t0 = gravity(pos_t0)\n",
    "    # v(t + dt/2) = v(t) + a(t) * dt/2\n",
    "    vel_t1 .+= force_t0 .* dt / 2\n",
    "    # x(t + dt) = x(t) + v(t + dt/2) * dt\n",
    "    pos_t1 .+= vel_t1 .* dt\n",
    "    # a(t + dt)\n",
    "    force_t1 = gravity(pos_t1)\n",
    "    # v(t + dt) = v(t + dt/2) + a(t + dt) * dt/2\n",
    "    vel_t1 .+= force_t1 .* dt / 2    \n",
    "\n",
    "    return nothing\n",
    "end"
   ]
  },
  {
   "cell_type": "code",
   "execution_count": 21,
   "metadata": {},
   "outputs": [
    {
     "data": {
      "text/plain": [
       "forward! (generic function with 1 method)"
      ]
     },
     "metadata": {},
     "output_type": "display_data"
    }
   ],
   "source": [
    "function forward!(\n",
    "    pos :: AbstractArray{Float64, 3},\n",
    "    vel :: AbstractArray{Float64, 3},\n",
    "    dt :: Float64,\n",
    "    n_steps :: Int) :: Nothing\n",
    "\n",
    "    for i in 1:n_steps\n",
    "        kdk(\n",
    "            view(pos, i, :, :),\n",
    "            view(vel, i, :, :),\n",
    "            view(pos, i+1, :, :),\n",
    "            view(vel, i+1, :, :),\n",
    "            dt)\n",
    "    end\n",
    "\n",
    "    return nothing\n",
    "end"
   ]
  },
  {
   "cell_type": "markdown",
   "metadata": {},
   "source": [
    "Initialize and compute the forward pass"
   ]
  },
  {
   "cell_type": "code",
   "execution_count": 22,
   "metadata": {},
   "outputs": [
    {
     "data": {
      "text/plain": [
       "3×50 view(::Array{Float64, 3}, 1, :, :) with eltype Float64:\n",
       "  0.0711079  -0.121845   1.35599   …  1.71407   -0.391519  -0.976129\n",
       " -1.51845     2.18974    0.562172     0.122297   1.34041    1.11806\n",
       "  0.842503    0.94564   -0.686825     0.312992  -1.28875   -0.235379"
      ]
     },
     "metadata": {},
     "output_type": "display_data"
    }
   ],
   "source": [
    "n_particles = 50\n",
    "n_steps = 200\n",
    "\n",
    "pos = zeros(Float64, (n_steps+1, 3, n_particles))\n",
    "vel = zeros(Float64, (n_steps+1, 3, n_particles))\n",
    "\n",
    "pos_t0 = randn(Float64, (3, n_particles))\n",
    "\n",
    "pos[1, :, :] .= pos_t0\n",
    "\n",
    "forward(pos, vel, 0.01, n_steps)"
   ]
  },
  {
   "cell_type": "markdown",
   "metadata": {},
   "source": [
    "Let us define the loss function."
   ]
  },
  {
   "cell_type": "code",
   "execution_count": 53,
   "metadata": {},
   "outputs": [
    {
     "data": {
      "text/plain": [
       "loss! (generic function with 1 method)"
      ]
     },
     "metadata": {},
     "output_type": "display_data"
    }
   ],
   "source": [
    "function loss!(\n",
    "    pos_tn :: AbstractArray{Float64, 2},\n",
    "    pos_tn_star :: AbstractArray{Float64, 2},\n",
    "    loss :: AbstractArray{Float64, 2}) :: Nothing\n",
    "\n",
    "    loss = (pos_tn .- pos_tn_star).^2\n",
    "\n",
    "    return nothing\n",
    "end"
   ]
  },
  {
   "cell_type": "markdown",
   "metadata": {},
   "source": [
    "We can now find the loss with respect to the final positions of the particles."
   ]
  },
  {
   "cell_type": "code",
   "execution_count": 54,
   "metadata": {},
   "outputs": [
    {
     "name": "stdout",
     "output_type": "stream",
     "text": [
      "Loss: [0.0 0.0 0.0 0.0 0.0 0.0 0.0 0.0 0.0 0.0 0.0 0.0 0.0 0.0 0.0 0.0 0.0 0.0 0.0 0.0 0.0 0.0 0.0 0.0 0.0 0.0 0.0 0.0 0.0 0.0 0.0 0.0 0.0 0.0 0.0 0.0 0.0 0.0 0.0 0.0 0.0 0.0 0.0 0.0 0.0 0.0 0.0 0.0 0.0 0.0; 0.0 0.0 0.0 0.0 0.0 0.0 0.0 0.0 0.0 0.0 0.0 0.0 0.0 0.0 0.0 0.0 0.0 0.0 0.0 0.0 0.0 0.0 0.0 0.0 0.0 0.0 0.0 0.0 0.0 0.0 0.0 0.0 0.0 0.0 0.0 0.0 0.0 0.0 0.0 0.0 0.0 0.0 0.0 0.0 0.0 0.0 0.0 0.0 0.0 0.0; 0.0 0.0 0.0 0.0 0.0 0.0 0.0 0.0 0.0 0.0 0.0 0.0 0.0 0.0 0.0 0.0 0.0 0.0 0.0 0.0 0.0 0.0 0.0 0.0 0.0 0.0 0.0 0.0 0.0 0.0 0.0 0.0 0.0 0.0 0.0 0.0 0.0 0.0 0.0 0.0 0.0 0.0 0.0 0.0 0.0 0.0 0.0 0.0 0.0 0.0]\n"
     ]
    }
   ],
   "source": [
    "pos_tn_star = zeros(Float64, (3, n_particles))\n",
    "pos_tn_star[1, :] = range(-1, 1, length=n_particles)\n",
    "loss_value = zeros(Float64, (3, n_particles))\n",
    "\n",
    "loss!(pos[end, :, :], pos_tn_star, loss_value)\n",
    "\n",
    "println(\"Loss: \", loss_value)"
   ]
  },
  {
   "cell_type": "markdown",
   "metadata": {},
   "source": [
    "We introduce the backward function, which passes the gradients through the simulation."
   ]
  },
  {
   "cell_type": "code",
   "execution_count": null,
   "metadata": {},
   "outputs": [],
   "source": [
    "\n",
    "# lets get the loss gradient\n",
    "partial_loss = zeros(Float64, (3, n_particles))\n",
    "\n",
    "autodiff(\n",
    "    Reverse,\n",
    "    loss,\n",
    "    pos[end, :, :],\n",
    ")"
   ]
  },
  {
   "cell_type": "code",
   "execution_count": 25,
   "metadata": {},
   "outputs": [
    {
     "data": {
      "text/plain": [
       "backward (generic function with 1 method)"
      ]
     },
     "metadata": {},
     "output_type": "display_data"
    }
   ],
   "source": [
    "function backward(\n",
    "    pos :: AbstractArray{Float64, 3},\n",
    "    vel :: AbstractArray{Float64, 3},\n",
    "    partial_pos :: AbstractArray{Float64, 3},\n",
    "    partial_vel :: AbstractArray{Float64, 3},\n",
    "    dt :: Float64,\n",
    "    n_steps :: Int) :: Nothing\n",
    "\n",
    "    for i in n_steps:-1:1\n",
    "\n",
    "        autodiff(\n",
    "            Reverse,\n",
    "            kdk,\n",
    "            Duplicated(view(pos, i, :, :), view(partial_pos, i, :, :)),\n",
    "            Duplicated(view(vel, i, :, :), view(partial_vel, i, :, :)),\n",
    "            Const(view(vel, i, :, :)),\n",
    "            Const(view(pos, i+1, :, :)),\n",
    "            Const(dt)\n",
    "        )\n",
    "        \n",
    "    end\n",
    "\n",
    "end\n",
    "    "
   ]
  },
  {
   "cell_type": "code",
   "execution_count": null,
   "metadata": {},
   "outputs": [],
   "source": []
  }
 ],
 "metadata": {
  "kernelspec": {
   "display_name": "Julia 1.10.3",
   "language": "julia",
   "name": "julia-1.10"
  },
  "language_info": {
   "file_extension": ".jl",
   "mimetype": "application/julia",
   "name": "julia",
   "version": "1.10.3"
  }
 },
 "nbformat": 4,
 "nbformat_minor": 2
}
