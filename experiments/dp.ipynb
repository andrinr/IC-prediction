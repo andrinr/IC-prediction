{
 "cells": [
  {
   "cell_type": "code",
   "execution_count": 1,
   "metadata": {},
   "outputs": [],
   "source": [
    "using Plots\n",
    "using Random\n",
    "using Statistics\n",
    "using Enzyme"
   ]
  },
  {
   "cell_type": "code",
   "execution_count": 8,
   "metadata": {},
   "outputs": [
    {
     "data": {
      "text/plain": [
       "gravity (generic function with 1 method)"
      ]
     },
     "metadata": {},
     "output_type": "display_data"
    }
   ],
   "source": [
    "@views function gravity(pos :: AbstractArray{Float64, 2}) :: AbstractArray{Float64, 2}\n",
    "    vec_x = pos[1, :] .- pos[1, :]'\n",
    "    vec_y = pos[2, :] .- pos[2, :]'\n",
    "    vec_z = pos[3, :] .- pos[3, :]'\n",
    "\n",
    "    r_sq = (vec_x.^2 + vec_y.^2 + vec_z.^2) .+ 1e-5\n",
    "\n",
    "    force_x = -vec_x ./ r_sq\n",
    "    force_y = -vec_y ./ r_sq\n",
    "    force_z = -vec_z ./ r_sq\n",
    "\n",
    "    force_x = sum(force_x, dims=2)\n",
    "    force_y = sum(force_y, dims=2)\n",
    "    force_z = sum(force_z, dims=2)\n",
    "\n",
    "    force = [force_x force_y force_z]\n",
    "\n",
    "    return transpose(force)\n",
    "end"
   ]
  },
  {
   "cell_type": "code",
   "execution_count": 9,
   "metadata": {},
   "outputs": [
    {
     "data": {
      "text/plain": [
       "kdk! (generic function with 1 method)"
      ]
     },
     "metadata": {},
     "output_type": "display_data"
    }
   ],
   "source": [
    "function kdk!(\n",
    "    pos_t0 :: AbstractArray{Float64, 2},\n",
    "    vel_t0 :: AbstractArray{Float64, 2},\n",
    "    pos_t1 :: AbstractArray{Float64, 2},\n",
    "    vel_t1 :: AbstractArray{Float64, 2},\n",
    "    dt :: Float64) :: Nothing\n",
    "    \n",
    "    # compute a(t)\n",
    "    force_t0 = gravity(pos_t0)\n",
    "    # v(t + dt/2) = v(t) + a(t) * dt/2\n",
    "    vel_t1 .+= force_t0 .* dt / 2\n",
    "    # x(t + dt) = x(t) + v(t + dt/2) * dt\n",
    "    pos_t1 .+= vel_t1 .* dt\n",
    "    # a(t + dt)\n",
    "    force_t1 = gravity(pos_t1)\n",
    "    # v(t + dt) = v(t + dt/2) + a(t + dt) * dt/2\n",
    "    vel_t1 .+= force_t1 .* dt / 2    \n",
    "\n",
    "    return nothing\n",
    "end"
   ]
  },
  {
   "cell_type": "code",
   "execution_count": 10,
   "metadata": {},
   "outputs": [
    {
     "data": {
      "text/plain": [
       "forward! (generic function with 1 method)"
      ]
     },
     "metadata": {},
     "output_type": "display_data"
    }
   ],
   "source": [
    "@views function forward!(\n",
    "    pos :: AbstractArray{Float64, 3},\n",
    "    vel :: AbstractArray{Float64, 3},\n",
    "    dt :: Float64,\n",
    "    n_steps :: Int) :: Nothing\n",
    "\n",
    "    for i in 1:n_steps\n",
    "        kdk!(\n",
    "            pos[i, :, :],\n",
    "            vel[i, :, :],\n",
    "            pos[i+1, :, :],\n",
    "            vel[i+1, :, :],\n",
    "            dt)\n",
    "    end\n",
    "\n",
    "    return nothing\n",
    "end"
   ]
  },
  {
   "cell_type": "markdown",
   "metadata": {},
   "source": [
    "Initialize and compute the forward pass"
   ]
  },
  {
   "cell_type": "code",
   "execution_count": 11,
   "metadata": {},
   "outputs": [],
   "source": [
    "n_particles = 50\n",
    "n_steps = 200\n",
    "\n",
    "pos = zeros(Float64, (n_steps+1, 3, n_particles))\n",
    "vel = zeros(Float64, (n_steps+1, 3, n_particles))\n",
    "\n",
    "pos_t0 = randn(Float64, (3, n_particles))\n",
    "\n",
    "pos[1, :, :] .= pos_t0\n",
    "\n",
    "forward!(pos, vel, 0.01, n_steps)"
   ]
  },
  {
   "cell_type": "markdown",
   "metadata": {},
   "source": [
    "Let us define the loss function."
   ]
  },
  {
   "cell_type": "code",
   "execution_count": 33,
   "metadata": {},
   "outputs": [
    {
     "data": {
      "text/plain": [
       "loss! (generic function with 1 method)"
      ]
     },
     "metadata": {},
     "output_type": "display_data"
    }
   ],
   "source": [
    "@views function loss!(\n",
    "    pos_tn :: AbstractArray{Float64, 2},\n",
    "    pos_tn_star :: AbstractArray{Float64, 2},\n",
    "    loss :: AbstractArray{Float64, 2}) :: Nothing\n",
    "\n",
    "    loss[:, :] = (pos_tn .- pos_tn_star).^2\n",
    "\n",
    "    return nothing\n",
    "end"
   ]
  },
  {
   "cell_type": "markdown",
   "metadata": {},
   "source": [
    "Now we can find the gradients of the loss with respect to the final positions of the particles."
   ]
  },
  {
   "cell_type": "code",
   "execution_count": 56,
   "metadata": {},
   "outputs": [
    {
     "data": {
      "text/plain": [
       "3×50 Matrix{Float64}:\n",
       " 2.0525       1.84907      1.78852    …  -1.84012    -1.86306    -1.92625\n",
       " 0.00413336  -0.00260682  -0.0597922     -0.0195634  -0.0491868   0.00554026\n",
       " 0.0562904   -0.0336393    0.0060033      0.0259994  -0.0211828   0.0202027"
      ]
     },
     "metadata": {},
     "output_type": "display_data"
    }
   ],
   "source": [
    "loss_values = zeros(Float64, (3, n_particles))\n",
    "partial_loss = ones(Float64, (3, n_particles))\n",
    "partial_pos = zeros(Float64, (n_steps+1, 3, n_particles))\n",
    "partial_vel = zeros(Float64, (n_steps+1, 3, n_particles))\n",
    "\n",
    "@views begin\n",
    "    autodiff(\n",
    "        Reverse,\n",
    "        loss!, \n",
    "        Duplicated(pos[end, :, :], partial_pos[end, :, :]),\n",
    "        Const(pos_tn_star),\n",
    "        Duplicated(loss_value, partial_loss))\n",
    "end\n",
    "\n",
    "partial_pos[end, :, :]"
   ]
  },
  {
   "cell_type": "markdown",
   "metadata": {},
   "source": [
    "We introduce the backward function, which passes the gradients through the simulation."
   ]
  },
  {
   "cell_type": "code",
   "execution_count": 59,
   "metadata": {},
   "outputs": [
    {
     "data": {
      "text/plain": [
       "backward (generic function with 1 method)"
      ]
     },
     "metadata": {},
     "output_type": "display_data"
    }
   ],
   "source": [
    "function backward(\n",
    "    pos :: AbstractArray{Float64, 3},\n",
    "    vel :: AbstractArray{Float64, 3},\n",
    "    partial_pos :: AbstractArray{Float64, 3},\n",
    "    partial_vel :: AbstractArray{Float64, 3},\n",
    "    dt :: Float64,\n",
    "    n_steps :: Int) :: Nothing\n",
    "\n",
    "    for i in n_steps:-1:1\n",
    "\n",
    "        autodiff(\n",
    "            Reverse,\n",
    "            kdk!,\n",
    "            Duplicated(view(pos, i, :, :), view(partial_pos, i, :, :)),\n",
    "            Duplicated(view(vel, i, :, :), view(partial_vel, i, :, :)),\n",
    "            Const(view(vel, i, :, :)),\n",
    "            Const(view(pos, i+1, :, :)),\n",
    "            Const(dt)\n",
    "        )\n",
    "        \n",
    "    end\n",
    "\n",
    "end\n",
    "    "
   ]
  },
  {
   "cell_type": "code",
   "execution_count": 60,
   "metadata": {},
   "outputs": [
    {
     "name": "stderr",
     "output_type": "stream",
     "text": [
      "\u001b[33m\u001b[1m┌ \u001b[22m\u001b[39m\u001b[33m\u001b[1mWarning: \u001b[22m\u001b[39mType does not have a definite number of fields\n",
      "\u001b[33m\u001b[1m│ \u001b[22m\u001b[39m  T = Tuple{Vararg{Base.OneTo{Int64}}}\n",
      "\u001b[33m\u001b[1m└ \u001b[22m\u001b[39m\u001b[90m@ Enzyme C:\\Users\\andri\\.julia\\packages\\GPUCompiler\\kqxyC\\src\\utils.jl:59\u001b[39m\n"
     ]
    },
    {
     "ename": "Enzyme.Compiler.EnzymeRuntimeException",
     "evalue": "Enzyme execution failed.\nMismatched activity for:   %value_phi87 = phi {} addrspace(10)* [ %103, %L187 ], [ %getfield, %L179 ] const val:   %getfield = load atomic {} addrspace(10)*, {} addrspace(10)* addrspace(11)* %getfield_addr unordered, align 8, !dbg !139, !tbaa !57, !alias.scope !90, !noalias !93, !nonnull !51, !dereferenceable !141, !align !142\n value=Unknown object of type Array{Float64, 3}\nYou may be using a constant variable as temporary storage for active memory (https://enzyme.mit.edu/julia/stable/faq/#Activity-of-temporary-storage). If not, please open an issue, and either rewrite this variable to not be conditionally active or use Enzyme.API.runtimeActivity!(true) as a workaround for now\n\nStacktrace:\n  [1] ==\n    @ .\\promotion.jl:521\n  [2] !=\n    @ .\\operators.jl:276\n  [3] _newindexer\n    @ .\\broadcast.jl:631\n  [4] shapeindexer\n    @ .\\broadcast.jl:626\n  [5] newindexer\n    @ .\\broadcast.jl:625\n  [6] extrude\n    @ .\\broadcast.jl:676\n  [7] preprocess\n    @ .\\broadcast.jl:984\n  [8] preprocess_args\n    @ .\\broadcast.jl:986\n  [9] preprocess\n    @ .\\broadcast.jl:983\n [10] copyto!\n    @ .\\broadcast.jl:1000\n [11] copyto!\n    @ .\\broadcast.jl:956\n [12] copy\n    @ .\\broadcast.jl:928\n [13] materialize\n    @ .\\broadcast.jl:903\n [14] gravity\n    @ c:\\Users\\andri\\projects\\msc-thesis\\experiments\\dp.ipynb:2\n",
     "output_type": "error",
     "traceback": [
      "Enzyme execution failed.\n",
      "Mismatched activity for:   %value_phi87 = phi {} addrspace(10)* [ %103, %L187 ], [ %getfield, %L179 ] const val:   %getfield = load atomic {} addrspace(10)*, {} addrspace(10)* addrspace(11)* %getfield_addr unordered, align 8, !dbg !139, !tbaa !57, !alias.scope !90, !noalias !93, !nonnull !51, !dereferenceable !141, !align !142\n",
      " value=Unknown object of type Array{Float64, 3}\n",
      "You may be using a constant variable as temporary storage for active memory (https://enzyme.mit.edu/julia/stable/faq/#Activity-of-temporary-storage). If not, please open an issue, and either rewrite this variable to not be conditionally active or use Enzyme.API.runtimeActivity!(true) as a workaround for now\n",
      "\n",
      "Stacktrace:\n",
      "  [1] ==\n",
      "    @ .\\promotion.jl:521\n",
      "  [2] !=\n",
      "    @ .\\operators.jl:276\n",
      "  [3] _newindexer\n",
      "    @ .\\broadcast.jl:631\n",
      "  [4] shapeindexer\n",
      "    @ .\\broadcast.jl:626\n",
      "  [5] newindexer\n",
      "    @ .\\broadcast.jl:625\n",
      "  [6] extrude\n",
      "    @ .\\broadcast.jl:676\n",
      "  [7] preprocess\n",
      "    @ .\\broadcast.jl:984\n",
      "  [8] preprocess_args\n",
      "    @ .\\broadcast.jl:986\n",
      "  [9] preprocess\n",
      "    @ .\\broadcast.jl:983\n",
      " [10] copyto!\n",
      "    @ .\\broadcast.jl:1000\n",
      " [11] copyto!\n",
      "    @ .\\broadcast.jl:956\n",
      " [12] copy\n",
      "    @ .\\broadcast.jl:928\n",
      " [13] materialize\n",
      "    @ .\\broadcast.jl:903\n",
      " [14] gravity\n",
      "    @ c:\\Users\\andri\\projects\\msc-thesis\\experiments\\dp.ipynb:2\n",
      "\n",
      "\n",
      "Stacktrace:\n",
      " [1] throwerr(cstr::Cstring)\n",
      "   @ Enzyme.Compiler C:\\Users\\andri\\.julia\\packages\\Enzyme\\MIIMf\\src\\compiler.jl:1285"
     ]
    }
   ],
   "source": [
    "backward(\n",
    "    pos,\n",
    "    vel,\n",
    "    partial_pos,\n",
    "    partial_vel,\n",
    "    0.01,\n",
    "    n_steps)"
   ]
  },
  {
   "cell_type": "code",
   "execution_count": null,
   "metadata": {},
   "outputs": [],
   "source": []
  }
 ],
 "metadata": {
  "kernelspec": {
   "display_name": "Julia 1.10.3",
   "language": "julia",
   "name": "julia-1.10"
  },
  "language_info": {
   "file_extension": ".jl",
   "mimetype": "application/julia",
   "name": "julia",
   "version": "1.10.3"
  }
 },
 "nbformat": 4,
 "nbformat_minor": 2
}
