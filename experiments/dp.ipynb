{
 "cells": [
  {
   "cell_type": "code",
   "execution_count": 1,
   "metadata": {},
   "outputs": [],
   "source": [
    "using Plots\n",
    "using Random\n",
    "using Statistics"
   ]
  },
  {
   "cell_type": "code",
   "execution_count": null,
   "metadata": {},
   "outputs": [],
   "source": [
    "function gravity(particles::Particles) :: AbstractArray{Float64, 2}\n",
    "    vec_x = particles.pos[1, :] .- particles.pos[1, :]'\n",
    "    vec_y = particles.pos[2, :] .- particles.pos[2, :]'\n",
    "    vec_z = particles.pos[3, :] .- particles.pos[3, :]'\n",
    "\n",
    "    r_sq = (vec_x.^2 + vec_y.^2 + vec_z.^2) .+ 1e-5\n",
    "\n",
    "    force_x = -vec_x ./ r_sq\n",
    "    force_y = -vec_y ./ r_sq\n",
    "    force_z = -vec_z ./ r_sq\n",
    "\n",
    "    force_x = sum(force_x, dims=2)\n",
    "    force_y = sum(force_y, dims=2)\n",
    "    force_z = sum(force_z, dims=2)\n",
    "\n",
    "    force = [force_x force_y force_z]\n",
    "\n",
    "    return transpose(force)\n",
    "end"
   ]
  }
 ],
 "metadata": {
  "kernelspec": {
   "display_name": "Julia 1.10.3",
   "language": "julia",
   "name": "julia-1.10"
  },
  "language_info": {
   "file_extension": ".jl",
   "mimetype": "application/julia",
   "name": "julia",
   "version": "1.10.3"
  }
 },
 "nbformat": 4,
 "nbformat_minor": 2
}
