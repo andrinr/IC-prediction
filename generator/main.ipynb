{
 "cells": [
  {
   "cell_type": "code",
   "execution_count": 117,
   "metadata": {},
   "outputs": [],
   "source": [
    "import jax.numpy as jnp\n",
    "import jax\n",
    "import jax.scipy as jsp\n",
    "import matplotlib.pyplot as plt"
   ]
  },
  {
   "cell_type": "markdown",
   "metadata": {},
   "source": [
    "Let us generate some dummy data."
   ]
  },
  {
   "cell_type": "code",
   "execution_count": 118,
   "metadata": {},
   "outputs": [
    {
     "name": "stdout",
     "output_type": "stream",
     "text": [
      "(50, 16, 16, 1)\n"
     ]
    }
   ],
   "source": [
    "def generate(key, n, m):\n",
    "    x_0 = jax.random.normal(key, (n, n))\n",
    "    x_hist = jnp.zeros((m, n, n))\n",
    "\n",
    "    window = jax.random.normal(key, (n, n))\n",
    "\n",
    "    # diffuse the initial condition over time with random kernel\n",
    "    x = x_0\n",
    "    for i in range(m):\n",
    "        x = x + 0.1 * jsp.signal.correlate(x, window, mode='same')\n",
    "    \n",
    "        x_hist = x_hist.at[i, :].set(x)\n",
    "\n",
    "    # unsqueeze\n",
    "    x_hist = x_hist.reshape((m, n, n, 1))\n",
    "\n",
    "    return x_hist\n",
    "\n",
    "n = 16\n",
    "m = 50\n",
    "key = jax.random.PRNGKey(0)\n",
    "data = generate(key, n, m)\n",
    "\n",
    "print(data.shape)"
   ]
  },
  {
   "cell_type": "code",
   "execution_count": 119,
   "metadata": {},
   "outputs": [
    {
     "data": {
      "image/png": "[encoded data removed]",
      "text/plain": [
       "<Figure size 2000x400 with 5 Axes>"
      ]
     },
     "metadata": {},
     "output_type": "display_data"
    }
   ],
   "source": [
    "# generate 5 plots in a row\n",
    "fig, axs = plt.subplots(1, 5, figsize=(20, 4))\n",
    "for i in range(5):\n",
    "    axs[i].imshow(data[i], cmap='gray')\n",
    "    axs[i].axis('off')"
   ]
  },
  {
   "cell_type": "code",
   "execution_count": 108,
   "metadata": {},
   "outputs": [],
   "source": [
    "from clu import metrics\n",
    "from flax import linen as nn\n",
    "from flax.training import train_state\n",
    "from flax import struct\n",
    "import optax"
   ]
  },
  {
   "cell_type": "code",
   "execution_count": 120,
   "metadata": {},
   "outputs": [],
   "source": [
    "class Encoder(nn.Module):\n",
    "\n",
    "    def setup(self):\n",
    "        self.conv1 = nn.Conv(features=4, kernel_size=(3, 3), strides=(2, 2))\n",
    "        self.conv2 = nn.Conv(features=8, kernel_size=(3, 3), strides=(2, 2))\n",
    "        self.conv3 = nn.Conv(features=16, kernel_size=(3, 3), strides=(2, 2))\n",
    "    \n",
    "    def __call__(self, x):\n",
    "        x = self.conv1(x)\n",
    "        x = jax.nn.relu(x)\n",
    "        x = self.conv2(x)\n",
    "        x = jax.nn.relu(x)\n",
    "        x = self.conv3(x)\n",
    "        x = jax.nn.relu(x)\n",
    "        return x"
   ]
  },
  {
   "cell_type": "code",
   "execution_count": 121,
   "metadata": {},
   "outputs": [],
   "source": [
    "class Decoder(nn.Module):\n",
    "\n",
    "    def setup(self):\n",
    "        self.conv1 = nn.ConvTranspose(features=8, kernel_size=(3, 3), strides=(2, 2))\n",
    "        self.conv2 = nn.ConvTranspose(features=4, kernel_size=(3, 3), strides=(2, 2))\n",
    "        self.conv3 = nn.ConvTranspose(features=1, kernel_size=(3, 3), strides=(2, 2))\n",
    "    \n",
    "    def __call__(self, x):\n",
    "        x = self.conv1(x)\n",
    "        x = jax.nn.relu(x)\n",
    "        x = self.conv2(x)\n",
    "        x = jax.nn.relu(x)\n",
    "        x = self.conv3(x)\n",
    "        x = jax.nn.relu(x)\n",
    "        return x"
   ]
  },
  {
   "cell_type": "code",
   "execution_count": 122,
   "metadata": {},
   "outputs": [],
   "source": [
    "class Autoencoder(nn.Module):\n",
    "\n",
    "    def setup(self):\n",
    "        self.encoder = Encoder()\n",
    "        self.decoder = Decoder()\n",
    "    \n",
    "    def __call__(self, x):\n",
    "        x = self.encoder(x)\n",
    "        x = self.decoder(x)\n",
    "        return x"
   ]
  },
  {
   "cell_type": "code",
   "execution_count": 235,
   "metadata": {},
   "outputs": [],
   "source": [
    "def create_train_state(module : Autoencoder, rng : jax.random.PRNGKey, n : int, learning_rate : float):\n",
    "  \"\"\"Creates an initial `TrainState`.\"\"\"\n",
    "  params = module.init(rng, jnp.ones([1, n, n, 1]))['params'] # initialize parameters by passing a template image\n",
    "  tx = optax.adam(learning_rate=learning_rate)\n",
    "  return train_state.TrainState.create(\n",
    "      apply_fn=module.apply, params=params, tx=tx)"
   ]
  },
  {
   "cell_type": "code",
   "execution_count": 239,
   "metadata": {},
   "outputs": [],
   "source": [
    "def reconstruction_loss(params, state, images):\n",
    "  prediction = state.apply_fn({'params': params}, images)\n",
    "  # print(prediction.shape, images.shape)\n",
    "  loss = jnp.mean(jnp.square(prediction - images))\n",
    "  return loss\n",
    "\n",
    "@jax.jit\n",
    "def train_step(state, images):\n",
    "\n",
    "  grad_fn = jax.value_and_grad(reconstruction_loss, argnums=0)\n",
    "  loss, grads = grad_fn(state.params, state, images)\n",
    "\n",
    "  state = state.apply_gradients(grads=grads)\n",
    "  return loss, state\n"
   ]
  },
  {
   "cell_type": "code",
   "execution_count": 242,
   "metadata": {},
   "outputs": [],
   "source": [
    "init_rng = jax.random.key(0)\n",
    "\n",
    "learning_rate = 0.0001\n",
    "\n",
    "autoencoder = Autoencoder()\n",
    "\n",
    "# test prediction\n",
    "state = create_train_state(autoencoder, init_rng, n, learning_rate)\n",
    "\n",
    "num_epochs = 1\n",
    "\n",
    "for epoch in range(num_epochs):\n",
    "\n",
    "    loss_sum = 0\n",
    "    for i in range(data.shape[0]):\n",
    "        loss, state = train_step(state, data[i])\n",
    "        print(loss)\n",
    "        loss_sum += loss\n",
    "\n",
    "    print(f'epoch {epoch}, loss {loss_sum / data.shape[0]}')\n"
   ]
  },
  {
   "cell_type": "code",
   "execution_count": null,
   "metadata": {},
   "outputs": [],
   "source": []
  }
 ],
 "metadata": {
  "kernelspec": {
   "display_name": "generator.env",
   "language": "python",
   "name": "python3"
  },
  "language_info": {
   "codemirror_mode": {
    "name": "ipython",
    "version": 3
   },
   "file_extension": ".py",
   "mimetype": "text/x-python",
   "name": "python",
   "nbconvert_exporter": "python",
   "pygments_lexer": "ipython3",
   "version": "3.10.12"
  }
 },
 "nbformat": 4,
 "nbformat_minor": 2
}
