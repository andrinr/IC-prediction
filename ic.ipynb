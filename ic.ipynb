{
 "cells": [
  {
   "cell_type": "markdown",
   "metadata": {},
   "source": [
    "# Generating IC's"
   ]
  },
  {
   "cell_type": "code",
   "execution_count": 6,
   "metadata": {},
   "outputs": [],
   "source": [
    "import jax.numpy as jnp\n",
    "import jax\n",
    "import matplotlib.pyplot as plt\n",
    "import os\n",
    "import pyccl as ccl"
   ]
  },
  {
   "cell_type": "markdown",
   "metadata": {},
   "source": [
    "We start by generating some white noise $n(\\mathbf{x})$"
   ]
  },
  {
   "cell_type": "code",
   "execution_count": 7,
   "metadata": {},
   "outputs": [],
   "source": [
    "size = 30 # Mpc/h\n",
    "n_grid = 128\n",
    "n = jax.random.normal(jax.random.PRNGKey(0), (n_grid, n_grid, n_grid))"
   ]
  },
  {
   "cell_type": "code",
   "execution_count": 9,
   "metadata": {},
   "outputs": [
    {
     "ename": "TypeError",
     "evalue": "angular_cl() missing 2 required positional arguments: 'tracer2' and 'ell'",
     "output_type": "error",
     "traceback": [
      "\u001b[0;31m---------------------------------------------------------------------------\u001b[0m",
      "\u001b[0;31mTypeError\u001b[0m                                 Traceback (most recent call last)",
      "Cell \u001b[0;32mIn[9], line 6\u001b[0m\n\u001b[1;32m      4\u001b[0m \u001b[38;5;66;03m# compute the power spectrum\u001b[39;00m\n\u001b[1;32m      5\u001b[0m ell \u001b[38;5;241m=\u001b[39m jnp\u001b[38;5;241m.\u001b[39marange(\u001b[38;5;241m1\u001b[39m, \u001b[38;5;241m10000\u001b[39m)\n\u001b[0;32m----> 6\u001b[0m cl \u001b[38;5;241m=\u001b[39m \u001b[43mccl\u001b[49m\u001b[38;5;241;43m.\u001b[39;49m\u001b[43mangular_cl\u001b[49m\u001b[43m(\u001b[49m\u001b[43mcosmo\u001b[49m\u001b[43m,\u001b[49m\u001b[43m \u001b[49m\u001b[43mell\u001b[49m\u001b[43m)\u001b[49m\n\u001b[1;32m      7\u001b[0m cl \u001b[38;5;241m=\u001b[39m jnp\u001b[38;5;241m.\u001b[39marray(cl)\n\u001b[1;32m      9\u001b[0m \u001b[38;5;66;03m# compute the 3D power spectrum\u001b[39;00m\n",
      "\u001b[0;31mTypeError\u001b[0m: angular_cl() missing 2 required positional arguments: 'tracer2' and 'ell'"
     ]
    }
   ],
   "source": [
    "cosmo = ccl.Cosmology(\n",
    "    Omega_c=0.25, Omega_b=0.05, h=0.7, A_s=2.1e-9, n_s=0.96, Neff=0, Omega_g=0)\n",
    "\n",
    "# compute the power spectrum\n",
    "ell = jnp.arange(1, 10000)\n",
    "cl = ccl.angular_cl(cosmo, ell)\n",
    "cl = jnp.array(cl)\n",
    "\n",
    "# compute the 3D power spectrum\n",
    "k = jnp.fft.fftfreq(n_grid, size/n_grid)\n",
    "k = jnp.sqrt(jnp.sum(jnp.square(k), axis=0))\n",
    "pk = ccl.nonlin_matter_power(cosmo, k)\n",
    "pk = jnp.array(pk)\n",
    "\n",
    "# compute the 3D field\n",
    "def get_field(n, pk):\n",
    "    n = jnp.fft.fftn(n)\n",
    "    n = jnp.fft.ifftn(n * jnp.sqrt(pk))\n",
    "    return n\n",
    "\n",
    "field = get_field(n, pk)\n",
    "\n",
    "# compute the 2D field\n",
    "def get_2d_field(field):\n",
    "    field = jnp.fft.fft2(field)\n",
    "    field = jnp.fft.fftshift(field)\n",
    "    field = jnp.abs(field)\n",
    "    return field\n",
    "\n",
    "field_2d = get_2d_field(field)\n",
    "\n",
    "# plot the 2D field\n",
    "plt.imshow(field_2d)\n"
   ]
  },
  {
   "cell_type": "code",
   "execution_count": null,
   "metadata": {},
   "outputs": [],
   "source": []
  }
 ],
 "metadata": {
  "kernelspec": {
   "display_name": "jax.env",
   "language": "python",
   "name": "python3"
  },
  "language_info": {
   "codemirror_mode": {
    "name": "ipython",
    "version": 3
   },
   "file_extension": ".py",
   "mimetype": "text/x-python",
   "name": "python",
   "nbconvert_exporter": "python",
   "pygments_lexer": "ipython3",
   "version": "3.10.12"
  }
 },
 "nbformat": 4,
 "nbformat_minor": 2
}
