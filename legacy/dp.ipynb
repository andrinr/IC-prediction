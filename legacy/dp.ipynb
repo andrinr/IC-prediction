{
 "cells": [
  {
   "cell_type": "markdown",
   "metadata": {},
   "source": [
    "# Differentiable Pysics for Initial Value Problems for ODEs\n",
    "\n",
    "We are given\n",
    "\n",
    "- $\\mathbf{u} \\in \\mathbb{R} \\rightarrow \\mathbb{R}^n$ which is the state of the system depending on time $t$.\n",
    "- $\\theta \\in \\mathbb{R}^p$ which are the parameters of the system.\n",
    "- $f: \\mathbb{R}^n \\times \\mathbb{R} \\times \\mathbb{R}^p \\rightarrow \\mathbb{R}^n$ which is the right hand side of the ODE.\n",
    "\n",
    "and the 1st order ODE is then\n",
    "\n",
    "$$\n",
    "\\frac{d \\mathbf{u}}{dt} = f(\\mathbf{u}, t, \\theta)\n",
    "$$\n",
    "\n",
    "where\n",
    "\n",
    "$$\\mathbf{u(t=0)} = \\mathbf{u}_0.$$\n",
    "\n",
    "Furthermore there is an objective formulated by a loss function\n",
    "\n",
    "$$ J(\\mathbf{u}, \\theta)  = \\int_0^T \\mathbf{g}(\\mathbf{u}, \\theta) dt $$\n",
    "\n",
    "where $\\mathbf{g}$ is a scalar function of $\\mathbf{u}$ and $\\theta$ for example the quadratic loss function\n",
    "\n",
    "$$ g(\\mathbf{u}, \\theta) = \\int_0^T \\frac{d}{d \\theta} \\mathbf(g)(\\mathbf{u}, \\theta) dt $$\n",
    "\n",
    "\n"
   ]
  },
  {
   "cell_type": "markdown",
   "metadata": {},
   "source": [
    "We are interested in the total derivate \n",
    "\n",
    "$$ \n",
    "\\frac{d J}{d \\theta} = \\int_0^T \\frac{\\partial \\mathbf{g}}{\\partial \\theta} dt + \\frac{\\partial \\mathbf{g}}{\\partial \\mathbf{u}} \\frac{d \\mathbf{u}}{d \\theta} dt$$\n",
    "\n",
    "where the integral stays, as the limits do not depend on the parameter vector $\\theta$. We then simply put the total derivative inside the integral. We can then take the derivate of $g$ where the first term is due to the explicit dependence on $\\theta$ and the second term comes from the implicit dependence\n",
    "\n",
    "We use the forward method to derive $\\frac{d \\mathbf{u}}{d \\theta} dt$, first lets rewrite the Jacobian as a column vector\n",
    "\n",
    "$$\n",
    "\\frac{d \\mathbf{u}}{d \\theta} = \\begin{bmatrix}\n",
    "\\frac{\\partial \\mathbf{u}}{\\partial \\theta_0} &&\n",
    "\\frac{\\partial \\mathbf{u}}{\\partial \\theta_1} &&\n",
    "\\frac{\\partial \\mathbf{u}}{\\partial \\theta_2} &&\n",
    "\\dots \n",
    "\\end{bmatrix}.\n",
    "$$\n",
    "\n",
    "We now derive the initial ODE with respect to $\\frac{d}{d\\theta_i}$\n",
    "\n",
    "\n",
    "$$\n",
    "\\frac{d}{d\\theta_i} \\frac{d \\mathbf{u}}{dt} = \\frac{d}{d\\theta_i} f(\\mathbf{u}, t, \\theta)\n",
    "$$\n",
    "\n",
    "and initial conditions\n",
    "\n",
    "$$\\frac{d \\mathbf{u}}{d\\theta_i}(0) = \\frac{d u_0}{d\\theta_i}.$$\n",
    "\n"
   ]
  },
  {
   "cell_type": "markdown",
   "metadata": {},
   "source": [
    "We can swap the order of the derivates \n",
    "\n",
    "$$\n",
    "\\frac{d}{d t} \\frac{d \\mathbf{u}}{d \\theta_i} = \n",
    "\\frac{\\partial f}{\\partial \\mathbf{u}} \\frac{\\partial \\mathbf{u}}{\\partial \\theta_i} + \n",
    "\\frac{\\partial f}{\\partial \\theta_i}\n",
    "$$\n",
    "\n",
    "where the initial values reamin the same. Essentially we have a system of ODE's for each of the columns in the Jacobian, which becomes clear if we replace $\\frac{d \\mathbf{u}}{d \\theta_i}$ by $\\mathbf{s}_i$\n",
    "\n",
    "$$\n",
    "\\frac{d}{d t} \\mathbf{s}_i = \n",
    "\\frac{\\partial f}{\\partial \\mathbf{u}} \\mathbf{s}_i + \n",
    "\\frac{\\partial f}{\\partial \\theta_i}\n",
    "$$\n",
    "\n",
    "This can be solved, the Jocobian built and the sensitivy can be done. However we have to solve $p$ such systems, which becomes infeasible for a large number of parameters."
   ]
  },
  {
   "cell_type": "markdown",
   "metadata": {},
   "source": [
    "Let us frame the task as an optimization problem:\n",
    "\n",
    "$$ \\min_{\\theta} J(\\mathbf{u}, \\theta) $$\n",
    "\n",
    "$$ \\text{s.t.} \\quad \\frac{d \\mathbf{u}}{dt} = f(\\mathbf{u}, t, \\theta) $$\n",
    "\n",
    "Which we can formulate as an equality constrained optimization problem\n",
    "\n",
    "$$ \\mathcal{L}(\\mathbf{u}, \\theta) = J(\\mathbf{u}, \\theta) + \\int_0^T \\lambda^T(t) \\left( \\frac{d \\mathbf{u}}{dt} - f(\\mathbf{u}, t, \\theta) \\right) dt $$\n",
    "\n",
    "where $\\lambda$ is the Lagrange multiplier. We can then derive the total derivative of the Lagrangian with respect to $\\theta$"
   ]
  },
  {
   "cell_type": "markdown",
   "metadata": {},
   "source": []
  }
 ],
 "metadata": {
  "language_info": {
   "name": "python"
  }
 },
 "nbformat": 4,
 "nbformat_minor": 2
}
